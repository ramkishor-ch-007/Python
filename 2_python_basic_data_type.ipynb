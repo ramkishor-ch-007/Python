{
 "cells": [
  {
   "cell_type": "code",
   "execution_count": 21,
   "id": "83c5650f-60fd-4818-89cc-6695fbfab16d",
   "metadata": {},
   "outputs": [],
   "source": [
    "# list can hold elements any type of data\n",
    "# mutable\n",
    "l = []"
   ]
  },
  {
   "cell_type": "code",
   "execution_count": 2,
   "id": "60062b9d-c052-4999-850d-e5ca743c7158",
   "metadata": {},
   "outputs": [
    {
     "data": {
      "text/plain": [
       "list"
      ]
     },
     "execution_count": 2,
     "metadata": {},
     "output_type": "execute_result"
    }
   ],
   "source": [
    "type(l)"
   ]
  },
  {
   "cell_type": "code",
   "execution_count": 14,
   "id": "80d3f500-3e45-47ce-974b-edaed42ea4c6",
   "metadata": {},
   "outputs": [],
   "source": [
    "l1 = [1,2,3,4,5, \"ram\",3+6j,34.56,[3,4,5,6]]"
   ]
  },
  {
   "cell_type": "code",
   "execution_count": 4,
   "id": "5a905a32-98ac-4fd7-98bc-71fd767da9ed",
   "metadata": {},
   "outputs": [
    {
     "data": {
      "text/plain": [
       "[1, 2, 3, 4, 5, 'ram', (3+6j), 34.56, [3, 4, 5, 6]]"
      ]
     },
     "execution_count": 4,
     "metadata": {},
     "output_type": "execute_result"
    }
   ],
   "source": [
    "l1"
   ]
  },
  {
   "cell_type": "code",
   "execution_count": 5,
   "id": "23474611-5f60-40e3-bfce-6dc460833203",
   "metadata": {},
   "outputs": [],
   "source": [
    "s='fdfgdg$%^%$^'"
   ]
  },
  {
   "cell_type": "code",
   "execution_count": 6,
   "id": "f45fe03a-afb7-4450-a075-2e940b2a53b8",
   "metadata": {},
   "outputs": [
    {
     "data": {
      "text/plain": [
       "'fdfgdg$%^%$^'"
      ]
     },
     "execution_count": 6,
     "metadata": {},
     "output_type": "execute_result"
    }
   ],
   "source": [
    "s"
   ]
  },
  {
   "cell_type": "code",
   "execution_count": 7,
   "id": "d4bcb28f-2756-47ee-8266-f529453cc27d",
   "metadata": {},
   "outputs": [
    {
     "data": {
      "text/plain": [
       "list"
      ]
     },
     "execution_count": 7,
     "metadata": {},
     "output_type": "execute_result"
    }
   ],
   "source": [
    "type(l1)"
   ]
  },
  {
   "cell_type": "code",
   "execution_count": 8,
   "id": "1bd37561-16fc-4e6e-b747-a84c34883c0e",
   "metadata": {},
   "outputs": [
    {
     "data": {
      "text/plain": [
       "'ram'"
      ]
     },
     "execution_count": 8,
     "metadata": {},
     "output_type": "execute_result"
    }
   ],
   "source": [
    "l1[5]"
   ]
  },
  {
   "cell_type": "code",
   "execution_count": 9,
   "id": "37781935-ced3-4d71-ab67-39f3a7bf493c",
   "metadata": {},
   "outputs": [
    {
     "data": {
      "text/plain": [
       "6"
      ]
     },
     "execution_count": 9,
     "metadata": {},
     "output_type": "execute_result"
    }
   ],
   "source": [
    "l1[-1][3]"
   ]
  },
  {
   "cell_type": "code",
   "execution_count": 10,
   "id": "12f74715-b0e9-43ea-86e7-34945a4864cf",
   "metadata": {},
   "outputs": [
    {
     "data": {
      "text/plain": [
       "[1, 2, 3, 4, 5]"
      ]
     },
     "execution_count": 10,
     "metadata": {},
     "output_type": "execute_result"
    }
   ],
   "source": [
    "l1[0:5]"
   ]
  },
  {
   "cell_type": "code",
   "execution_count": 20,
   "id": "e9e8aec1-3789-4e9f-beeb-9d72d0f4ba1e",
   "metadata": {},
   "outputs": [],
   "source": [
    "l2=[3,4,5,\"pwskills\",\"sudh\"]"
   ]
  },
  {
   "cell_type": "code",
   "execution_count": 12,
   "id": "fb7a5906-72b8-4dcd-a6a4-a1b9a385a8ce",
   "metadata": {},
   "outputs": [
    {
     "data": {
      "text/plain": [
       "[1,\n",
       " 2,\n",
       " 3,\n",
       " 4,\n",
       " 5,\n",
       " 'ram',\n",
       " (3+6j),\n",
       " 34.56,\n",
       " [3, 4, 5, 6],\n",
       " 3,\n",
       " 4,\n",
       " 5,\n",
       " 'pwskills',\n",
       " 'sudh']"
      ]
     },
     "execution_count": 12,
     "metadata": {},
     "output_type": "execute_result"
    }
   ],
   "source": [
    "l1+l2"
   ]
  },
  {
   "cell_type": "code",
   "execution_count": 13,
   "id": "188a15d2-9f1a-445c-b076-28ec56959fd5",
   "metadata": {},
   "outputs": [
    {
     "ename": "TypeError",
     "evalue": "can only concatenate list (not \"str\") to list",
     "output_type": "error",
     "traceback": [
      "\u001b[0;31m---------------------------------------------------------------------------\u001b[0m",
      "\u001b[0;31mTypeError\u001b[0m                                 Traceback (most recent call last)",
      "Cell \u001b[0;32mIn[13], line 1\u001b[0m\n\u001b[0;32m----> 1\u001b[0m \u001b[43ml2\u001b[49m\u001b[38;5;241;43m+\u001b[39;49m\u001b[38;5;124;43m\"\u001b[39;49m\u001b[38;5;124;43msudh\u001b[39;49m\u001b[38;5;124;43m\"\u001b[39;49m\n",
      "\u001b[0;31mTypeError\u001b[0m: can only concatenate list (not \"str\") to list"
     ]
    }
   ],
   "source": [
    "l2+\"sudh\""
   ]
  },
  {
   "cell_type": "code",
   "execution_count": 14,
   "id": "ad1f728d-4a26-4a6a-8a34-74dc10b02511",
   "metadata": {},
   "outputs": [
    {
     "data": {
      "text/plain": [
       "['s', 'u', 'd', 'h']"
      ]
     },
     "execution_count": 14,
     "metadata": {},
     "output_type": "execute_result"
    }
   ],
   "source": [
    "list(\"sudh\")"
   ]
  },
  {
   "cell_type": "code",
   "execution_count": 15,
   "id": "b7c03a0d-2404-4a12-826f-834674348eeb",
   "metadata": {},
   "outputs": [
    {
     "ename": "TypeError",
     "evalue": "'int' object is not iterable",
     "output_type": "error",
     "traceback": [
      "\u001b[0;31m---------------------------------------------------------------------------\u001b[0m",
      "\u001b[0;31mTypeError\u001b[0m                                 Traceback (most recent call last)",
      "Cell \u001b[0;32mIn[15], line 1\u001b[0m\n\u001b[0;32m----> 1\u001b[0m \u001b[38;5;28;43mlist\u001b[39;49m\u001b[43m(\u001b[49m\u001b[38;5;241;43m345\u001b[39;49m\u001b[43m)\u001b[49m\n",
      "\u001b[0;31mTypeError\u001b[0m: 'int' object is not iterable"
     ]
    }
   ],
   "source": [
    "list(345)"
   ]
  },
  {
   "cell_type": "code",
   "execution_count": 16,
   "id": "c53c8122-4913-4d9b-ae43-dff371ab781e",
   "metadata": {},
   "outputs": [
    {
     "data": {
      "text/plain": [
       "[3, 4, 5, 'pwskills', 'sudh']"
      ]
     },
     "execution_count": 16,
     "metadata": {},
     "output_type": "execute_result"
    }
   ],
   "source": [
    "l2"
   ]
  },
  {
   "cell_type": "code",
   "execution_count": 17,
   "id": "a9c8311f-d655-4ea6-a80e-d6d453a9e78d",
   "metadata": {},
   "outputs": [
    {
     "data": {
      "text/plain": [
       "[3, 4, 5, 'pwskills', 'sudh', 3, 4, 5, 'pwskills', 'sudh']"
      ]
     },
     "execution_count": 17,
     "metadata": {},
     "output_type": "execute_result"
    }
   ],
   "source": [
    "l2*2"
   ]
  },
  {
   "cell_type": "code",
   "execution_count": 19,
   "id": "fde594ec-6695-40fa-acd4-140a837083af",
   "metadata": {},
   "outputs": [],
   "source": [
    "l2[0]=300"
   ]
  },
  {
   "cell_type": "code",
   "execution_count": 20,
   "id": "12b2c1a5-c670-463d-9d37-98178aa99b1e",
   "metadata": {},
   "outputs": [
    {
     "data": {
      "text/plain": [
       "[300, 4, 5, 'pwskills', 'sudh']"
      ]
     },
     "execution_count": 20,
     "metadata": {},
     "output_type": "execute_result"
    }
   ],
   "source": [
    "l2"
   ]
  },
  {
   "cell_type": "code",
   "execution_count": 33,
   "id": "2e4256fe-6d7f-4121-99bc-a32b68ce6487",
   "metadata": {},
   "outputs": [],
   "source": [
    "# Tuples can hold elements any type of data\n",
    "# Immutable\n",
    "# String is a Immutable means unchangeble"
   ]
  },
  {
   "cell_type": "code",
   "execution_count": 23,
   "id": "c6efa9a1-871f-49c1-b368-3748589df33d",
   "metadata": {},
   "outputs": [],
   "source": [
    "t = (1,2,3,4,\"sudh\",\"pwskills\", 4+5j,True)"
   ]
  },
  {
   "cell_type": "code",
   "execution_count": 24,
   "id": "17d99cc3-7f36-46e0-a01b-f6ae562b83e3",
   "metadata": {},
   "outputs": [
    {
     "data": {
      "text/plain": [
       "(1, 2, 3, 4, 'sudh', 'pwskills', (4+5j), True)"
      ]
     },
     "execution_count": 24,
     "metadata": {},
     "output_type": "execute_result"
    }
   ],
   "source": [
    "t"
   ]
  },
  {
   "cell_type": "code",
   "execution_count": 25,
   "id": "37ea2d32-ef58-48f4-9ea7-83e32c4f78c8",
   "metadata": {},
   "outputs": [
    {
     "data": {
      "text/plain": [
       "tuple"
      ]
     },
     "execution_count": 25,
     "metadata": {},
     "output_type": "execute_result"
    }
   ],
   "source": [
    "type(t)"
   ]
  },
  {
   "cell_type": "code",
   "execution_count": 27,
   "id": "d9dcd718-10ca-4f41-b320-486708a6bf84",
   "metadata": {},
   "outputs": [
    {
     "data": {
      "text/plain": [
       "1"
      ]
     },
     "execution_count": 27,
     "metadata": {},
     "output_type": "execute_result"
    }
   ],
   "source": [
    "t[0]"
   ]
  },
  {
   "cell_type": "code",
   "execution_count": 28,
   "id": "4fb44225-1188-4f3c-8231-569d74c0b72d",
   "metadata": {},
   "outputs": [
    {
     "data": {
      "text/plain": [
       "True"
      ]
     },
     "execution_count": 28,
     "metadata": {},
     "output_type": "execute_result"
    }
   ],
   "source": [
    "t[-1]"
   ]
  },
  {
   "cell_type": "code",
   "execution_count": 29,
   "id": "a6f9835a-3275-4ee6-b09c-07daad07758f",
   "metadata": {},
   "outputs": [
    {
     "data": {
      "text/plain": [
       "(True, (4+5j), 'pwskills', 'sudh', 4, 3, 2, 1)"
      ]
     },
     "execution_count": 29,
     "metadata": {},
     "output_type": "execute_result"
    }
   ],
   "source": [
    "t[::-1]"
   ]
  },
  {
   "cell_type": "code",
   "execution_count": 30,
   "id": "5c49a779-e3e3-49a0-ad6a-23de16df09b0",
   "metadata": {},
   "outputs": [
    {
     "data": {
      "text/plain": [
       "1"
      ]
     },
     "execution_count": 30,
     "metadata": {},
     "output_type": "execute_result"
    }
   ],
   "source": [
    "t[0]"
   ]
  },
  {
   "cell_type": "code",
   "execution_count": 31,
   "id": "fc74ccb4-a958-4dbf-912b-205b77dfdf80",
   "metadata": {},
   "outputs": [
    {
     "ename": "TypeError",
     "evalue": "'tuple' object does not support item assignment",
     "output_type": "error",
     "traceback": [
      "\u001b[0;31m---------------------------------------------------------------------------\u001b[0m",
      "\u001b[0;31mTypeError\u001b[0m                                 Traceback (most recent call last)",
      "Cell \u001b[0;32mIn[31], line 1\u001b[0m\n\u001b[0;32m----> 1\u001b[0m \u001b[43mt\u001b[49m\u001b[43m[\u001b[49m\u001b[38;5;241;43m0\u001b[39;49m\u001b[43m]\u001b[49m\u001b[38;5;241m=\u001b[39m\u001b[38;5;124m\"\u001b[39m\u001b[38;5;124msudh\u001b[39m\u001b[38;5;124m\"\u001b[39m\n",
      "\u001b[0;31mTypeError\u001b[0m: 'tuple' object does not support item assignment"
     ]
    }
   ],
   "source": [
    "t[0]=\"sudh\""
   ]
  },
  {
   "cell_type": "code",
   "execution_count": 34,
   "id": "db0c0090-7139-447b-b43d-cb0dbaade977",
   "metadata": {},
   "outputs": [],
   "source": [
    "t1 = (0,8,7,9)"
   ]
  },
  {
   "cell_type": "code",
   "execution_count": 35,
   "id": "4b220b5a-2882-461e-a74f-3915d22be9c0",
   "metadata": {},
   "outputs": [
    {
     "data": {
      "text/plain": [
       "(1, 2, 3, 4, 'sudh', 'pwskills', (4+5j), True, 0, 8, 7, 9)"
      ]
     },
     "execution_count": 35,
     "metadata": {},
     "output_type": "execute_result"
    }
   ],
   "source": [
    "t + t1"
   ]
  },
  {
   "cell_type": "code",
   "execution_count": 36,
   "id": "d2272346-77a4-4959-bb61-d5d7658d1b54",
   "metadata": {},
   "outputs": [
    {
     "data": {
      "text/plain": [
       "(1,\n",
       " 2,\n",
       " 3,\n",
       " 4,\n",
       " 'sudh',\n",
       " 'pwskills',\n",
       " (4+5j),\n",
       " True,\n",
       " 1,\n",
       " 2,\n",
       " 3,\n",
       " 4,\n",
       " 'sudh',\n",
       " 'pwskills',\n",
       " (4+5j),\n",
       " True)"
      ]
     },
     "execution_count": 36,
     "metadata": {},
     "output_type": "execute_result"
    }
   ],
   "source": [
    "t*2"
   ]
  },
  {
   "cell_type": "code",
   "execution_count": 37,
   "id": "ccd95451-16f7-451d-872d-818557a245cf",
   "metadata": {},
   "outputs": [
    {
     "data": {
      "text/plain": [
       "[1, 2, 3, 4, 'sudh', 'pwskills', (4+5j), True]"
      ]
     },
     "execution_count": 37,
     "metadata": {},
     "output_type": "execute_result"
    }
   ],
   "source": [
    "list(t)"
   ]
  },
  {
   "cell_type": "code",
   "execution_count": 38,
   "id": "09567f90-68a7-4e5d-814d-b6fef4480968",
   "metadata": {},
   "outputs": [
    {
     "data": {
      "text/plain": [
       "[300, 4, 5, 'pwskills', 'sudh']"
      ]
     },
     "execution_count": 38,
     "metadata": {},
     "output_type": "execute_result"
    }
   ],
   "source": [
    "l2"
   ]
  },
  {
   "cell_type": "code",
   "execution_count": 39,
   "id": "b89d814a-ee33-41b2-b1de-f4d1f93c2a39",
   "metadata": {},
   "outputs": [
    {
     "data": {
      "text/plain": [
       "(300, 4, 5, 'pwskills', 'sudh')"
      ]
     },
     "execution_count": 39,
     "metadata": {},
     "output_type": "execute_result"
    }
   ],
   "source": [
    "tuple(l2)"
   ]
  },
  {
   "cell_type": "code",
   "execution_count": 40,
   "id": "081b43ce-3294-4b49-b372-eb8af4d74972",
   "metadata": {},
   "outputs": [
    {
     "data": {
      "text/plain": [
       "8"
      ]
     },
     "execution_count": 40,
     "metadata": {},
     "output_type": "execute_result"
    }
   ],
   "source": [
    "len(t)"
   ]
  },
  {
   "cell_type": "code",
   "execution_count": 41,
   "id": "493424e0-b65f-4680-b55b-c885602fe0ae",
   "metadata": {},
   "outputs": [
    {
     "data": {
      "text/plain": [
       "5"
      ]
     },
     "execution_count": 41,
     "metadata": {},
     "output_type": "execute_result"
    }
   ],
   "source": [
    "len(\"sud h\")"
   ]
  },
  {
   "cell_type": "code",
   "execution_count": 51,
   "id": "19e8dda6-dfb9-4a41-aa5d-c73ec5e31154",
   "metadata": {},
   "outputs": [],
   "source": [
    "#Set\n",
    "# Remove duplicates"
   ]
  },
  {
   "cell_type": "code",
   "execution_count": 30,
   "id": "2d530838-fe9e-4108-bc79-442ab0f7418f",
   "metadata": {},
   "outputs": [],
   "source": [
    "s1 = {1,2,3,4,5,5}"
   ]
  },
  {
   "cell_type": "code",
   "execution_count": 44,
   "id": "7be58f68-cc18-40e2-99c2-dc374bf5bd40",
   "metadata": {},
   "outputs": [
    {
     "data": {
      "text/plain": [
       "set"
      ]
     },
     "execution_count": 44,
     "metadata": {},
     "output_type": "execute_result"
    }
   ],
   "source": [
    "type(s1)"
   ]
  },
  {
   "cell_type": "code",
   "execution_count": 45,
   "id": "c2791aa3-db51-4066-bc12-3aeaadd51965",
   "metadata": {},
   "outputs": [],
   "source": [
    "s2={}"
   ]
  },
  {
   "cell_type": "code",
   "execution_count": 46,
   "id": "d056500e-6b5d-4b8d-a22c-8b1b44067d30",
   "metadata": {},
   "outputs": [
    {
     "data": {
      "text/plain": [
       "dict"
      ]
     },
     "execution_count": 46,
     "metadata": {},
     "output_type": "execute_result"
    }
   ],
   "source": [
    "type(s2)"
   ]
  },
  {
   "cell_type": "code",
   "execution_count": 48,
   "id": "bc0daad4-0a86-494d-b861-09e196089819",
   "metadata": {},
   "outputs": [
    {
     "data": {
      "text/plain": [
       "{1, 2, 3, 4, 5}"
      ]
     },
     "execution_count": 48,
     "metadata": {},
     "output_type": "execute_result"
    }
   ],
   "source": [
    "s1"
   ]
  },
  {
   "cell_type": "code",
   "execution_count": 1,
   "id": "881eaf58-8601-419e-a5c7-0277109ac7a8",
   "metadata": {},
   "outputs": [],
   "source": [
    "s2 = {\"rrr\",\"rrr\",\"Rrr\",1,2,4,3,3,4,5,5}"
   ]
  },
  {
   "cell_type": "code",
   "execution_count": 2,
   "id": "fc10cd5d-d9bb-48c9-9b9f-9241750805cd",
   "metadata": {},
   "outputs": [
    {
     "data": {
      "text/plain": [
       "{1, 2, 3, 4, 5, 'Rrr', 'rrr'}"
      ]
     },
     "execution_count": 2,
     "metadata": {},
     "output_type": "execute_result"
    }
   ],
   "source": [
    "s2"
   ]
  },
  {
   "cell_type": "code",
   "execution_count": 52,
   "id": "e69be242-c3b1-427e-b962-3c5fb75fa847",
   "metadata": {},
   "outputs": [],
   "source": [
    "# Python is case sensistive Programming Language"
   ]
  },
  {
   "cell_type": "code",
   "execution_count": 53,
   "id": "77bba17a-ba07-4e70-b00d-ff3eae328765",
   "metadata": {},
   "outputs": [
    {
     "data": {
      "text/plain": [
       "[1, 2, 3, 4, 5, 'rrr']"
      ]
     },
     "execution_count": 53,
     "metadata": {},
     "output_type": "execute_result"
    }
   ],
   "source": [
    "list(s2)"
   ]
  },
  {
   "cell_type": "code",
   "execution_count": 54,
   "id": "5b4b0f3d-f56a-4b18-8294-ce04c8b892b7",
   "metadata": {},
   "outputs": [
    {
     "data": {
      "text/plain": [
       "{300, 4, 5, 'pwskills', 'sudh'}"
      ]
     },
     "execution_count": 54,
     "metadata": {},
     "output_type": "execute_result"
    }
   ],
   "source": [
    "set(l2)"
   ]
  },
  {
   "cell_type": "code",
   "execution_count": 56,
   "id": "6920bef8-aa09-4a55-8ba2-98ce3930a23b",
   "metadata": {},
   "outputs": [
    {
     "data": {
      "text/plain": [
       "[1, 2, 3, 4, 5, 'ram', (3+6j), 34.56, [3, 4, 5, 6]]"
      ]
     },
     "execution_count": 56,
     "metadata": {},
     "output_type": "execute_result"
    }
   ],
   "source": [
    "l1"
   ]
  },
  {
   "cell_type": "code",
   "execution_count": 57,
   "id": "1ee2bb22-d1ee-4087-a96d-e00720382121",
   "metadata": {},
   "outputs": [
    {
     "ename": "TypeError",
     "evalue": "unhashable type: 'list'",
     "output_type": "error",
     "traceback": [
      "\u001b[0;31m---------------------------------------------------------------------------\u001b[0m",
      "\u001b[0;31mTypeError\u001b[0m                                 Traceback (most recent call last)",
      "Cell \u001b[0;32mIn[57], line 1\u001b[0m\n\u001b[0;32m----> 1\u001b[0m \u001b[38;5;28;43mset\u001b[39;49m\u001b[43m(\u001b[49m\u001b[43ml1\u001b[49m\u001b[43m)\u001b[49m \u001b[38;5;66;03m#list inside the list\u001b[39;00m\n",
      "\u001b[0;31mTypeError\u001b[0m: unhashable type: 'list'"
     ]
    }
   ],
   "source": [
    "set(l1) #list inside the list"
   ]
  },
  {
   "cell_type": "code",
   "execution_count": 58,
   "id": "36a8dfab-109e-470f-a47d-aedf0c1ab742",
   "metadata": {},
   "outputs": [
    {
     "data": {
      "text/plain": [
       "(1, 2, 3, 4, 5, 'rrr')"
      ]
     },
     "execution_count": 58,
     "metadata": {},
     "output_type": "execute_result"
    }
   ],
   "source": [
    "tuple(s2)"
   ]
  },
  {
   "cell_type": "code",
   "execution_count": 60,
   "id": "c9ace094-d072-4e2b-acf0-dbe8176a241d",
   "metadata": {},
   "outputs": [
    {
     "data": {
      "text/plain": [
       "{1, 2, 3, 4, 5, 'rrr'}"
      ]
     },
     "execution_count": 60,
     "metadata": {},
     "output_type": "execute_result"
    }
   ],
   "source": [
    "s2"
   ]
  },
  {
   "cell_type": "code",
   "execution_count": 8,
   "id": "2eb47375-4754-4ecb-98e4-4ff771dfb24a",
   "metadata": {},
   "outputs": [
    {
     "ename": "TypeError",
     "evalue": "'set' object is not subscriptable",
     "output_type": "error",
     "traceback": [
      "\u001b[1;31m---------------------------------------------------------------------------\u001b[0m",
      "\u001b[1;31mTypeError\u001b[0m                                 Traceback (most recent call last)",
      "Cell \u001b[1;32mIn[8], line 9\u001b[0m\n\u001b[0;32m      1\u001b[0m \u001b[39m# Set never sorts the data\u001b[39;00m\n\u001b[0;32m      2\u001b[0m \u001b[39m# Set containd unordered collection of data\u001b[39;00m\n\u001b[0;32m      3\u001b[0m \u001b[39m# Set does not support indexing, so cannot access the data.\u001b[39;00m\n\u001b[1;32m   (...)\u001b[0m\n\u001b[0;32m      7\u001b[0m \u001b[39m# Immutable\u001b[39;00m\n\u001b[0;32m      8\u001b[0m \u001b[39m# Context Immutable and Mutable is not supportable\u001b[39;00m\n\u001b[1;32m----> 9\u001b[0m s2[\u001b[39m0\u001b[39;49m]\n",
      "\u001b[1;31mTypeError\u001b[0m: 'set' object is not subscriptable"
     ]
    }
   ],
   "source": [
    "# Set never sorts the data\n",
    "# Set containd unordered collection of data\n",
    "# Set does not support indexing, so cannot access the data.\n",
    "# Indexing is proportional to ordering of the data, \n",
    "# indexing and slicing not supported in set.\n",
    "# indexing and slicing is supported in tuples and list.\n",
    "# Immutable\n",
    "# Context Immutable and Mutable is not supportable\n",
    "s2[0]"
   ]
  },
  {
   "cell_type": "code",
   "execution_count": 64,
   "id": "7d8ed0b5-02bc-4e8a-829a-07af5fecf6a6",
   "metadata": {},
   "outputs": [],
   "source": [
    "s3 = {345, 4565656,23,12,34,56,78,12,12,34,34,56,56,\"sudh\",234.56}"
   ]
  },
  {
   "cell_type": "code",
   "execution_count": 65,
   "id": "820c5112-771d-41ba-a635-6b195e28fc1d",
   "metadata": {},
   "outputs": [
    {
     "data": {
      "text/plain": [
       "{12, 23, 234.56, 34, 345, 4565656, 56, 78, 'sudh'}"
      ]
     },
     "execution_count": 65,
     "metadata": {},
     "output_type": "execute_result"
    }
   ],
   "source": [
    "s3"
   ]
  },
  {
   "cell_type": "code",
   "execution_count": 106,
   "id": "2a7eb407-8795-4b2a-b839-a89641bf426a",
   "metadata": {},
   "outputs": [],
   "source": [
    "# Dictionary\n",
    "# key : value pair\n",
    "# key should be unique\n",
    "# value can be duplicate\n",
    "# Mutable"
   ]
  },
  {
   "cell_type": "code",
   "execution_count": 67,
   "id": "77999f39-41ea-470b-b002-0ac7a83be277",
   "metadata": {},
   "outputs": [],
   "source": [
    "d={}"
   ]
  },
  {
   "cell_type": "code",
   "execution_count": 68,
   "id": "8f9eb872-ad9a-45ca-8790-be307086f1a5",
   "metadata": {},
   "outputs": [
    {
     "data": {
      "text/plain": [
       "dict"
      ]
     },
     "execution_count": 68,
     "metadata": {},
     "output_type": "execute_result"
    }
   ],
   "source": [
    "type(d)"
   ]
  },
  {
   "cell_type": "code",
   "execution_count": 71,
   "id": "e99232e1-be75-4a41-8769-9b5ea3f278f4",
   "metadata": {},
   "outputs": [],
   "source": [
    "d1={'name':\"sudhanshu\", \"subject\":[\"ds\", \"big\",\"da\"], \"number\":1234}"
   ]
  },
  {
   "cell_type": "code",
   "execution_count": 72,
   "id": "01b3c88c-bd86-4d66-b8cc-bdce76eb4799",
   "metadata": {},
   "outputs": [
    {
     "data": {
      "text/plain": [
       "{'name': 'sudhanshu', 'subject': ['ds', 'big', 'da'], 'number': 1234}"
      ]
     },
     "execution_count": 72,
     "metadata": {},
     "output_type": "execute_result"
    }
   ],
   "source": [
    "d1"
   ]
  },
  {
   "cell_type": "code",
   "execution_count": 2,
   "id": "0ab44881-76b3-48bf-99b1-4736ddaf5a96",
   "metadata": {},
   "outputs": [],
   "source": [
    "d2 = {\"name\":\"sudh\", \"name\":\"pwskills\"}"
   ]
  },
  {
   "cell_type": "code",
   "execution_count": 3,
   "id": "de168e81-9014-4fd9-a8e7-681cfbb1207b",
   "metadata": {},
   "outputs": [
    {
     "data": {
      "text/plain": [
       "{'name': 'pwskills'}"
      ]
     },
     "execution_count": 3,
     "metadata": {},
     "output_type": "execute_result"
    }
   ],
   "source": [
    "d2"
   ]
  },
  {
   "cell_type": "code",
   "execution_count": 76,
   "id": "c0f2fed8-228d-4f20-b421-be37882d14b8",
   "metadata": {},
   "outputs": [],
   "source": [
    "d3 = {2345 : \"sudh\"}"
   ]
  },
  {
   "cell_type": "code",
   "execution_count": 77,
   "id": "7e98ba6a-ddf5-4266-a9e6-5465270669db",
   "metadata": {},
   "outputs": [
    {
     "data": {
      "text/plain": [
       "{2345: 'sudh'}"
      ]
     },
     "execution_count": 77,
     "metadata": {},
     "output_type": "execute_result"
    }
   ],
   "source": [
    "d3"
   ]
  },
  {
   "cell_type": "code",
   "execution_count": 78,
   "id": "496bea14-bcb1-434d-b293-6a8bdd81e0ed",
   "metadata": {},
   "outputs": [
    {
     "ename": "TypeError",
     "evalue": "unhashable type: 'list'",
     "output_type": "error",
     "traceback": [
      "\u001b[0;31m---------------------------------------------------------------------------\u001b[0m",
      "\u001b[0;31mTypeError\u001b[0m                                 Traceback (most recent call last)",
      "Cell \u001b[0;32mIn[78], line 1\u001b[0m\n\u001b[0;32m----> 1\u001b[0m d4 \u001b[38;5;241m=\u001b[39m {[\u001b[38;5;241m1\u001b[39m,\u001b[38;5;241m2\u001b[39m]:\u001b[38;5;124m\"\u001b[39m\u001b[38;5;124msudh\u001b[39m\u001b[38;5;124m\"\u001b[39m}\n",
      "\u001b[0;31mTypeError\u001b[0m: unhashable type: 'list'"
     ]
    }
   ],
   "source": [
    "d4 = {[1,2]:\"sudh\"}"
   ]
  },
  {
   "cell_type": "code",
   "execution_count": 81,
   "id": "8ae5ad34-1ca2-4774-859a-400ce42b6d8e",
   "metadata": {},
   "outputs": [],
   "source": [
    "d5 = {(3,4):\"ush\"}"
   ]
  },
  {
   "cell_type": "code",
   "execution_count": 82,
   "id": "1bf1c63b-27de-41a5-80e8-5b355306d399",
   "metadata": {},
   "outputs": [
    {
     "data": {
      "text/plain": [
       "{(3, 4): 'ush'}"
      ]
     },
     "execution_count": 82,
     "metadata": {},
     "output_type": "execute_result"
    }
   ],
   "source": [
    "d5"
   ]
  },
  {
   "cell_type": "code",
   "execution_count": 83,
   "id": "1892b0df-01b4-4193-bd8e-29ffc084ccff",
   "metadata": {},
   "outputs": [
    {
     "ename": "TypeError",
     "evalue": "unhashable type: 'set'",
     "output_type": "error",
     "traceback": [
      "\u001b[0;31m---------------------------------------------------------------------------\u001b[0m",
      "\u001b[0;31mTypeError\u001b[0m                                 Traceback (most recent call last)",
      "Cell \u001b[0;32mIn[83], line 1\u001b[0m\n\u001b[0;32m----> 1\u001b[0m d6 \u001b[38;5;241m=\u001b[39m {{\u001b[38;5;241m1\u001b[39m,\u001b[38;5;241m2\u001b[39m}:\u001b[38;5;124m\"\u001b[39m\u001b[38;5;124m454\u001b[39m\u001b[38;5;124m\"\u001b[39m}\n",
      "\u001b[0;31mTypeError\u001b[0m: unhashable type: 'set'"
     ]
    }
   ],
   "source": [
    "d6 = {{1,2}:\"454\"}"
   ]
  },
  {
   "cell_type": "code",
   "execution_count": 84,
   "id": "c8dcb09d-8e7b-4be2-bb3e-0043b4c2f994",
   "metadata": {},
   "outputs": [
    {
     "ename": "SyntaxError",
     "evalue": "invalid syntax (128374564.py, line 1)",
     "output_type": "error",
     "traceback": [
      "\u001b[0;36m  Cell \u001b[0;32mIn[84], line 1\u001b[0;36m\u001b[0m\n\u001b[0;31m    d7 = {%frg:\"dyyg\"}\u001b[0m\n\u001b[0m          ^\u001b[0m\n\u001b[0;31mSyntaxError\u001b[0m\u001b[0;31m:\u001b[0m invalid syntax\n"
     ]
    }
   ],
   "source": [
    "d7 = {%frg:\"dyyg\"}"
   ]
  },
  {
   "cell_type": "code",
   "execution_count": 85,
   "id": "5c95643b-abe3-4b4f-9348-b26e01d071bf",
   "metadata": {},
   "outputs": [],
   "source": [
    "d8={\"%fdg\":\"sdfsd\"}"
   ]
  },
  {
   "cell_type": "code",
   "execution_count": 99,
   "id": "cf555d46-84c9-46eb-a903-27e766bf47e2",
   "metadata": {},
   "outputs": [],
   "source": [
    "# MonogoDB contains collections\n",
    "# data is stored in documents\n",
    "# key and values\n",
    "d9 = {'course ':['dsa','java'],'mentor':('sudh','krish'),\n",
    "     'price':{3400,2000},'duration':1,'access year':1,\n",
    "     'syllabus':{'python':['DSA','oops','numpy'],\n",
    "                'ml':['super','vised']}}"
   ]
  },
  {
   "cell_type": "code",
   "execution_count": 100,
   "id": "3ab1cfe9-67d9-4bcc-9064-a6c650536387",
   "metadata": {},
   "outputs": [
    {
     "data": {
      "text/plain": [
       "{'course ': ['dsa', 'java'],\n",
       " 'mentor': ('sudh', 'krish'),\n",
       " 'price': {2000, 3400},\n",
       " 'duration': 1,\n",
       " 'access year': 1,\n",
       " 'syllabus': {'python': ['DSA', 'oops', 'numpy'], 'ml': ['super', 'vised']}}"
      ]
     },
     "execution_count": 100,
     "metadata": {},
     "output_type": "execute_result"
    }
   ],
   "source": [
    "d9"
   ]
  },
  {
   "cell_type": "code",
   "execution_count": 93,
   "id": "8b1c75dd-e689-42b5-bae3-c30bdd902150",
   "metadata": {},
   "outputs": [
    {
     "data": {
      "text/plain": [
       "['dsa', 'java']"
      ]
     },
     "execution_count": 93,
     "metadata": {},
     "output_type": "execute_result"
    }
   ],
   "source": [
    "d9['course ']"
   ]
  },
  {
   "cell_type": "code",
   "execution_count": 94,
   "id": "14289d23-0484-42bb-8e00-502c8b420817",
   "metadata": {},
   "outputs": [
    {
     "data": {
      "text/plain": [
       "('sudh', 'krish')"
      ]
     },
     "execution_count": 94,
     "metadata": {},
     "output_type": "execute_result"
    }
   ],
   "source": [
    "d9['mentor']"
   ]
  },
  {
   "cell_type": "code",
   "execution_count": 96,
   "id": "0cd8cef7-6ce2-4de6-b4e0-1705a7a65808",
   "metadata": {},
   "outputs": [
    {
     "data": {
      "text/plain": [
       "{2000, 3400}"
      ]
     },
     "execution_count": 96,
     "metadata": {},
     "output_type": "execute_result"
    }
   ],
   "source": [
    "d9['price']"
   ]
  },
  {
   "cell_type": "code",
   "execution_count": 4,
   "id": "6781ee14-0ac1-4032-9ad4-dcec1b7cff27",
   "metadata": {},
   "outputs": [
    {
     "data": {
      "text/plain": [
       "{'name': 'pwskills'}"
      ]
     },
     "execution_count": 4,
     "metadata": {},
     "output_type": "execute_result"
    }
   ],
   "source": [
    "d2"
   ]
  },
  {
   "cell_type": "code",
   "execution_count": 102,
   "id": "63244301-9d76-49d5-b69f-bf6fd58381c5",
   "metadata": {},
   "outputs": [],
   "source": [
    "d2['phone number']=45345"
   ]
  },
  {
   "cell_type": "code",
   "execution_count": 103,
   "id": "e3afc19d-f39f-4b2a-99cd-a2939f3095ef",
   "metadata": {},
   "outputs": [
    {
     "data": {
      "text/plain": [
       "{'name': 'pwskills', 'phone number': 45345}"
      ]
     },
     "execution_count": 103,
     "metadata": {},
     "output_type": "execute_result"
    }
   ],
   "source": [
    "d2"
   ]
  },
  {
   "cell_type": "code",
   "execution_count": 104,
   "id": "1d516c59-8dee-467e-9593-538f0f3fde8c",
   "metadata": {},
   "outputs": [],
   "source": [
    "d2['name']='ssfs'"
   ]
  },
  {
   "cell_type": "code",
   "execution_count": 5,
   "id": "ad03a6da-4a93-44ba-9968-3d17900ede53",
   "metadata": {},
   "outputs": [
    {
     "data": {
      "text/plain": [
       "{'name': 'pwskills'}"
      ]
     },
     "execution_count": 5,
     "metadata": {},
     "output_type": "execute_result"
    }
   ],
   "source": [
    "d2"
   ]
  },
  {
   "cell_type": "code",
   "execution_count": 109,
   "id": "4d5e6ee7-90c2-4874-bfa9-79f0f5f63690",
   "metadata": {},
   "outputs": [],
   "source": [
    "# String, list, tuple, set, dictionary\n",
    "# Inbuilt functions"
   ]
  },
  {
   "cell_type": "code",
   "execution_count": 7,
   "id": "f95553cb-c30c-490b-8251-070496ef2100",
   "metadata": {},
   "outputs": [],
   "source": [
    "#String functions\n",
    "b1=\"pwskills\""
   ]
  },
  {
   "cell_type": "code",
   "execution_count": 110,
   "id": "54cbb9f6-ae5c-4131-8c70-004e58db7af8",
   "metadata": {},
   "outputs": [
    {
     "data": {
      "text/plain": [
       "2"
      ]
     },
     "execution_count": 110,
     "metadata": {},
     "output_type": "execute_result"
    }
   ],
   "source": [
    "b1.count('l')"
   ]
  },
  {
   "cell_type": "code",
   "execution_count": 112,
   "id": "51ba244e-cacf-41d0-af39-06140c6641da",
   "metadata": {},
   "outputs": [
    {
     "data": {
      "text/plain": [
       "3"
      ]
     },
     "execution_count": 112,
     "metadata": {},
     "output_type": "execute_result"
    }
   ],
   "source": [
    "b1.find('k') #index of the 1st occurence of sub string"
   ]
  },
  {
   "cell_type": "code",
   "execution_count": 113,
   "id": "fb093146-7d77-4406-913e-7bb38c90ae36",
   "metadata": {},
   "outputs": [
    {
     "data": {
      "text/plain": [
       "3"
      ]
     },
     "execution_count": 113,
     "metadata": {},
     "output_type": "execute_result"
    }
   ],
   "source": [
    "b1.index('k')"
   ]
  },
  {
   "cell_type": "code",
   "execution_count": 114,
   "id": "9c3115bc-5873-4ee0-b34f-9641b52e14c5",
   "metadata": {},
   "outputs": [
    {
     "data": {
      "text/plain": [
       "-1"
      ]
     },
     "execution_count": 114,
     "metadata": {},
     "output_type": "execute_result"
    }
   ],
   "source": [
    "b1.find('z')"
   ]
  },
  {
   "cell_type": "code",
   "execution_count": 8,
   "id": "95c366bf-5879-4d1e-8496-8f8f1d0d7974",
   "metadata": {},
   "outputs": [
    {
     "ename": "ValueError",
     "evalue": "substring not found",
     "output_type": "error",
     "traceback": [
      "\u001b[1;31m---------------------------------------------------------------------------\u001b[0m",
      "\u001b[1;31mValueError\u001b[0m                                Traceback (most recent call last)",
      "Cell \u001b[1;32mIn[8], line 1\u001b[0m\n\u001b[1;32m----> 1\u001b[0m b1\u001b[39m.\u001b[39;49mindex(\u001b[39m'\u001b[39;49m\u001b[39mz\u001b[39;49m\u001b[39m'\u001b[39;49m)\n",
      "\u001b[1;31mValueError\u001b[0m: substring not found"
     ]
    }
   ],
   "source": [
    "b1.index('z')"
   ]
  },
  {
   "cell_type": "code",
   "execution_count": 116,
   "id": "64152a91-619a-4cb6-a9b1-f3fbc8fc03a1",
   "metadata": {},
   "outputs": [
    {
     "data": {
      "text/plain": [
       "'PWSKILLS'"
      ]
     },
     "execution_count": 116,
     "metadata": {},
     "output_type": "execute_result"
    }
   ],
   "source": [
    "b1.upper()"
   ]
  },
  {
   "cell_type": "code",
   "execution_count": 117,
   "id": "63e6be6b-5413-443b-aed8-475ec39cd4a7",
   "metadata": {},
   "outputs": [
    {
     "data": {
      "text/plain": [
       "'pwskills'"
      ]
     },
     "execution_count": 117,
     "metadata": {},
     "output_type": "execute_result"
    }
   ],
   "source": [
    "b1.lower()"
   ]
  },
  {
   "cell_type": "code",
   "execution_count": 118,
   "id": "713ca7c0-f3cd-45cd-8076-830191e91551",
   "metadata": {},
   "outputs": [
    {
     "data": {
      "text/plain": [
       "'Pwskills'"
      ]
     },
     "execution_count": 118,
     "metadata": {},
     "output_type": "execute_result"
    }
   ],
   "source": [
    "b1.title()"
   ]
  },
  {
   "cell_type": "code",
   "execution_count": 119,
   "id": "ae98d00a-481d-4032-99fe-89c80609cc1c",
   "metadata": {},
   "outputs": [],
   "source": [
    "b2=\"my name is ram\""
   ]
  },
  {
   "cell_type": "code",
   "execution_count": 121,
   "id": "93090ec6-f672-4227-8d56-418e95d6a68b",
   "metadata": {},
   "outputs": [
    {
     "data": {
      "text/plain": [
       "'My Name Is Ram'"
      ]
     },
     "execution_count": 121,
     "metadata": {},
     "output_type": "execute_result"
    }
   ],
   "source": [
    "b2.title() #Camel Case"
   ]
  },
  {
   "cell_type": "code",
   "execution_count": 246,
   "id": "676b90dc-ab99-46df-aef9-d107814c48d2",
   "metadata": {},
   "outputs": [
    {
     "data": {
      "text/plain": [
       "['my', 'name', 'is', 'ram']"
      ]
     },
     "execution_count": 246,
     "metadata": {},
     "output_type": "execute_result"
    }
   ],
   "source": [
    "b2.split()"
   ]
  },
  {
   "cell_type": "code",
   "execution_count": 125,
   "id": "075e85c5-c0e3-4920-be46-7fd4a97fd905",
   "metadata": {},
   "outputs": [],
   "source": [
    "b3=\"my name,is,ram,kishor\""
   ]
  },
  {
   "cell_type": "code",
   "execution_count": 128,
   "id": "972d04dc-05f6-4cfe-aa4c-ae702129067b",
   "metadata": {},
   "outputs": [
    {
     "data": {
      "text/plain": [
       "['my name', 'is', 'ram', 'kishor']"
      ]
     },
     "execution_count": 128,
     "metadata": {},
     "output_type": "execute_result"
    }
   ],
   "source": [
    "b3.split(',')"
   ]
  },
  {
   "cell_type": "code",
   "execution_count": 9,
   "id": "f29eb84e-34d9-4405-a0af-b21a531e7044",
   "metadata": {},
   "outputs": [],
   "source": [
    "d4 = \"this is my frds . i am attending\""
   ]
  },
  {
   "cell_type": "code",
   "execution_count": 131,
   "id": "930c7bbf-d1b4-4793-82e7-62ead2d94ece",
   "metadata": {},
   "outputs": [
    {
     "data": {
      "text/plain": [
       "['this is my frds ', ' I am attending']"
      ]
     },
     "execution_count": 131,
     "metadata": {},
     "output_type": "execute_result"
    }
   ],
   "source": [
    "d4.split('.')"
   ]
  },
  {
   "cell_type": "code",
   "execution_count": 133,
   "id": "8f2e4ec6-dd63-4b36-b918-d185b58be1fc",
   "metadata": {},
   "outputs": [
    {
     "data": {
      "text/plain": [
       "'this is my frds '"
      ]
     },
     "execution_count": 133,
     "metadata": {},
     "output_type": "execute_result"
    }
   ],
   "source": [
    "d4.split('.')[0]"
   ]
  },
  {
   "cell_type": "code",
   "execution_count": 134,
   "id": "03a89c54-3263-41b8-b6c3-0669702ad729",
   "metadata": {},
   "outputs": [
    {
     "data": {
      "text/plain": [
       "' I am attending'"
      ]
     },
     "execution_count": 134,
     "metadata": {},
     "output_type": "execute_result"
    }
   ],
   "source": [
    "d4.split('.')[1]"
   ]
  },
  {
   "cell_type": "code",
   "execution_count": 11,
   "id": "60205396-0afe-48bc-8f7c-570b5c151f7f",
   "metadata": {},
   "outputs": [
    {
     "data": {
      "text/plain": [
       "'This is my frds . i am attending'"
      ]
     },
     "execution_count": 11,
     "metadata": {},
     "output_type": "execute_result"
    }
   ],
   "source": [
    "d4.capitalize()"
   ]
  },
  {
   "cell_type": "code",
   "execution_count": 10,
   "id": "0de52934-3a9b-44c6-a1da-1a3fd44376c9",
   "metadata": {},
   "outputs": [
    {
     "data": {
      "text/plain": [
       "'This Is My Frds . I Am Attending'"
      ]
     },
     "execution_count": 10,
     "metadata": {},
     "output_type": "execute_result"
    }
   ],
   "source": [
    "d4.title()"
   ]
  },
  {
   "cell_type": "code",
   "execution_count": 138,
   "id": "aac7900c-943d-4bb3-a730-de90bee3271e",
   "metadata": {},
   "outputs": [
    {
     "data": {
      "text/plain": [
       "'fdfgdg$%^%$^'"
      ]
     },
     "execution_count": 138,
     "metadata": {},
     "output_type": "execute_result"
    }
   ],
   "source": [
    "s"
   ]
  },
  {
   "cell_type": "code",
   "execution_count": 140,
   "id": "a58f1fdb-b398-4dfb-9361-e67ed2169fff",
   "metadata": {},
   "outputs": [
    {
     "data": {
      "text/plain": [
       "str"
      ]
     },
     "execution_count": 140,
     "metadata": {},
     "output_type": "execute_result"
    }
   ],
   "source": [
    "type(s)"
   ]
  },
  {
   "cell_type": "code",
   "execution_count": 142,
   "id": "571bdd70-dc45-44aa-a89f-7bc183b89320",
   "metadata": {},
   "outputs": [
    {
     "data": {
      "text/plain": [
       "'ZdZgdg$%^%$^'"
      ]
     },
     "execution_count": 142,
     "metadata": {},
     "output_type": "execute_result"
    }
   ],
   "source": [
    "s.replace('f','Z')\n",
    "# String is immutable\n",
    "# try create a new reference or new space\n",
    "# not changing the original string"
   ]
  },
  {
   "cell_type": "code",
   "execution_count": 143,
   "id": "2e1572bc-0499-425c-b470-a2f316216bf9",
   "metadata": {},
   "outputs": [
    {
     "data": {
      "text/plain": [
       "'fdfgdg$%^%$^'"
      ]
     },
     "execution_count": 143,
     "metadata": {},
     "output_type": "execute_result"
    }
   ],
   "source": [
    "s"
   ]
  },
  {
   "cell_type": "code",
   "execution_count": 145,
   "id": "91f08417-9d6b-4062-b22b-351d3109697d",
   "metadata": {},
   "outputs": [
    {
     "data": {
      "text/plain": [
       "'AAAAAAAAAAAAAAfdfgdg$%^%$^AAAAAAAAAAAAAA'"
      ]
     },
     "execution_count": 145,
     "metadata": {},
     "output_type": "execute_result"
    }
   ],
   "source": [
    "s.center(40,'A')"
   ]
  },
  {
   "cell_type": "code",
   "execution_count": 146,
   "id": "7b4a84a4-f714-443d-a140-bf045e5cc56c",
   "metadata": {},
   "outputs": [
    {
     "data": {
      "text/plain": [
       "'fdfgdg$%^%$^'"
      ]
     },
     "execution_count": 146,
     "metadata": {},
     "output_type": "execute_result"
    }
   ],
   "source": [
    "s.rstrip()"
   ]
  },
  {
   "cell_type": "code",
   "execution_count": 147,
   "id": "e9bf3a02-f041-46d9-9c31-29d0d3b52848",
   "metadata": {},
   "outputs": [],
   "source": [
    "s5 = \"    pwskills    \""
   ]
  },
  {
   "cell_type": "code",
   "execution_count": 149,
   "id": "a3db7fb9-75e2-49de-93a2-d3b0bf75b12f",
   "metadata": {},
   "outputs": [
    {
     "data": {
      "text/plain": [
       "'    pwskills'"
      ]
     },
     "execution_count": 149,
     "metadata": {},
     "output_type": "execute_result"
    }
   ],
   "source": [
    "s5.rstrip()"
   ]
  },
  {
   "cell_type": "code",
   "execution_count": 151,
   "id": "544d507d-e78f-428e-883d-f3ef4bac1ab0",
   "metadata": {},
   "outputs": [
    {
     "data": {
      "text/plain": [
       "'pwskills    '"
      ]
     },
     "execution_count": 151,
     "metadata": {},
     "output_type": "execute_result"
    }
   ],
   "source": [
    "s5.lstrip()"
   ]
  },
  {
   "cell_type": "code",
   "execution_count": 152,
   "id": "3b846629-4571-400e-ad4b-bbb1cf399501",
   "metadata": {},
   "outputs": [
    {
     "data": {
      "text/plain": [
       "'pwskills'"
      ]
     },
     "execution_count": 152,
     "metadata": {},
     "output_type": "execute_result"
    }
   ],
   "source": [
    "s5.strip()"
   ]
  },
  {
   "cell_type": "code",
   "execution_count": 153,
   "id": "8d30f40f-9b7b-479e-a707-4d997678ec81",
   "metadata": {},
   "outputs": [
    {
     "data": {
      "text/plain": [
       "'fdfgdg$%^%$^'"
      ]
     },
     "execution_count": 153,
     "metadata": {},
     "output_type": "execute_result"
    }
   ],
   "source": [
    "s"
   ]
  },
  {
   "cell_type": "code",
   "execution_count": 154,
   "id": "9c57e9cd-a93d-4c07-bc0b-56288724f338",
   "metadata": {},
   "outputs": [
    {
     "data": {
      "text/plain": [
       "'    pwskills    '"
      ]
     },
     "execution_count": 154,
     "metadata": {},
     "output_type": "execute_result"
    }
   ],
   "source": [
    "s5"
   ]
  },
  {
   "cell_type": "code",
   "execution_count": 155,
   "id": "8b8f904d-2d27-4b71-87db-7a5f1e06effc",
   "metadata": {},
   "outputs": [
    {
     "data": {
      "text/plain": [
       "False"
      ]
     },
     "execution_count": 155,
     "metadata": {},
     "output_type": "execute_result"
    }
   ],
   "source": [
    "s.isalnum()"
   ]
  },
  {
   "cell_type": "code",
   "execution_count": 156,
   "id": "2a984fcf-b0f1-4e07-a043-16ca597ce1f7",
   "metadata": {},
   "outputs": [
    {
     "data": {
      "text/plain": [
       "False"
      ]
     },
     "execution_count": 156,
     "metadata": {},
     "output_type": "execute_result"
    }
   ],
   "source": [
    "s.isalpha()"
   ]
  },
  {
   "cell_type": "code",
   "execution_count": 157,
   "id": "f124796d-a075-42f3-bc27-edf5090be3d4",
   "metadata": {},
   "outputs": [
    {
     "data": {
      "text/plain": [
       "False"
      ]
     },
     "execution_count": 157,
     "metadata": {},
     "output_type": "execute_result"
    }
   ],
   "source": [
    "s.isnumeric()"
   ]
  },
  {
   "cell_type": "code",
   "execution_count": 158,
   "id": "27032a84-c017-4d99-bd5a-696d00c7b856",
   "metadata": {},
   "outputs": [
    {
     "data": {
      "text/plain": [
       "True"
      ]
     },
     "execution_count": 158,
     "metadata": {},
     "output_type": "execute_result"
    }
   ],
   "source": [
    "s.islower()"
   ]
  },
  {
   "cell_type": "code",
   "execution_count": 15,
   "id": "15a09bc8-1dfe-4490-aeaf-6d276e818662",
   "metadata": {},
   "outputs": [
    {
     "data": {
      "text/plain": [
       "[1, 2, 3, 4, 5, 'ram', (3+6j), 34.56, [3, 4, 5, 6]]"
      ]
     },
     "execution_count": 15,
     "metadata": {},
     "output_type": "execute_result"
    }
   ],
   "source": [
    "l1"
   ]
  },
  {
   "cell_type": "code",
   "execution_count": 160,
   "id": "490a0f53-b85e-418f-8da5-189d3a410be8",
   "metadata": {},
   "outputs": [
    {
     "data": {
      "text/plain": [
       "[300, 4, 5, 'pwskills', 'sudh']"
      ]
     },
     "execution_count": 160,
     "metadata": {},
     "output_type": "execute_result"
    }
   ],
   "source": [
    "l2"
   ]
  },
  {
   "cell_type": "code",
   "execution_count": 163,
   "id": "735cecaf-c8d9-49f9-9f14-d90bd9ce03e0",
   "metadata": {},
   "outputs": [],
   "source": [
    "# list functions\n",
    "l1.append(\"sudh\")"
   ]
  },
  {
   "cell_type": "code",
   "execution_count": 162,
   "id": "769ddee9-aee9-49f8-b4c4-e03c2685882c",
   "metadata": {},
   "outputs": [
    {
     "data": {
      "text/plain": [
       "[1, 2, 3, 4, 5, 'ram', (3+6j), 34.56, [3, 4, 5, 6], 'sudh']"
      ]
     },
     "execution_count": 162,
     "metadata": {},
     "output_type": "execute_result"
    }
   ],
   "source": [
    "l1"
   ]
  },
  {
   "cell_type": "code",
   "execution_count": 165,
   "id": "e063661a-1c91-4932-ab75-25569fc63fed",
   "metadata": {},
   "outputs": [],
   "source": [
    "l1.insert(3,'pwskills')"
   ]
  },
  {
   "cell_type": "code",
   "execution_count": 166,
   "id": "71ba9fd1-627b-4435-8818-392ff8d77039",
   "metadata": {},
   "outputs": [
    {
     "data": {
      "text/plain": [
       "[1, 2, 3, 'pwskills', 4, 5, 'ram', (3+6j), 34.56, [3, 4, 5, 6], 'sudh', 'sudh']"
      ]
     },
     "execution_count": 166,
     "metadata": {},
     "output_type": "execute_result"
    }
   ],
   "source": [
    "l1"
   ]
  },
  {
   "cell_type": "code",
   "execution_count": 176,
   "id": "56fcf2dd-7ecf-478d-aa0a-6b20cbfaef94",
   "metadata": {},
   "outputs": [],
   "source": [
    "l1.extend(\"opip\") #split opip internally and insert individual element"
   ]
  },
  {
   "cell_type": "code",
   "execution_count": 16,
   "id": "731ebb16-1964-4114-92e3-b1822bc2032a",
   "metadata": {},
   "outputs": [
    {
     "data": {
      "text/plain": [
       "[1, 2, 3, 4, 5, 'ram', (3+6j), 34.56, [3, 4, 5, 6]]"
      ]
     },
     "execution_count": 16,
     "metadata": {},
     "output_type": "execute_result"
    }
   ],
   "source": [
    "l1"
   ]
  },
  {
   "cell_type": "code",
   "execution_count": 177,
   "id": "9f1444ed-88ca-4555-8fda-ba500b436527",
   "metadata": {},
   "outputs": [
    {
     "data": {
      "text/plain": [
       "'p'"
      ]
     },
     "execution_count": 177,
     "metadata": {},
     "output_type": "execute_result"
    }
   ],
   "source": [
    "l1.pop()"
   ]
  },
  {
   "cell_type": "code",
   "execution_count": 12,
   "id": "ef2ca179-ac6b-43ac-93ff-897d059e751d",
   "metadata": {},
   "outputs": [
    {
     "ename": "NameError",
     "evalue": "name 'l1' is not defined",
     "output_type": "error",
     "traceback": [
      "\u001b[1;31m---------------------------------------------------------------------------\u001b[0m",
      "\u001b[1;31mNameError\u001b[0m                                 Traceback (most recent call last)",
      "Cell \u001b[1;32mIn[12], line 1\u001b[0m\n\u001b[1;32m----> 1\u001b[0m l1\u001b[39m.\u001b[39mpop(\u001b[39m1\u001b[39m) \u001b[39m# 1 is a index\u001b[39;00m\n",
      "\u001b[1;31mNameError\u001b[0m: name 'l1' is not defined"
     ]
    }
   ],
   "source": [
    "l1.pop(1) # 1 is a index"
   ]
  },
  {
   "cell_type": "code",
   "execution_count": 179,
   "id": "2f1d008e-a535-438c-b8c6-c3af025149a3",
   "metadata": {},
   "outputs": [],
   "source": [
    "del l1"
   ]
  },
  {
   "cell_type": "code",
   "execution_count": 180,
   "id": "86e1171f-68de-4bd4-ba0f-ad9b5d9fa4a0",
   "metadata": {},
   "outputs": [
    {
     "ename": "NameError",
     "evalue": "name 'l1' is not defined",
     "output_type": "error",
     "traceback": [
      "\u001b[0;31m---------------------------------------------------------------------------\u001b[0m",
      "\u001b[0;31mNameError\u001b[0m                                 Traceback (most recent call last)",
      "Cell \u001b[0;32mIn[180], line 1\u001b[0m\n\u001b[0;32m----> 1\u001b[0m \u001b[43ml1\u001b[49m\n",
      "\u001b[0;31mNameError\u001b[0m: name 'l1' is not defined"
     ]
    }
   ],
   "source": [
    "l1"
   ]
  },
  {
   "cell_type": "code",
   "execution_count": 181,
   "id": "506a7331-1a5f-4aab-b5af-fb4f4b173c8a",
   "metadata": {},
   "outputs": [
    {
     "data": {
      "text/plain": [
       "[300, 4, 5, 'pwskills', 'sudh']"
      ]
     },
     "execution_count": 181,
     "metadata": {},
     "output_type": "execute_result"
    }
   ],
   "source": [
    "l2"
   ]
  },
  {
   "cell_type": "code",
   "execution_count": 183,
   "id": "e0d77cbc-c7db-430b-ac5a-809bf0616c9e",
   "metadata": {},
   "outputs": [],
   "source": [
    "l2.remove('sudh')"
   ]
  },
  {
   "cell_type": "code",
   "execution_count": 21,
   "id": "80a5c81a-f730-442a-bb2f-d95e6a99cb38",
   "metadata": {},
   "outputs": [
    {
     "data": {
      "text/plain": [
       "[3, 4, 5, 'pwskills', 'sudh']"
      ]
     },
     "execution_count": 21,
     "metadata": {},
     "output_type": "execute_result"
    }
   ],
   "source": [
    "l2"
   ]
  },
  {
   "cell_type": "code",
   "execution_count": 185,
   "id": "5c4347ec-9633-432d-902b-549124a3ed0b",
   "metadata": {},
   "outputs": [],
   "source": [
    "l2.clear()"
   ]
  },
  {
   "cell_type": "code",
   "execution_count": 186,
   "id": "60a3592a-3fed-4807-81b9-d2e98261488e",
   "metadata": {},
   "outputs": [
    {
     "data": {
      "text/plain": [
       "[]"
      ]
     },
     "execution_count": 186,
     "metadata": {},
     "output_type": "execute_result"
    }
   ],
   "source": [
    "l2"
   ]
  },
  {
   "cell_type": "code",
   "execution_count": 192,
   "id": "b915f3d8-ae66-47e9-a3cb-ed612992e77d",
   "metadata": {},
   "outputs": [],
   "source": [
    "l1 =[1,2,\"ads\",3]"
   ]
  },
  {
   "cell_type": "code",
   "execution_count": 194,
   "id": "ccafb8c1-ebc5-486c-8dc8-c3bbcbfeaa2e",
   "metadata": {},
   "outputs": [
    {
     "data": {
      "text/plain": [
       "1"
      ]
     },
     "execution_count": 194,
     "metadata": {},
     "output_type": "execute_result"
    }
   ],
   "source": [
    "l1.count(2)"
   ]
  },
  {
   "cell_type": "code",
   "execution_count": 27,
   "id": "c22c9f29",
   "metadata": {},
   "outputs": [
    {
     "data": {
      "text/plain": [
       "[3, 4, 5, 'pwskills', 'sudh']"
      ]
     },
     "execution_count": 27,
     "metadata": {},
     "output_type": "execute_result"
    }
   ],
   "source": [
    "l2\n",
    "l2.reverse()\n",
    "l2"
   ]
  },
  {
   "cell_type": "code",
   "execution_count": 197,
   "id": "0ac4a524-52b1-42ea-b61e-c0fda540b667",
   "metadata": {},
   "outputs": [
    {
     "data": {
      "text/plain": [
       "0"
      ]
     },
     "execution_count": 197,
     "metadata": {},
     "output_type": "execute_result"
    }
   ],
   "source": [
    "l1.index(1)"
   ]
  },
  {
   "cell_type": "code",
   "execution_count": 198,
   "id": "66d8b818-d39f-4f9d-9e5e-6d03b4bfbd4c",
   "metadata": {},
   "outputs": [
    {
     "ename": "TypeError",
     "evalue": "'<' not supported between instances of 'str' and 'int'",
     "output_type": "error",
     "traceback": [
      "\u001b[0;31m---------------------------------------------------------------------------\u001b[0m",
      "\u001b[0;31mTypeError\u001b[0m                                 Traceback (most recent call last)",
      "Cell \u001b[0;32mIn[198], line 1\u001b[0m\n\u001b[0;32m----> 1\u001b[0m \u001b[43ml1\u001b[49m\u001b[38;5;241;43m.\u001b[39;49m\u001b[43msort\u001b[49m\u001b[43m(\u001b[49m\u001b[43m)\u001b[49m\n",
      "\u001b[0;31mTypeError\u001b[0m: '<' not supported between instances of 'str' and 'int'"
     ]
    }
   ],
   "source": [
    "l1.sort()"
   ]
  },
  {
   "cell_type": "code",
   "execution_count": 199,
   "id": "747db923-297f-490f-91aa-38a6164ec009",
   "metadata": {},
   "outputs": [],
   "source": [
    "l4=[5,4,3,2]"
   ]
  },
  {
   "cell_type": "code",
   "execution_count": 202,
   "id": "e4ee4662-a89b-496e-82ca-396f7b48eb6c",
   "metadata": {},
   "outputs": [],
   "source": [
    "l4.sort(reverse=True)"
   ]
  },
  {
   "cell_type": "code",
   "execution_count": 203,
   "id": "9848e501-1d96-416f-b01d-c2aa16c52de0",
   "metadata": {},
   "outputs": [
    {
     "data": {
      "text/plain": [
       "[5, 4, 3, 2]"
      ]
     },
     "execution_count": 203,
     "metadata": {},
     "output_type": "execute_result"
    }
   ],
   "source": [
    "l4"
   ]
  },
  {
   "cell_type": "code",
   "execution_count": 204,
   "id": "122375fe-13d3-4b70-aa74-d7cf0380d31c",
   "metadata": {},
   "outputs": [],
   "source": [
    "# Deep Copy and Shallow Copy"
   ]
  },
  {
   "cell_type": "code",
   "execution_count": 205,
   "id": "2768c9c7-0d03-40dd-92f7-ad1fab03e82f",
   "metadata": {},
   "outputs": [],
   "source": [
    "l = [2,3,4,5]"
   ]
  },
  {
   "cell_type": "code",
   "execution_count": 248,
   "id": "c71c0136-2db3-43fb-97e0-e80e78e4092b",
   "metadata": {},
   "outputs": [],
   "source": [
    "m = l #Deep Copy"
   ]
  },
  {
   "cell_type": "code",
   "execution_count": 250,
   "id": "5236bd87-feb0-4825-9334-838224dbce32",
   "metadata": {},
   "outputs": [
    {
     "data": {
      "text/plain": [
       "[300, 3, 4, 5]"
      ]
     },
     "execution_count": 250,
     "metadata": {},
     "output_type": "execute_result"
    }
   ],
   "source": [
    "m"
   ]
  },
  {
   "cell_type": "code",
   "execution_count": 252,
   "id": "26f67c77-2dbf-44fe-b888-63e42b653612",
   "metadata": {},
   "outputs": [
    {
     "data": {
      "text/plain": [
       "[300, 3, 4, 5]"
      ]
     },
     "execution_count": 252,
     "metadata": {},
     "output_type": "execute_result"
    }
   ],
   "source": [
    "l"
   ]
  },
  {
   "cell_type": "code",
   "execution_count": 253,
   "id": "ebddd787-5304-4bbc-b6a7-adb02acd66c9",
   "metadata": {},
   "outputs": [],
   "source": [
    "l[0]=200"
   ]
  },
  {
   "cell_type": "code",
   "execution_count": 254,
   "id": "36830cc8-9802-4cc5-9c05-1e37fa72b864",
   "metadata": {},
   "outputs": [
    {
     "data": {
      "text/plain": [
       "[200, 3, 4, 5]"
      ]
     },
     "execution_count": 254,
     "metadata": {},
     "output_type": "execute_result"
    }
   ],
   "source": [
    "l"
   ]
  },
  {
   "cell_type": "code",
   "execution_count": 255,
   "id": "40024305-13a3-42a8-b339-3234a82493c7",
   "metadata": {},
   "outputs": [
    {
     "data": {
      "text/plain": [
       "[200, 3, 4, 5]"
      ]
     },
     "execution_count": 255,
     "metadata": {},
     "output_type": "execute_result"
    }
   ],
   "source": [
    "m"
   ]
  },
  {
   "cell_type": "code",
   "execution_count": 256,
   "id": "ad169030-c17a-4b15-ad3a-b8db4e475c86",
   "metadata": {},
   "outputs": [],
   "source": [
    "n = l.copy() # shallow Copy"
   ]
  },
  {
   "cell_type": "code",
   "execution_count": 257,
   "id": "e2940a25-b9a3-4ccb-948d-3f8ec33b2734",
   "metadata": {},
   "outputs": [
    {
     "data": {
      "text/plain": [
       "[200, 3, 4, 5]"
      ]
     },
     "execution_count": 257,
     "metadata": {},
     "output_type": "execute_result"
    }
   ],
   "source": [
    "n"
   ]
  },
  {
   "cell_type": "code",
   "execution_count": 258,
   "id": "81f4afbd-e81e-4c6c-97d0-ad215f5c8db5",
   "metadata": {},
   "outputs": [
    {
     "data": {
      "text/plain": [
       "[200, 3, 4, 5]"
      ]
     },
     "execution_count": 258,
     "metadata": {},
     "output_type": "execute_result"
    }
   ],
   "source": [
    "l"
   ]
  },
  {
   "cell_type": "code",
   "execution_count": 259,
   "id": "b85369f4-a39b-4947-9986-aefa1fb10626",
   "metadata": {},
   "outputs": [
    {
     "data": {
      "text/plain": [
       "[200, 3, 4, 5]"
      ]
     },
     "execution_count": 259,
     "metadata": {},
     "output_type": "execute_result"
    }
   ],
   "source": [
    "m"
   ]
  },
  {
   "cell_type": "code",
   "execution_count": 216,
   "id": "6b61861f-45cd-4fb3-ae51-f920676d6ab8",
   "metadata": {},
   "outputs": [],
   "source": [
    "l[0]=300"
   ]
  },
  {
   "cell_type": "code",
   "execution_count": 217,
   "id": "2a7af7a1-df59-46fe-82d4-1c0cdfebbb41",
   "metadata": {},
   "outputs": [
    {
     "data": {
      "text/plain": [
       "[300, 3, 4, 5]"
      ]
     },
     "execution_count": 217,
     "metadata": {},
     "output_type": "execute_result"
    }
   ],
   "source": [
    "l"
   ]
  },
  {
   "cell_type": "code",
   "execution_count": 218,
   "id": "e8d35f5f-b017-482b-9dd9-8c9c2f9afcc8",
   "metadata": {},
   "outputs": [
    {
     "data": {
      "text/plain": [
       "[300, 3, 4, 5]"
      ]
     },
     "execution_count": 218,
     "metadata": {},
     "output_type": "execute_result"
    }
   ],
   "source": [
    "m"
   ]
  },
  {
   "cell_type": "code",
   "execution_count": 260,
   "id": "a9f77876-bf2b-4f28-bd61-38ec5b7d1589",
   "metadata": {},
   "outputs": [
    {
     "data": {
      "text/plain": [
       "[200, 3, 4, 5]"
      ]
     },
     "execution_count": 260,
     "metadata": {},
     "output_type": "execute_result"
    }
   ],
   "source": [
    "n #Shallow Copy"
   ]
  },
  {
   "cell_type": "code",
   "execution_count": 224,
   "id": "7ac8cbae-63bb-496a-9e1b-00b7a112e053",
   "metadata": {},
   "outputs": [],
   "source": [
    "# Set functions\n",
    "ss={33,2,45,1,6,6}"
   ]
  },
  {
   "cell_type": "code",
   "execution_count": 223,
   "id": "bdaed1a1-1bd1-4496-8d0b-380fddf0c1ca",
   "metadata": {},
   "outputs": [
    {
     "data": {
      "text/plain": [
       "{1, 2, 6, 33, 45}"
      ]
     },
     "execution_count": 223,
     "metadata": {},
     "output_type": "execute_result"
    }
   ],
   "source": [
    "ss"
   ]
  },
  {
   "cell_type": "code",
   "execution_count": 226,
   "id": "384df468-7f55-4967-b511-d1a1585d6b80",
   "metadata": {},
   "outputs": [],
   "source": [
    "ss.add(4)"
   ]
  },
  {
   "cell_type": "code",
   "execution_count": 227,
   "id": "f29acd8a-5845-4ae6-b557-c6ae5b99133b",
   "metadata": {},
   "outputs": [
    {
     "data": {
      "text/plain": [
       "{1, 2, 4, 6, 33, 45}"
      ]
     },
     "execution_count": 227,
     "metadata": {},
     "output_type": "execute_result"
    }
   ],
   "source": [
    "ss"
   ]
  },
  {
   "cell_type": "code",
   "execution_count": 228,
   "id": "aaa34a82-bef2-4ab8-894d-c996c6e301e8",
   "metadata": {},
   "outputs": [],
   "source": [
    "ss.discard(6)"
   ]
  },
  {
   "cell_type": "code",
   "execution_count": 229,
   "id": "a327c8cc-25e0-4d09-a34e-f20bc5256023",
   "metadata": {},
   "outputs": [
    {
     "data": {
      "text/plain": [
       "{1, 2, 4, 33, 45}"
      ]
     },
     "execution_count": 229,
     "metadata": {},
     "output_type": "execute_result"
    }
   ],
   "source": [
    "ss"
   ]
  },
  {
   "cell_type": "code",
   "execution_count": 230,
   "id": "a71428b8-0ee6-4f18-8d67-7404b8da33ed",
   "metadata": {},
   "outputs": [
    {
     "data": {
      "text/plain": [
       "33"
      ]
     },
     "execution_count": 230,
     "metadata": {},
     "output_type": "execute_result"
    }
   ],
   "source": [
    "ss.pop()"
   ]
  },
  {
   "cell_type": "code",
   "execution_count": 231,
   "id": "5dba18f1-53d2-4b49-8d40-1fde842dfbed",
   "metadata": {},
   "outputs": [
    {
     "data": {
      "text/plain": [
       "{1, 2, 4, 45}"
      ]
     },
     "execution_count": 231,
     "metadata": {},
     "output_type": "execute_result"
    }
   ],
   "source": [
    "ss"
   ]
  },
  {
   "cell_type": "code",
   "execution_count": 232,
   "id": "9433a903-559c-4156-9862-f2c610b8deb6",
   "metadata": {},
   "outputs": [],
   "source": [
    "ss.remove(4)"
   ]
  },
  {
   "cell_type": "code",
   "execution_count": 233,
   "id": "c8af782b-ee62-4613-8f83-d7ade366a541",
   "metadata": {},
   "outputs": [
    {
     "data": {
      "text/plain": [
       "{1, 2, 45}"
      ]
     },
     "execution_count": 233,
     "metadata": {},
     "output_type": "execute_result"
    }
   ],
   "source": [
    "ss"
   ]
  },
  {
   "cell_type": "code",
   "execution_count": 234,
   "id": "2dbd9988-d1db-4bdf-8890-e449478b14b1",
   "metadata": {},
   "outputs": [],
   "source": [
    "# dictionary functions"
   ]
  },
  {
   "cell_type": "code",
   "execution_count": 235,
   "id": "f16c06e2-eca9-4f6f-a6b9-fb9d53e80d32",
   "metadata": {},
   "outputs": [
    {
     "data": {
      "text/plain": [
       "{'name': 'sudhanshu', 'subject': ['ds', 'big', 'da'], 'number': 1234}"
      ]
     },
     "execution_count": 235,
     "metadata": {},
     "output_type": "execute_result"
    }
   ],
   "source": [
    "d1"
   ]
  },
  {
   "cell_type": "code",
   "execution_count": 237,
   "id": "738221f2-d630-4a1d-9d70-193fc20889f8",
   "metadata": {},
   "outputs": [
    {
     "data": {
      "text/plain": [
       "['name', 'subject', 'number']"
      ]
     },
     "execution_count": 237,
     "metadata": {},
     "output_type": "execute_result"
    }
   ],
   "source": [
    "list(d1.keys())"
   ]
  },
  {
   "cell_type": "code",
   "execution_count": 238,
   "id": "fffd9456-82c6-415d-bcce-630a30221f2a",
   "metadata": {},
   "outputs": [
    {
     "data": {
      "text/plain": [
       "dict_values(['sudhanshu', ['ds', 'big', 'da'], 1234])"
      ]
     },
     "execution_count": 238,
     "metadata": {},
     "output_type": "execute_result"
    }
   ],
   "source": [
    "d1.values()"
   ]
  },
  {
   "cell_type": "code",
   "execution_count": 240,
   "id": "44ae1547-279e-4867-a74b-afe33d1abb2f",
   "metadata": {},
   "outputs": [
    {
     "data": {
      "text/plain": [
       "[('name', 'sudhanshu'), ('subject', ['ds', 'big', 'da']), ('number', 1234)]"
      ]
     },
     "execution_count": 240,
     "metadata": {},
     "output_type": "execute_result"
    }
   ],
   "source": [
    "list(d1.items())"
   ]
  },
  {
   "cell_type": "code",
   "execution_count": 241,
   "id": "9a702176-ef17-4607-93b2-5ee6219c5b63",
   "metadata": {},
   "outputs": [
    {
     "data": {
      "text/plain": [
       "'sudhanshu'"
      ]
     },
     "execution_count": 241,
     "metadata": {},
     "output_type": "execute_result"
    }
   ],
   "source": [
    "d1.get('name')"
   ]
  },
  {
   "cell_type": "code",
   "execution_count": 242,
   "id": "91608cc3-c566-45c6-9fbd-5025db561af2",
   "metadata": {},
   "outputs": [
    {
     "data": {
      "text/plain": [
       "'sudhanshu'"
      ]
     },
     "execution_count": 242,
     "metadata": {},
     "output_type": "execute_result"
    }
   ],
   "source": [
    "d1['name']"
   ]
  },
  {
   "cell_type": "code",
   "execution_count": 244,
   "id": "2645e481-97fa-4f6b-9626-36b318d58f60",
   "metadata": {},
   "outputs": [
    {
     "data": {
      "text/plain": [
       "'sudhanshu'"
      ]
     },
     "execution_count": 244,
     "metadata": {},
     "output_type": "execute_result"
    }
   ],
   "source": [
    "d1.pop('name')"
   ]
  },
  {
   "cell_type": "code",
   "execution_count": 245,
   "id": "c2207698-32c5-47c5-8066-848fc614a474",
   "metadata": {},
   "outputs": [
    {
     "data": {
      "text/plain": [
       "{'subject': ['ds', 'big', 'da'], 'number': 1234}"
      ]
     },
     "execution_count": 245,
     "metadata": {},
     "output_type": "execute_result"
    }
   ],
   "source": [
    "d1"
   ]
  },
  {
   "cell_type": "code",
   "execution_count": 31,
   "id": "b9f5f1e8-765d-4c24-b32a-158ab8fb002d",
   "metadata": {},
   "outputs": [
    {
     "data": {
      "text/plain": [
       "{1, 2, 3, 4, 5}"
      ]
     },
     "execution_count": 31,
     "metadata": {},
     "output_type": "execute_result"
    }
   ],
   "source": [
    "s1"
   ]
  },
  {
   "cell_type": "code",
   "execution_count": 34,
   "id": "f07912f0-86c9-4863-8aea-a8c14dc7e723",
   "metadata": {},
   "outputs": [
    {
     "data": {
      "text/plain": [
       "b'cmFt'"
      ]
     },
     "execution_count": 34,
     "metadata": {},
     "output_type": "execute_result"
    }
   ],
   "source": [
    "import base64\n",
    "ss='ram'\n",
    "base64.b64encode(ss.encode('utf-8'))"
   ]
  },
  {
   "cell_type": "code",
   "execution_count": null,
   "id": "8c6f5c8d-1c6a-4343-98aa-37bd9879cd08",
   "metadata": {},
   "outputs": [],
   "source": []
  }
 ],
 "metadata": {
  "kernelspec": {
   "display_name": "Python 3 (ipykernel)",
   "language": "python",
   "name": "python3"
  },
  "language_info": {
   "codemirror_mode": {
    "name": "ipython",
    "version": 3
   },
   "file_extension": ".py",
   "mimetype": "text/x-python",
   "name": "python",
   "nbconvert_exporter": "python",
   "pygments_lexer": "ipython3",
   "version": "3.11.2"
  }
 },
 "nbformat": 4,
 "nbformat_minor": 5
}
