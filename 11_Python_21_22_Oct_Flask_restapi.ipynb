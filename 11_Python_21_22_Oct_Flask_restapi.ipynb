{
 "cells": [
  {
   "cell_type": "code",
   "execution_count": null,
   "id": "72836f9e-3f17-49f7-9302-e61de62a2525",
   "metadata": {},
   "outputs": [],
   "source": [
    "# 21 Oct\n",
    "\n",
    "API : Application Programming Interface\n",
    "\n",
    "It behaves as a bridge and establish communication between two or more different or same systems.\n",
    "\n",
    "Example: \n",
    "    Calling a function from python to java\n",
    "    \n",
    "Flask:\n",
    "\n",
    "Postman:\n",
    "    testing an api\n"
   ]
  },
  {
   "cell_type": "code",
   "execution_count": 2,
   "id": "784efb0a-3bef-408d-81d4-8dd870fe4cf8",
   "metadata": {},
   "outputs": [],
   "source": [
    "# Project 1 : Image Scrapper"
   ]
  },
  {
   "cell_type": "code",
   "execution_count": 21,
   "id": "649dac45-1afa-4a4f-b255-bc5ad2395080",
   "metadata": {},
   "outputs": [],
   "source": [
    "# pip install requests"
   ]
  },
  {
   "cell_type": "code",
   "execution_count": 5,
   "id": "29588c29-8cf8-4c05-bf3a-85a05e36cf90",
   "metadata": {},
   "outputs": [],
   "source": [
    "import requests\n",
    "from bs4 import BeautifulSoup #extract data from url hit\n",
    "from urllib.request import urlopen as uReq\n",
    "import os"
   ]
  },
  {
   "cell_type": "code",
   "execution_count": 3,
   "id": "44850382-507d-46c5-a97d-19c8f9141d38",
   "metadata": {},
   "outputs": [],
   "source": [
    "save_dir = \"images/\"\n",
    "\n",
    "if not os.path.exists(save_dir):\n",
    "    os.makedirs(save_dir)\n",
    "\n",
    "query=\"Ganesha\" #q={query}\n",
    "response = requests.get(f\"https://www.google.com/search?q={query}&sxsrf=AJOqlzUuff1RXi2mm8I_OqOwT9VjfIDL7w:1676996143273&source=lnms&tbm=isch&sa=X&ved=2ahUKEwiq-qK7gaf9AhXUgVYBHYReAfYQ_AUoA3oECAEQBQ&biw=1920&bih=937&dpr=1#imgrc=1th7VhSesfMJ4M\")"
   ]
  },
  {
   "cell_type": "code",
   "execution_count": 4,
   "id": "0cc33ae8-0f67-488f-af4e-bf1bf9eeb1c1",
   "metadata": {},
   "outputs": [
    {
     "data": {
      "text/plain": [
       "<Response [200]>"
      ]
     },
     "execution_count": 4,
     "metadata": {},
     "output_type": "execute_result"
    }
   ],
   "source": [
    "response"
   ]
  },
  {
   "cell_type": "code",
   "execution_count": 7,
   "id": "ed200408-ec05-4ac9-907d-c9a1c9f3bb49",
   "metadata": {},
   "outputs": [],
   "source": [
    "soup = BeautifulSoup(response.content,'html.parser')"
   ]
  },
  {
   "cell_type": "code",
   "execution_count": 10,
   "id": "d403a8f6-3d70-48ca-88ac-01835254f181",
   "metadata": {},
   "outputs": [],
   "source": [
    "images_tages=soup.find_all(\"img\")"
   ]
  },
  {
   "cell_type": "code",
   "execution_count": 11,
   "id": "135db330-21c4-4326-8589-4ab0a6398535",
   "metadata": {},
   "outputs": [
    {
     "data": {
      "text/plain": [
       "21"
      ]
     },
     "execution_count": 11,
     "metadata": {},
     "output_type": "execute_result"
    }
   ],
   "source": [
    "len(images_tages)"
   ]
  },
  {
   "cell_type": "code",
   "execution_count": 12,
   "id": "f8afbbc0-b6ce-458e-9766-6c0de66a3105",
   "metadata": {},
   "outputs": [],
   "source": [
    "del images_tages[0]"
   ]
  },
  {
   "cell_type": "code",
   "execution_count": 20,
   "id": "d03638de-d3cf-4920-9b8f-e5538924aee0",
   "metadata": {},
   "outputs": [],
   "source": [
    "for i in images_tages:\n",
    "    image_url = i['src']\n",
    "    image_data = requests.get(image_url).content       \n",
    "    with open(os.path.join(save_dir, f\"{query}_{images_tages.index(i)}.jpg\"), \"wb\") as f:\n",
    "        f.write(image_data)"
   ]
  },
  {
   "cell_type": "code",
   "execution_count": null,
   "id": "0360b6fd-6eb8-4674-9515-14a9d81d261c",
   "metadata": {},
   "outputs": [],
   "source": []
  },
  {
   "cell_type": "code",
   "execution_count": 13,
   "id": "42742108-7703-47b2-8f06-82f15dcc3e2d",
   "metadata": {},
   "outputs": [
    {
     "data": {
      "text/plain": [
       "[<img alt=\"\" class=\"DS1iW\" src=\"https://encrypted-tbn0.gstatic.com/images?q=tbn:ANd9GcQVVtsDXaePLcP588rXK51V-o9jnZJMQLcjCsGT0PGOpd0Z7TqkTFXyQcombA&amp;s\"/>,\n",
       " <img alt=\"\" class=\"DS1iW\" src=\"https://encrypted-tbn0.gstatic.com/images?q=tbn:ANd9GcS5GWLt0oJwQ9kxzFRq7Pg4iE-Df26AMqXL3h4OoGzBNF8JQe3aHnlfnJig3g&amp;s\"/>,\n",
       " <img alt=\"\" class=\"DS1iW\" src=\"https://encrypted-tbn0.gstatic.com/images?q=tbn:ANd9GcTY-z9iyMBcrEWyOO2RwmIiJvUfh2PAVwzOAASbpLCwc0uC_u-fLH3Tt_vVYA&amp;s\"/>,\n",
       " <img alt=\"\" class=\"DS1iW\" src=\"https://encrypted-tbn0.gstatic.com/images?q=tbn:ANd9GcTtqZq7IAwvgu8wKTH1xivc2QirotuiC83Oxah1sHh6FeQul52fxB-upEiIbQ&amp;s\"/>,\n",
       " <img alt=\"\" class=\"DS1iW\" src=\"https://encrypted-tbn0.gstatic.com/images?q=tbn:ANd9GcS-PhhQtAQUPU5dNG4wE9CyCSe20UQ4ihl6qncMM2O9ZY2fCS7bFqc04OP9Nmo&amp;s\"/>,\n",
       " <img alt=\"\" class=\"DS1iW\" src=\"https://encrypted-tbn0.gstatic.com/images?q=tbn:ANd9GcQDbgUbhBgfR4euydhifpY5o4K0FQM3BjxjL6LMd4pd8Ydn9anDp6po4fAAPQ&amp;s\"/>,\n",
       " <img alt=\"\" class=\"DS1iW\" src=\"https://encrypted-tbn0.gstatic.com/images?q=tbn:ANd9GcQE2T6jaRNBR6PxU42tKL9o-TtcFg9fVHrmQ-cbq_6yJlVu0z99zCJK7lVFFA&amp;s\"/>,\n",
       " <img alt=\"\" class=\"DS1iW\" src=\"https://encrypted-tbn0.gstatic.com/images?q=tbn:ANd9GcQ_gHKEdKqZ-aXtrdAGz2Tp8LTLZBBzsFc7O_1V956WZMiVwG_CrXE_fRLw3pM&amp;s\"/>,\n",
       " <img alt=\"\" class=\"DS1iW\" src=\"https://encrypted-tbn0.gstatic.com/images?q=tbn:ANd9GcR9iJu6TNFUf4T6oSKLNwPfgc2jTDBuHJmNsNGYm1ghW4xpHSIUvfagUpWQvA&amp;s\"/>,\n",
       " <img alt=\"\" class=\"DS1iW\" src=\"https://encrypted-tbn0.gstatic.com/images?q=tbn:ANd9GcTF9PXlpH4hzqDndMxcYnR0IaIqhnFyjYaMJlVr1BNJ1Rj6LhKvasBuN4ODz9Y&amp;s\"/>,\n",
       " <img alt=\"\" class=\"DS1iW\" src=\"https://encrypted-tbn0.gstatic.com/images?q=tbn:ANd9GcSRue1-jQhBGwlEIHeEFCqvmbjiGMky42U5ZOO8abtQ6xoq1THHesWviPnUIw&amp;s\"/>,\n",
       " <img alt=\"\" class=\"DS1iW\" src=\"https://encrypted-tbn0.gstatic.com/images?q=tbn:ANd9GcTURg30ruV9KvXLmNQEoZ6B_5D9grO1kg8Pv5koerkjjCYlKbexkBkhxUdwcA&amp;s\"/>,\n",
       " <img alt=\"\" class=\"DS1iW\" src=\"https://encrypted-tbn0.gstatic.com/images?q=tbn:ANd9GcTv-G_z8Fet8cdabXw3h4qBvLgBNSgDJWWVfOIkft-Kl_B52PYM2DZd9I2ohA&amp;s\"/>,\n",
       " <img alt=\"\" class=\"DS1iW\" src=\"https://encrypted-tbn0.gstatic.com/images?q=tbn:ANd9GcT_J-Ufq5NXyz7tNn-XqLe1_eCbB2heYD1GwrmL74XcAjpJTWpQjGhKyMnZmFI&amp;s\"/>,\n",
       " <img alt=\"\" class=\"DS1iW\" src=\"https://encrypted-tbn0.gstatic.com/images?q=tbn:ANd9GcQTV7CTRT2JizAQryjUefinJti161zx65n5MvXeIppRNlvsnDfPrv_Qb-_XMQ&amp;s\"/>,\n",
       " <img alt=\"\" class=\"DS1iW\" src=\"https://encrypted-tbn0.gstatic.com/images?q=tbn:ANd9GcSVuxM0Fp8jGgWVS2NsH-JHFF0dz6yq87wHrZQEGPw8mFYlogvKamLeWqs_Ug&amp;s\"/>,\n",
       " <img alt=\"\" class=\"DS1iW\" src=\"https://encrypted-tbn0.gstatic.com/images?q=tbn:ANd9GcTx842UNaKTK3urGzwJGkIbsfVCarYzAtuKlrQ2JexREPX5oyFjrRBcO-Rm7CY&amp;s\"/>,\n",
       " <img alt=\"\" class=\"DS1iW\" src=\"https://encrypted-tbn0.gstatic.com/images?q=tbn:ANd9GcRgjsgqA5f0HsdcW3Zq8qwfSsXtgjMdDJtAtKAhfH6SUs9nAymbvESZoFeIaA0&amp;s\"/>,\n",
       " <img alt=\"\" class=\"DS1iW\" src=\"https://encrypted-tbn0.gstatic.com/images?q=tbn:ANd9GcSCVl1Q09UkYApN_gstMtv1CBsIppRCullD0k2G3oRhoKJKH4Bv4S0TwXjF5m0&amp;s\"/>,\n",
       " <img alt=\"\" class=\"DS1iW\" src=\"https://encrypted-tbn0.gstatic.com/images?q=tbn:ANd9GcQIjg9pSO-bqQJcdm3kiDmrKZHCOSJqkwTrccNZXz-P6H6OAA2PHD15UnoGdtY&amp;s\"/>]"
      ]
     },
     "execution_count": 13,
     "metadata": {},
     "output_type": "execute_result"
    }
   ],
   "source": [
    "images_tages"
   ]
  },
  {
   "cell_type": "code",
   "execution_count": 4,
   "id": "00588894-8528-4f9e-9ae6-ca911fe560cc",
   "metadata": {},
   "outputs": [],
   "source": [
    "# 22 Oct"
   ]
  },
  {
   "cell_type": "code",
   "execution_count": 10,
   "id": "353c0c13-e954-433e-b32d-e18e4727970f",
   "metadata": {},
   "outputs": [],
   "source": [
    "# Project 2 : Weather App using OpenWeatherMap API"
   ]
  },
  {
   "cell_type": "code",
   "execution_count": 11,
   "id": "b90fc428-1515-428c-adee-34b0b2250ad5",
   "metadata": {},
   "outputs": [],
   "source": [
    "# ?q=cityname # q query\n",
    "# units=metric\n",
    "# appid=apikey"
   ]
  },
  {
   "cell_type": "code",
   "execution_count": null,
   "id": "d1449c7b-0b01-460f-ac0a-633343acbbf8",
   "metadata": {},
   "outputs": [],
   "source": [
    "https://api.openweathermap.org/data/2.5/weather?q=bengaluru&units=metric&appid=b2f7276693524dc1283929277faa0eae"
   ]
  },
  {
   "cell_type": "code",
   "execution_count": 5,
   "id": "74cc876e-9f6d-4bc4-9f11-8c1be8f2f775",
   "metadata": {},
   "outputs": [],
   "source": [
    "apikey = 'b2f7276693524dc1283929277faa0eae'\n",
    "url = \"https://api.openweathermap.org/data/2.5/weather\""
   ]
  },
  {
   "cell_type": "code",
   "execution_count": 6,
   "id": "05d00086-2e81-4e1a-bd7b-6611a6aca987",
   "metadata": {},
   "outputs": [],
   "source": [
    "params = {\n",
    "'q' : \"delhi\",\n",
    "'appid' : apikey,\n",
    "'units' : \"metric\"\n",
    "}"
   ]
  },
  {
   "cell_type": "code",
   "execution_count": 8,
   "id": "d9f89acb-bdc8-4d6d-81ce-a2cf192e3169",
   "metadata": {},
   "outputs": [
    {
     "data": {
      "text/plain": [
       "<Response [200]>"
      ]
     },
     "execution_count": 8,
     "metadata": {},
     "output_type": "execute_result"
    }
   ],
   "source": [
    "import requests\n",
    "\n",
    "data = requests.get(url, params=params)\n",
    "\n",
    "data"
   ]
  },
  {
   "cell_type": "code",
   "execution_count": 9,
   "id": "dea921f9-3888-42bd-9512-f41270a8af8c",
   "metadata": {},
   "outputs": [
    {
     "data": {
      "text/plain": [
       "{'coord': {'lon': 77.2167, 'lat': 28.6667},\n",
       " 'weather': [{'id': 711,\n",
       "   'main': 'Smoke',\n",
       "   'description': 'smoke',\n",
       "   'icon': '50d'}],\n",
       " 'base': 'stations',\n",
       " 'main': {'temp': 23.05,\n",
       "  'feels_like': 23.08,\n",
       "  'temp_min': 23.05,\n",
       "  'temp_max': 23.05,\n",
       "  'pressure': 1020,\n",
       "  'humidity': 64},\n",
       " 'visibility': 1100,\n",
       " 'wind': {'speed': 0, 'deg': 0},\n",
       " 'clouds': {'all': 17},\n",
       " 'dt': 1697948406,\n",
       " 'sys': {'type': 1,\n",
       "  'id': 9165,\n",
       "  'country': 'IN',\n",
       "  'sunrise': 1697936145,\n",
       "  'sunset': 1697976919},\n",
       " 'timezone': 19800,\n",
       " 'id': 1273294,\n",
       " 'name': 'Delhi',\n",
       " 'cod': 200}"
      ]
     },
     "execution_count": 9,
     "metadata": {},
     "output_type": "execute_result"
    }
   ],
   "source": [
    "data.json()"
   ]
  },
  {
   "cell_type": "code",
   "execution_count": null,
   "id": "32697e4a-238d-4706-b3cc-ac1a19b35527",
   "metadata": {},
   "outputs": [],
   "source": [
    "1. build weather app in local\n",
    "2. upload code in github\n",
    "3. depoly in cloud\n",
    "4. test it"
   ]
  }
 ],
 "metadata": {
  "kernelspec": {
   "display_name": "Python 3 (ipykernel)",
   "language": "python",
   "name": "python3"
  },
  "language_info": {
   "codemirror_mode": {
    "name": "ipython",
    "version": 3
   },
   "file_extension": ".py",
   "mimetype": "text/x-python",
   "name": "python",
   "nbconvert_exporter": "python",
   "pygments_lexer": "ipython3",
   "version": "3.10.8"
  }
 },
 "nbformat": 4,
 "nbformat_minor": 5
}
