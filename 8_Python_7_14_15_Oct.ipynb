{
 "cells": [
  {
   "cell_type": "code",
   "execution_count": 1,
   "id": "07db4f62-d4b1-4426-97a7-741add469867",
   "metadata": {},
   "outputs": [],
   "source": [
    "# 7 Oct"
   ]
  },
  {
   "cell_type": "code",
   "execution_count": 5,
   "id": "9c135326-c1d1-4eae-8709-fe16939c413e",
   "metadata": {},
   "outputs": [],
   "source": [
    "# Inheritance :\n",
    "# Inherit properties and behavior from parent class to child class\n",
    "# Reusability of code"
   ]
  },
  {
   "cell_type": "code",
   "execution_count": 19,
   "id": "c1d19ed6-5a81-4c29-8e22-76d506f9d334",
   "metadata": {},
   "outputs": [
    {
     "name": "stdout",
     "output_type": "stream",
     "text": [
      "class A\n"
     ]
    }
   ],
   "source": [
    "# Multi level Inheritance\n",
    "class A:\n",
    "    def test(self):\n",
    "        print(\"class A\")\n",
    "obj=A()\n",
    "obj.test()"
   ]
  },
  {
   "cell_type": "code",
   "execution_count": 14,
   "id": "36e832bb-b70f-4713-8025-7775ba8135a5",
   "metadata": {},
   "outputs": [
    {
     "name": "stdout",
     "output_type": "stream",
     "text": [
      "class A\n"
     ]
    }
   ],
   "source": [
    "# Reusing the function test from class A to class B\n",
    "class B(A):\n",
    "    def test_2(self):\n",
    "        print(\"class B\")\n",
    "obj_b=B()\n",
    "obj_b.test()"
   ]
  },
  {
   "cell_type": "code",
   "execution_count": 18,
   "id": "75420be1-e041-4618-8e86-e27769d4e381",
   "metadata": {},
   "outputs": [
    {
     "name": "stdout",
     "output_type": "stream",
     "text": [
      "Multi level Inheritance\n",
      "class A\n",
      "class B\n",
      "class C\n"
     ]
    }
   ],
   "source": [
    "class C(B):\n",
    "    def test_3(self):\n",
    "        print(\"class C\")\n",
    "\n",
    "print(\"Multi level Inheritance\")\n",
    "obj_c=C()\n",
    "obj_c.test()\n",
    "obj_c.test_2()\n",
    "obj_c.test_3()"
   ]
  },
  {
   "cell_type": "code",
   "execution_count": 22,
   "id": "4c7fb007-61e9-46a1-984e-f0b930bcae14",
   "metadata": {},
   "outputs": [
    {
     "name": "stdout",
     "output_type": "stream",
     "text": [
      "Multiple Inheritance\n",
      "class A\n",
      "class B\n",
      "class C\n"
     ]
    }
   ],
   "source": [
    "# Multiple Inheritance\n",
    "class A:\n",
    "    def test(self):\n",
    "        print(\"class A\")\n",
    "class B:\n",
    "    def test_2(self):\n",
    "        print(\"class B\")\n",
    "\n",
    "class C(B,A):\n",
    "    def test_3(self):\n",
    "        print(\"class C\")\n",
    "\n",
    "print(\"Multiple Inheritance\")\n",
    "obj_c=C()\n",
    "obj_c.test()\n",
    "obj_c.test_2()\n",
    "obj_c.test_3()        "
   ]
  },
  {
   "cell_type": "code",
   "execution_count": 31,
   "id": "dacca8c5-feb4-4c62-8090-1ffb3eb0f13c",
   "metadata": {},
   "outputs": [
    {
     "name": "stdout",
     "output_type": "stream",
     "text": [
      "class BB\n",
      "class B\n",
      "class C\n"
     ]
    }
   ],
   "source": [
    "class A:\n",
    "    def test(self):\n",
    "        print(\"class A\")\n",
    "class B:\n",
    "    def test_2(self):\n",
    "        print(\"class B\")\n",
    "    def test(self):\n",
    "        print(\"class BB\")\n",
    "\n",
    "class C(B,A): #ordering\n",
    "    def test_3(self):\n",
    "        print(\"class C\")\n",
    "\n",
    "obj_c=C()\n",
    "obj_c.test()\n",
    "obj_c.test_2()\n",
    "obj_c.test_3()"
   ]
  },
  {
   "cell_type": "code",
   "execution_count": 32,
   "id": "83041dd9-1a41-47b9-8fce-0bd6afd5327e",
   "metadata": {},
   "outputs": [
    {
     "name": "stdout",
     "output_type": "stream",
     "text": [
      "class A\n",
      "class B\n",
      "class C\n"
     ]
    }
   ],
   "source": [
    "class A:\n",
    "    def test(self):\n",
    "        print(\"class A\")\n",
    "class B:\n",
    "    def test_2(self):\n",
    "        print(\"class B\")\n",
    "    def test(self):\n",
    "        print(\"class BB\")\n",
    "\n",
    "class C(A,B): #ordering\n",
    "    def test_3(self):\n",
    "        print(\"class C\")\n",
    "\n",
    "obj_c=C()\n",
    "obj_c.test()\n",
    "obj_c.test_2()\n",
    "obj_c.test_3()"
   ]
  },
  {
   "cell_type": "code",
   "execution_count": 1,
   "id": "c1828bd4-f974-4b31-b6ed-907b33b142b8",
   "metadata": {},
   "outputs": [],
   "source": [
    "# 14 Oct"
   ]
  },
  {
   "cell_type": "code",
   "execution_count": 1,
   "id": "7729d875-292a-4342-8897-40484e655ba7",
   "metadata": {},
   "outputs": [
    {
     "name": "stdout",
     "output_type": "stream",
     "text": [
      "sudh su@gmail.com\n",
      "sudh\n"
     ]
    }
   ],
   "source": [
    "class pwskills:\n",
    "    def __init__(self,mentor):\n",
    "        self.mentor=mentor\n",
    "    \n",
    "    def mentor_name(self):\n",
    "        print(self.mentor)\n",
    "\n",
    "class datascience(pwskills):\n",
    "    def __init__(self,mentor,mentor_mail_id):\n",
    "        self.mentor=mentor\n",
    "        self.mentor_mail_id=mentor_mail_id\n",
    "    \n",
    "    def show_info(self):\n",
    "        print(self.mentor, self.mentor_mail_id)\n",
    "\n",
    "obj1=datascience(\"sudh\",\"su@gmail.com\")\n",
    "obj1.show_info()\n",
    "obj1.mentor_name()"
   ]
  },
  {
   "cell_type": "code",
   "execution_count": 2,
   "id": "e25a58ad-225f-446b-91ed-b90e4f222089",
   "metadata": {},
   "outputs": [],
   "source": [
    "# super\n",
    "# self.mentor=mentor\n",
    "# self.course=course\n",
    "# self.price=price\n",
    "# self.online=online\n",
    "\n",
    "# Instead of writing same above lines of code in SUB CLASS\n",
    "# where ever when I do not want to reassign value in Derived Class\n",
    "# I can use super method.\n",
    "# super().__init__(mentor)\n",
    "# the above 2 statements are equal but "
   ]
  },
  {
   "cell_type": "code",
   "execution_count": 4,
   "id": "e1753282-80e6-4080-9f99-7f0462ecea4f",
   "metadata": {},
   "outputs": [
    {
     "name": "stdout",
     "output_type": "stream",
     "text": [
      "sudh\n",
      "sudh su@gmail.com\n",
      "sudh\n"
     ]
    }
   ],
   "source": [
    "class pwskills:\n",
    "    def __init__(self,mentor):\n",
    "        self.mentor=mentor\n",
    "    \n",
    "    def mentor_name(self):\n",
    "        print(self.mentor)\n",
    "\n",
    "class datascience(pwskills):\n",
    "    def __init__(self,mentor,mentor_mail_id):\n",
    "        # self.mentor=mentor\n",
    "        super().__init__(mentor) # this line == above line\n",
    "        # when ever if \"N\" number of varibles are defined in base class,\n",
    "        # init() no need mention all variable names in derived class\n",
    "        # just PASSING variables names in super.__init__(mentor) is fine.\n",
    "        self.mentor_mail_id=mentor_mail_id\n",
    "    \n",
    "    def show_info(self):\n",
    "        super().mentor_name() # self.mentor_name()\n",
    "        print(self.mentor, self.mentor_mail_id)\n",
    "\n",
    "obj1=datascience(\"sudh\",\"su@gmail.com\")\n",
    "obj1.show_info()\n",
    "obj1.mentor_name()"
   ]
  },
  {
   "cell_type": "code",
   "execution_count": 9,
   "id": "ade34485-57b2-4582-a1cb-0f4fe73d5c67",
   "metadata": {},
   "outputs": [
    {
     "name": "stdout",
     "output_type": "stream",
     "text": [
      "printing the eat method from human\n",
      "ram\n"
     ]
    }
   ],
   "source": [
    "class human:\n",
    "    def __init__(self):\n",
    "        pass\n",
    "    def eat(self):\n",
    "        print(\"printing the eat method from human\")\n",
    "\n",
    "class male(human):\n",
    "    def __init__(self, name):\n",
    "        self.name=name\n",
    "    \n",
    "    def eat(self):\n",
    "        super().eat() # calling eat method of human class called parent.\n",
    "        print(self.name)\n",
    "        \n",
    "ram=male(\"ram\")\n",
    "ram.eat()"
   ]
  },
  {
   "cell_type": "code",
   "execution_count": 16,
   "id": "eab8dbba-a538-42c2-b851-10cb68d38848",
   "metadata": {},
   "outputs": [
    {
     "name": "stdout",
     "output_type": "stream",
     "text": [
      "open file f1.txt\n"
     ]
    }
   ],
   "source": [
    "class fileopener:\n",
    "    # constructor\n",
    "    # obj created __init__() called automatically\n",
    "    def __init__(self,filename):\n",
    "        self.filename=filename\n",
    "    \n",
    "    def open_file(self):\n",
    "        print(\"open file\",self.filename)\n",
    "    \n",
    "    # destructor\n",
    "    # python by default calls garbage collection\n",
    "    # dunder method: inbuilt function __del__() destroy obj automatically.\n",
    "    # safer side we have written destructor\n",
    "    def __del__(self):\n",
    "        self.filename\n",
    "        print(\"close file: \")\n",
    "f1=fileopener(\"f1.txt\")\n",
    "f1.open_file()"
   ]
  },
  {
   "cell_type": "code",
   "execution_count": 26,
   "id": "cc9d970e-be7b-4ba1-b97e-145f25c4e422",
   "metadata": {},
   "outputs": [
    {
     "name": "stdout",
     "output_type": "stream",
     "text": [
      "init:  1697368306.1139514\n",
      "ended\n",
      "time spent:  0.00011706352233886719\n",
      "this is class timer\n"
     ]
    }
   ],
   "source": [
    "import time\n",
    "class timer:\n",
    "    # Inbuilt Function\n",
    "    # __init__() call automatically\n",
    "    def __init__(self):\n",
    "        self.start_time=time.time()\n",
    "        print(\"init: \",self.start_time)\n",
    "        \n",
    "    def task(self):\n",
    "        time_spent=time.time() - self.start_time\n",
    "        print(\"time spent: \",time_spent)\n",
    "    \n",
    "    # Inbuilt Function\n",
    "    def __str__(self): #print(t1)\n",
    "        return \"this is class timer\"\n",
    "    \n",
    "    # Inbuilt Function\n",
    "    # python automatically call __del__() maintain garbage collection\n",
    "    # compiler will call automatically\n",
    "    # nature of destructor\n",
    "    def __del__(self):\n",
    "        print(\"ended\")\n",
    "\n",
    "t1=timer()\n",
    "t1.task()\n",
    "print(t1) # printing the t1 from __str__"
   ]
  },
  {
   "cell_type": "code",
   "execution_count": 28,
   "id": "3ac9e422-bc8d-42e7-89eb-aabf184ab219",
   "metadata": {},
   "outputs": [],
   "source": [
    "# Decorators in functions\n",
    "# Decorators in class\n",
    "# Multiple decorators"
   ]
  },
  {
   "cell_type": "code",
   "execution_count": 29,
   "id": "92bf01e4-0e55-4679-b503-b46819f7b636",
   "metadata": {},
   "outputs": [],
   "source": [
    "# Decorators\n",
    "# properties of one function into another function"
   ]
  },
  {
   "cell_type": "code",
   "execution_count": 37,
   "id": "5514caa3-4e55-47ea-a7f5-e8feac1a775f",
   "metadata": {},
   "outputs": [
    {
     "name": "stdout",
     "output_type": "stream",
     "text": [
      "start inner test\n",
      "this is my test1\n",
      "end of inner test\n"
     ]
    }
   ],
   "source": [
    " # decorator function\n",
    "def test(func):\n",
    "    # inner function or wrapper function\n",
    "    def inner_test():\n",
    "        print(\"start inner test\")\n",
    "        func()\n",
    "        print(\"end of inner test\")\n",
    "    return inner_test\n",
    "\n",
    "@test # test function executed inside\n",
    "def test1():\n",
    "    print(\"this is my test1\")\n",
    "\n",
    "test1()"
   ]
  },
  {
   "cell_type": "code",
   "execution_count": 6,
   "id": "32842203-a7c9-49b8-8d72-f6ae13b3493a",
   "metadata": {},
   "outputs": [],
   "source": [
    "import time\n",
    "\n",
    "def print_list(l):\n",
    "    start_time = time.time()\n",
    "    for i in l:\n",
    "        print(i)\n",
    "    end_time= time.time()\n",
    "    total_time = end_time - start_time\n",
    "    print(total_time)"
   ]
  },
  {
   "cell_type": "code",
   "execution_count": 36,
   "id": "64ce86ee-a34c-4b19-868f-79b99f67b3bb",
   "metadata": {},
   "outputs": [],
   "source": [
    "def print_key(d):\n",
    "    start_time = time.time()\n",
    "    print(d.keys())\n",
    "    end_time= time.time()\n",
    "    total_time = end_time - start_time\n",
    "    print(total_time)"
   ]
  },
  {
   "cell_type": "code",
   "execution_count": 4,
   "id": "f77a42a9-fa2e-4a93-bae9-8ca9f7ef65db",
   "metadata": {},
   "outputs": [],
   "source": [
    "def measure_time(func): # decorator function\n",
    "    def cal_time(*args): # wrapper function and remember\n",
    "        start_time = time.time()\n",
    "        func(*args) # remember\n",
    "        end_time= time.time()\n",
    "        total_time = end_time - start_time\n",
    "        print(total_time)\n",
    "    return cal_time"
   ]
  },
  {
   "cell_type": "code",
   "execution_count": 46,
   "id": "e4fba6a9-dbec-48ff-b3f4-55a83c21a99e",
   "metadata": {},
   "outputs": [],
   "source": [
    "@measure_time\n",
    "def print_key(d):\n",
    "    print(d.keys())"
   ]
  },
  {
   "cell_type": "code",
   "execution_count": 47,
   "id": "1e845acc-77b1-4742-b9bf-74f6176d7a05",
   "metadata": {},
   "outputs": [
    {
     "name": "stdout",
     "output_type": "stream",
     "text": [
      "dict_keys(['key_1', 'key_2'])\n",
      "6.175041198730469e-05\n"
     ]
    }
   ],
   "source": [
    "print_key({'key_1':1,'key_2':2})"
   ]
  },
  {
   "cell_type": "code",
   "execution_count": 7,
   "id": "83f3fa74-76f1-4f79-8685-7bd4a6d8edd4",
   "metadata": {},
   "outputs": [
    {
     "name": "stdout",
     "output_type": "stream",
     "text": [
      "1 2 3 4 \n",
      "6.818771362304688e-05\n"
     ]
    }
   ],
   "source": [
    "@measure_time\n",
    "def print_list(l):\n",
    "    for i in l:\n",
    "        print(i,end=\" \")\n",
    "    print()\n",
    "print_list([1,2,3,4])"
   ]
  },
  {
   "cell_type": "code",
   "execution_count": 32,
   "id": "e5809740-bd87-402d-ae43-aaa670e4a7a2",
   "metadata": {},
   "outputs": [],
   "source": [
    "# Why decorators are used..?\n",
    "# We can reuse the same function code at where ever it required.\n",
    "# @decorator_function_name\n",
    "# Adding additional property top of existing function or property"
   ]
  },
  {
   "cell_type": "code",
   "execution_count": 11,
   "id": "11c4740c-19e4-4119-a26d-b1ad51b31a1d",
   "metadata": {},
   "outputs": [
    {
     "name": "stdout",
     "output_type": "stream",
     "text": [
      "5 6 7 8 9 \n",
      "7.82012939453125e-05\n"
     ]
    }
   ],
   "source": [
    "import logging\n",
    "def log_fun(func):\n",
    "    def log_inner(*args):\n",
    "        logging.basicConfig(filename=\"testter.log\",level=logging.INFO)\n",
    "        logging.info(\"start func\")\n",
    "        func(*args)\n",
    "        logging.info(\"end func\")\n",
    "    return log_inner\n",
    "\n",
    "# Using Multiple Decorator : decorator chaining\n",
    "@log_fun\n",
    "@measure_time\n",
    "def print_list(l):\n",
    "    for i in l:\n",
    "        print(i, end=\" \")\n",
    "    print()\n",
    "print_list([5,6,7,8,9])"
   ]
  },
  {
   "cell_type": "code",
   "execution_count": 22,
   "id": "0e7a8f89-9e0b-4f6f-bf0c-577243519d98",
   "metadata": {},
   "outputs": [
    {
     "data": {
      "text/plain": [
       "'bd'"
      ]
     },
     "execution_count": 22,
     "metadata": {},
     "output_type": "execute_result"
    }
   ],
   "source": [
    "# Decorators in classes and objects\n",
    "# Inbuilt decorators\n",
    "\n",
    "class ram:\n",
    "    def __init__(self, subject):\n",
    "        # subject : public access specifier, accessed every where\n",
    "        # _subject : protected access specifier, accessed with in the package and class\n",
    "        # __subject : private access specifier, accessed with in the class\n",
    "        self.__subject = subject\n",
    "        \n",
    "\n",
    "r = ram(\"ds\")\n",
    "r._ram__subject=\"bd\" # changing the value for private variable\n",
    "r._ram__subject # accessing private variable from class"
   ]
  },
  {
   "cell_type": "code",
   "execution_count": 33,
   "id": "2070b4e4-38de-485c-b838-c3d11385f8a5",
   "metadata": {},
   "outputs": [
    {
     "data": {
      "text/plain": [
       "'da'"
      ]
     },
     "execution_count": 33,
     "metadata": {},
     "output_type": "execute_result"
    }
   ],
   "source": [
    "class ram:\n",
    "    def __init__(self, subject):\n",
    "        # subject : public access specifier, accessed every where\n",
    "        # _subject : protected access specifier, accessed with in the package and class\n",
    "        # __subject : private access specifier, accessed with in the class\n",
    "        \n",
    "        # subject is a private variable\n",
    "        self.__subject = subject\n",
    "    \n",
    "    # Adding additional property top of existing function or existing property\n",
    "    @property # accessing private variable solving the problem by using @property.\n",
    "    # property is in built class in python\n",
    "    # MANUPULATE the value of a variable in property class\n",
    "    def subject_1(self):\n",
    "        return self.__subject\n",
    "    \n",
    "    @subject_1.setter\n",
    "    def subject_1(self,subject):\n",
    "        self.__subject=subject\n",
    "    \n",
    "    @subject_1.getter\n",
    "    def subject_1(self):\n",
    "        return self.__subject\n",
    "\n",
    "r1=ram(\"da\")\n",
    "r1.subject_1 \n",
    "# For accessing the private varible indirectly without defining _ram__subject,\n",
    "# just calling function subject_1 and accessing through it."
   ]
  },
  {
   "cell_type": "code",
   "execution_count": 31,
   "id": "5def35a2-b945-4074-8259-f963b76a3d95",
   "metadata": {},
   "outputs": [
    {
     "data": {
      "text/plain": [
       "'bc'"
      ]
     },
     "execution_count": 31,
     "metadata": {},
     "output_type": "execute_result"
    }
   ],
   "source": [
    "r1.subject_1=\"bc\"\n",
    "r1.subject_1"
   ]
  },
  {
   "cell_type": "code",
   "execution_count": 1,
   "id": "542d1333-0444-48a5-8f09-343ab7531538",
   "metadata": {},
   "outputs": [],
   "source": [
    "# 15 Oct"
   ]
  },
  {
   "cell_type": "code",
   "execution_count": 1,
   "id": "01559e22-4492-4ead-bb04-8be1f6b1a7c8",
   "metadata": {},
   "outputs": [],
   "source": [
    "# Polymorphism\n",
    "# Encapsulation\n",
    "# Abstraction\n",
    "# Composition"
   ]
  },
  {
   "cell_type": "code",
   "execution_count": 8,
   "id": "b1816690-b109-4129-b766-a77a7186e4e8",
   "metadata": {},
   "outputs": [],
   "source": [
    "# Polymorphism: \n",
    "# Poly:many, morphism:varities\n",
    "# object is same and nature is different based on scenario\n",
    "# same thing is behaving differently\n",
    "\n",
    "# Example:\n",
    "# Addition of two numbers\n",
    "# Concatenation of two strings\n",
    "# '+' operator is achieving polymorphism"
   ]
  },
  {
   "cell_type": "code",
   "execution_count": 9,
   "id": "b046e2db-ecea-4a3d-968a-f60ff750de76",
   "metadata": {},
   "outputs": [
    {
     "name": "stdout",
     "output_type": "stream",
     "text": [
      "data science student\n",
      "big data student\n"
     ]
    }
   ],
   "source": [
    "# Acieving Polymorphism by Method overriding\n",
    "class pw:\n",
    "    def stu(self):\n",
    "        pass\n",
    "class ds(pw):\n",
    "    def stu(self):\n",
    "        print(\"data science student\")\n",
    "class bd(pw):\n",
    "    def stu(self):\n",
    "        print(\"big data student\")\n",
    "\n",
    "y=ds()\n",
    "k=bd()\n",
    "y.stu() # Polymorphism\n",
    "k.stu() # Polymorphism"
   ]
  },
  {
   "cell_type": "code",
   "execution_count": 2,
   "id": "6a6a5d0f",
   "metadata": {},
   "outputs": [
    {
     "name": "stdout",
     "output_type": "stream",
     "text": [
      "Nothing to Find\n",
      "Area of square: 100\n",
      "Area of Rectangle: 200\n"
     ]
    }
   ],
   "source": [
    "#Method overloading concept of help of parameters\n",
    "class Area:\n",
    "    def find_area(self,a=None,b=None):\n",
    "        if a!=None and b!=None:\n",
    "             print(\"Area of Rectangle:\",(a*b))\n",
    "        elif a!=None:\n",
    "            print(\"Area of square:\",(a*a))\n",
    "        else:\n",
    "\t        print(\"Nothing to Find\")\n",
    "             \n",
    "obj1=Area()\n",
    "obj1.find_area()\n",
    "obj1.find_area(10)\n",
    "obj1.find_area(10,20)"
   ]
  },
  {
   "cell_type": "code",
   "execution_count": 1,
   "id": "4808a899-d825-4287-9f82-f6750c0f7bd5",
   "metadata": {},
   "outputs": [
    {
     "name": "stdout",
     "output_type": "stream",
     "text": [
      "5 34\n",
      "<__main__.bigdata object at 0x0000020BE7BB8C10>\n"
     ]
    }
   ],
   "source": [
    "# Acieving Polymorphism by Method Overloading\n",
    "class bigdata:\n",
    "    def __init__(self , number_of_class , number_of_studnet):\n",
    "        self.number_of_class = number_of_class\n",
    "        self.number_of_studnet = number_of_studnet\n",
    "    \n",
    "    # default method or dunder method or Inbuilt method\n",
    "    # method overloading\n",
    "    # adding objects\n",
    "    def __add__(self , other):\n",
    "        return bigdata(self.number_of_class + other.number_of_class, \n",
    "                       self.number_of_studnet + other.number_of_studnet)\n",
    "    \n",
    "c1 = bigdata(1,10)\n",
    "c2 = bigdata(2,12)\n",
    "#bigdata(3 , 22)\n",
    "c3 = bigdata(2,12)\n",
    "result = c1 + c2 + c3 # __add__() will call\n",
    "print(result.number_of_class , result.number_of_studnet)\n",
    "print(c1)"
   ]
  },
  {
   "cell_type": "code",
   "execution_count": 21,
   "id": "68d1b17d-7677-4985-b2f2-cef875b965c1",
   "metadata": {},
   "outputs": [],
   "source": [
    "class pw:\n",
    "    def stu(self):\n",
    "        pass\n",
    "\n",
    "class ds(pw):\n",
    "    def stu(self):\n",
    "        print(\"data science stu\")\n",
    "\n",
    "# Polymorphism achieved using duck typing\n",
    "def output_class(class_obj):\n",
    "    return class_obj.stu()"
   ]
  },
  {
   "cell_type": "code",
   "execution_count": 17,
   "id": "7a775dd9-dd9b-415f-91ce-c60e8d971ea4",
   "metadata": {},
   "outputs": [],
   "source": [
    "sesha=ds()\n",
    "sasha=bd()"
   ]
  },
  {
   "cell_type": "code",
   "execution_count": 18,
   "id": "1904c01c-8381-40bd-aef7-12d60f49624a",
   "metadata": {},
   "outputs": [
    {
     "name": "stdout",
     "output_type": "stream",
     "text": [
      "data science stu\n"
     ]
    }
   ],
   "source": [
    "output_class(sesha)"
   ]
  },
  {
   "cell_type": "code",
   "execution_count": 19,
   "id": "e73e307d-bbb3-42c8-956d-946734454a88",
   "metadata": {},
   "outputs": [
    {
     "name": "stdout",
     "output_type": "stream",
     "text": [
      "big data student\n"
     ]
    }
   ],
   "source": [
    "output_class(sasha)"
   ]
  },
  {
   "cell_type": "code",
   "execution_count": 24,
   "id": "e3ffff5d-4146-48f7-a83c-be21e177b6bb",
   "metadata": {},
   "outputs": [],
   "source": [
    "# Encapsulation\n",
    "# It means Hiding internal, actual implementation means\n",
    "# End user not aware which variable is updating or accessig\n",
    "\n",
    "# Example:\n",
    "# hiding the class, private variable and methods.\n",
    "# Using setter and getter methods"
   ]
  },
  {
   "cell_type": "code",
   "execution_count": 35,
   "id": "3cb5acec-14da-41e0-8247-328b5e2c6d64",
   "metadata": {},
   "outputs": [],
   "source": [
    "class test:\n",
    "    def __init__(self):\n",
    "        self.__x=\"ram\"\n",
    "        self.y=\"kishor\"\n",
    "        self.z=\"pwskills\"\n",
    "\n",
    "    # encapsulate this private function\n",
    "    def __test_math(self):\n",
    "        return \"this is just a test\"\n",
    "    \n",
    "    # directly not allowing to access 'x' variable\n",
    "    # but giving access to the variable\n",
    "    # using through access_var()\n",
    "    # End user not aware which variable is accessing\n",
    "    def access_var(self):\n",
    "        return self.__x\n",
    "    \n",
    "    # updating the private variable 'x' of its value\n",
    "    # End user not aware which variable is updating\n",
    "    def update_var(self,data):\n",
    "        self.__x=data"
   ]
  },
  {
   "cell_type": "code",
   "execution_count": 34,
   "id": "d45607f9-53d9-4bb8-842d-31f9edd83bf4",
   "metadata": {},
   "outputs": [],
   "source": [
    "t1=test()\n",
    "# t1._test__x\n",
    "t1.access_var()\n",
    "t1.update_var(\"kishor\")"
   ]
  },
  {
   "cell_type": "code",
   "execution_count": 11,
   "id": "44ccd7c6-1921-4d5f-a086-71bc9f3e8c84",
   "metadata": {},
   "outputs": [
    {
     "data": {
      "text/plain": [
       "'this is just a test'"
      ]
     },
     "execution_count": 11,
     "metadata": {},
     "output_type": "execute_result"
    }
   ],
   "source": [
    "t1._test__test_math()"
   ]
  },
  {
   "cell_type": "code",
   "execution_count": 3,
   "id": "bca98369-a072-4cc5-aedc-805758b03df5",
   "metadata": {},
   "outputs": [
    {
     "data": {
      "text/plain": [
       "5678"
      ]
     },
     "execution_count": 3,
     "metadata": {},
     "output_type": "execute_result"
    }
   ],
   "source": [
    "class bank:\n",
    "    def __init__(self,account_number,balance):\n",
    "        self.__account_number = account_number\n",
    "        self.__balance = balance #encapsulate the implementation of balance.\n",
    "\n",
    "    def check_balance(self,password):\n",
    "        if password == \"mysecurepass\":\n",
    "            return self.__balance\n",
    "        else:\n",
    "            return \"incorrect password\"\n",
    "\n",
    "ram=bank(1234,5678)\n",
    "ram.check_balance(\"mysecurepass\")"
   ]
  },
  {
   "cell_type": "code",
   "execution_count": 16,
   "id": "b21944ad-1748-41bd-9cc1-4a828b85f951",
   "metadata": {},
   "outputs": [
    {
     "name": "stdout",
     "output_type": "stream",
     "text": [
      "queue is empty\n"
     ]
    },
    {
     "data": {
      "text/plain": [
       "[1, 2]"
      ]
     },
     "execution_count": 16,
     "metadata": {},
     "output_type": "execute_result"
    }
   ],
   "source": [
    "class queue:\n",
    "    def __init__(self):\n",
    "        self.__queue = []\n",
    "    \n",
    "    def enqueue(self, data):\n",
    "        self.__queue.append(data)\n",
    "    \n",
    "    def dequeue(self):\n",
    "        if self.__queue: # if queue is available\n",
    "            return self.__queue.pop(0)\n",
    "        else:\n",
    "            print(\"queue is empty\")\n",
    "\n",
    "    def showdata(self):\n",
    "        return self.__queue\n",
    "\n",
    "q = queue()\n",
    "q.dequeue()\n",
    "\n",
    "q.enqueue(1)\n",
    "q.enqueue(2)\n",
    "q.showdata()"
   ]
  },
  {
   "cell_type": "code",
   "execution_count": 21,
   "id": "8cd48582-5bfc-4509-a22c-726faf63cd62",
   "metadata": {},
   "outputs": [],
   "source": [
    "# Abstraction\n",
    "# creation of outline or skeleton.\n",
    "\n",
    "# Example:\n",
    "# Defining a skeletion for big project,\n",
    "# Implementation of big project done by divide and conqueror approach,\n",
    "# divide work modules among the developers\n",
    "# every developer will work on their module, combine all others work modules and build big project."
   ]
  },
  {
   "cell_type": "code",
   "execution_count": 30,
   "id": "4018864e-f140-4d31-a59a-f865278248c6",
   "metadata": {},
   "outputs": [],
   "source": [
    "class pwskills:\n",
    "    def student_details(self):\n",
    "        return \"student details\"\n",
    "\n",
    "from abc import ABC, abstractmethod\n",
    "class pwskills(ABC):\n",
    "    # this is a skeletion class, just only defined.\n",
    "    \n",
    "    @abstractmethod\n",
    "    def data_base_connect(self):\n",
    "        pass\n",
    "    \n",
    "    # if the below methods are not implemented then error occurs,\n",
    "    # though calling only this data_base_connect() method.\n",
    "    # so commented for now.\n",
    "    \"\"\"\n",
    "    @abstractmethod\n",
    "    def check_user_enrollment(self, usermail_id):\n",
    "        pass\n",
    "    \n",
    "    @abstractmethod\n",
    "    def check_completed_lecture(self, user_id, class_id):\n",
    "        pass\n",
    "    \n",
    "    @abstractmethod\n",
    "    def check_intership(self,user_id):\n",
    "        pass\n",
    "    \"\"\""
   ]
  },
  {
   "cell_type": "code",
   "execution_count": 23,
   "id": "3a71d9b4-5cd3-4c1e-a026-f6d9b13eec50",
   "metadata": {},
   "outputs": [],
   "source": [
    "class databaseconnectivity(pwskills):\n",
    "    def data_base_connect(self):\n",
    "        print(\"implementation of database connect\")"
   ]
  },
  {
   "cell_type": "code",
   "execution_count": 24,
   "id": "e78bf461-9f40-4a22-bcce-f594289fa3eb",
   "metadata": {},
   "outputs": [
    {
     "name": "stdout",
     "output_type": "stream",
     "text": [
      "implementation of database connect\n"
     ]
    }
   ],
   "source": [
    "db = databaseconnectivity()\n",
    "db.data_base_connect()"
   ]
  },
  {
   "cell_type": "code",
   "execution_count": 51,
   "id": "190117e2-a01c-4afc-a9eb-18589b3988dc",
   "metadata": {},
   "outputs": [
    {
     "ename": "TypeError",
     "evalue": "calculation.sub() takes 2 positional arguments but 3 were given",
     "output_type": "error",
     "traceback": [
      "\u001b[0;31m---------------------------------------------------------------------------\u001b[0m",
      "\u001b[0;31mTypeError\u001b[0m                                 Traceback (most recent call last)",
      "Cell \u001b[0;32mIn[51], line 16\u001b[0m\n\u001b[1;32m     13\u001b[0m         \u001b[38;5;28;01mreturn\u001b[39;00m x\u001b[38;5;241m/\u001b[39my\n\u001b[1;32m     15\u001b[0m a \u001b[38;5;241m=\u001b[39m calculation()\n\u001b[0;32m---> 16\u001b[0m \u001b[43ma\u001b[49m\u001b[38;5;241;43m.\u001b[39;49m\u001b[43msub\u001b[49m\u001b[43m(\u001b[49m\u001b[38;5;241;43m3\u001b[39;49m\u001b[43m,\u001b[49m\u001b[38;5;241;43m4\u001b[39;49m\u001b[43m)\u001b[49m\n",
      "\u001b[0;31mTypeError\u001b[0m: calculation.sub() takes 2 positional arguments but 3 were given"
     ]
    }
   ],
   "source": [
    "class calculation:\n",
    "    @staticmethod\n",
    "    # after defining static method the add() function is independent of the class\n",
    "    # add() is not dependent on the object\n",
    "    # self is not there\n",
    "    def add(x,y):\n",
    "        return x+y\n",
    "    \n",
    "    def sub(x,y):\n",
    "        return x-y\n",
    "    \n",
    "    def div(self,x,y):\n",
    "        return x/y\n",
    "\n",
    "a = calculation()\n",
    "a.sub(3,4)"
   ]
  },
  {
   "cell_type": "code",
   "execution_count": 36,
   "id": "76699847-3612-4717-a359-80e25103b24a",
   "metadata": {},
   "outputs": [
    {
     "data": {
      "text/plain": [
       "0.5714285714285714"
      ]
     },
     "execution_count": 36,
     "metadata": {},
     "output_type": "execute_result"
    }
   ],
   "source": [
    "b = calculation()\n",
    "b.div(4,7)"
   ]
  },
  {
   "cell_type": "code",
   "execution_count": 37,
   "id": "dfab9745-2b5e-4216-9973-1ec575d59e4a",
   "metadata": {},
   "outputs": [
    {
     "data": {
      "text/plain": [
       "7"
      ]
     },
     "execution_count": 37,
     "metadata": {},
     "output_type": "execute_result"
    }
   ],
   "source": [
    "calculation.add(3,4)"
   ]
  },
  {
   "cell_type": "code",
   "execution_count": 38,
   "id": "734b8a79-429e-4263-8264-be47c374c118",
   "metadata": {},
   "outputs": [
    {
     "data": {
      "text/plain": [
       "0.8"
      ]
     },
     "execution_count": 38,
     "metadata": {},
     "output_type": "execute_result"
    }
   ],
   "source": [
    "calculation.div(_,4,5)"
   ]
  },
  {
   "cell_type": "code",
   "execution_count": 54,
   "id": "7348250f-f36d-48e7-9e0e-089a4ada4678",
   "metadata": {},
   "outputs": [],
   "source": [
    "class child_cal(calculation):\n",
    "    pass\n",
    "    # without self keyword in add()\n",
    "    # if add() is redfined in this class or method overrided\n",
    "    # without @staticmethod to add() error occurs because there is no self keyword."
   ]
  },
  {
   "cell_type": "code",
   "execution_count": 53,
   "id": "a41022e8-d028-4242-8559-94346b03df90",
   "metadata": {},
   "outputs": [
    {
     "data": {
      "text/plain": [
       "7"
      ]
     },
     "execution_count": 53,
     "metadata": {},
     "output_type": "execute_result"
    }
   ],
   "source": [
    "c1 = child_cal()\n",
    "c1.add(3,4)\n",
    "# when there is no self in add() in calculation class\n",
    "# after inheritance of calculation class into child_cal class\n",
    "# self is added internally"
   ]
  },
  {
   "cell_type": "code",
   "execution_count": 57,
   "id": "00234dc0-5474-4723-ab61-519420138d8d",
   "metadata": {},
   "outputs": [],
   "source": [
    "class file:\n",
    "    def __init__(self, filename):\n",
    "        self.filename = filename\n",
    "    \n",
    "    def read_file(self):\n",
    "        with open(self.filename, 'r') as file:\n",
    "            return file.read()\n",
    "    \n",
    "    def write_file(self,data):\n",
    "        with open(self.filename, 'w') as file:\n",
    "            file.write(data)"
   ]
  },
  {
   "cell_type": "code",
   "execution_count": 60,
   "id": "da698523-516f-4bdd-ba37-c405a32a3730",
   "metadata": {},
   "outputs": [
    {
     "data": {
      "text/plain": [
       "'first data'"
      ]
     },
     "execution_count": 60,
     "metadata": {},
     "output_type": "execute_result"
    }
   ],
   "source": [
    "ram = file(\"file_00.txt\")\n",
    "ram.write_file(\"first data\")\n",
    "ram.read_file()"
   ]
  },
  {
   "cell_type": "code",
   "execution_count": 68,
   "id": "5565db4d-c21f-414a-8ecd-813573203880",
   "metadata": {},
   "outputs": [],
   "source": [
    "# Composition\n",
    "# build a complex object with using a simple object \n",
    "# or\n",
    "# combine multiple objects into new object\n",
    "\n",
    "# without using inheritance we can call student() of pwskills"
   ]
  },
  {
   "cell_type": "code",
   "execution_count": 62,
   "id": "c96fec9a-4dee-41eb-a2c8-a211c9a6dcbb",
   "metadata": {},
   "outputs": [],
   "source": [
    "class pwskills:\n",
    "    def student(self):\n",
    "        return \"Student details\"\n",
    "\n",
    "class datascience:\n",
    "    def __init__(self):\n",
    "        self.student=pwskills()"
   ]
  },
  {
   "cell_type": "code",
   "execution_count": 64,
   "id": "ce6c58c6-5dab-4fbb-a4c3-0b5ab950b2c6",
   "metadata": {},
   "outputs": [
    {
     "data": {
      "text/plain": [
       "'Student details'"
      ]
     },
     "execution_count": 64,
     "metadata": {},
     "output_type": "execute_result"
    }
   ],
   "source": [
    "ds = datascience()\n",
    "ds.student.student()"
   ]
  },
  {
   "cell_type": "code",
   "execution_count": 76,
   "id": "19a392b2-e787-4f69-a4e2-d7c41c8c17d7",
   "metadata": {},
   "outputs": [
    {
     "data": {
      "text/plain": [
       "'ram'"
      ]
     },
     "execution_count": 76,
     "metadata": {},
     "output_type": "execute_result"
    }
   ],
   "source": [
    "class data:\n",
    "    def __init__(self,mentor_name):\n",
    "        self.mentor_name=mentor_name\n",
    "\n",
    "class webdev:\n",
    "    def __init__(self, mentor_name,lecture_name):\n",
    "        self.mentor_name=mentor_name\n",
    "        self.lecture_name=lecture_name\n",
    "\n",
    "d = data(\"ram\")\n",
    "w = webdev(d,\"ml\")\n",
    "\n",
    "d.mentor_name"
   ]
  },
  {
   "cell_type": "code",
   "execution_count": 80,
   "id": "3c8cca3e-2431-45fc-b664-2db798116ccd",
   "metadata": {},
   "outputs": [
    {
     "data": {
      "text/plain": [
       "'ram'"
      ]
     },
     "execution_count": 80,
     "metadata": {},
     "output_type": "execute_result"
    }
   ],
   "source": [
    "w.mentor_name.mentor_name"
   ]
  },
  {
   "cell_type": "code",
   "execution_count": 88,
   "id": "98367f38-4169-471e-aa26-bcbbbfb1225b",
   "metadata": {},
   "outputs": [],
   "source": [
    "# zip\n",
    "# zipping one or more iterables into pair of tuples of final single list"
   ]
  },
  {
   "cell_type": "code",
   "execution_count": 87,
   "id": "a0118b11-bad3-4c52-82a4-29e5492d5153",
   "metadata": {},
   "outputs": [
    {
     "data": {
      "text/plain": [
       "[(1, 'a', True), (2, 'b', False)]"
      ]
     },
     "execution_count": 87,
     "metadata": {},
     "output_type": "execute_result"
    }
   ],
   "source": [
    "l=[1,2,3,4]\n",
    "m=['a','b','c','d']\n",
    "r=[True,False]\n",
    "list(zip(l,m,r))"
   ]
  },
  {
   "cell_type": "code",
   "execution_count": 95,
   "id": "a656c798-e6ad-435b-97c5-343f49a934bb",
   "metadata": {},
   "outputs": [],
   "source": [
    "# enumeration\n",
    "# return index along with data"
   ]
  },
  {
   "cell_type": "code",
   "execution_count": 94,
   "id": "bc0e8619-eb3b-4886-b725-27e61f88ca39",
   "metadata": {},
   "outputs": [
    {
     "name": "stdout",
     "output_type": "stream",
     "text": [
      "0 a\n",
      "1 b\n",
      "2 c\n",
      "3 d\n"
     ]
    }
   ],
   "source": [
    "l=['a','b','c','d']\n",
    "for k,v in enumerate(l):\n",
    "    print(k,v)"
   ]
  }
 ],
 "metadata": {
  "kernelspec": {
   "display_name": "Python 3 (ipykernel)",
   "language": "python",
   "name": "python3"
  },
  "language_info": {
   "codemirror_mode": {
    "name": "ipython",
    "version": 3
   },
   "file_extension": ".py",
   "mimetype": "text/x-python",
   "name": "python",
   "nbconvert_exporter": "python",
   "pygments_lexer": "ipython3",
   "version": "3.11.2"
  }
 },
 "nbformat": 4,
 "nbformat_minor": 5
}
