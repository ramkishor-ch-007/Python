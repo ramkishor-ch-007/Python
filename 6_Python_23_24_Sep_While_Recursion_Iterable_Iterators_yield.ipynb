{
 "cells": [
  {
   "cell_type": "code",
   "execution_count": null,
   "id": "f118a49b-71cc-48f1-b42c-9778bad6bf0b",
   "metadata": {},
   "outputs": [],
   "source": [
    "# while loop"
   ]
  },
  {
   "cell_type": "code",
   "execution_count": 2,
   "id": "ae126464-2819-4d2a-b997-abe5b8ff0adf",
   "metadata": {},
   "outputs": [
    {
     "name": "stdout",
     "output_type": "stream",
     "text": [
      "100 99 98 97 96 95 94 93 92 91 90 89 88 87 86 85 84 83 82 81 80 79 78 77 76 75 74 73 72 71 70 69 68 67 66 65 64 63 62 61 60 59 58 57 56 55 54 53 52 51 50 49 48 47 46 45 44 43 42 41 40 39 38 37 36 35 34 33 32 31 30 29 28 27 26 25 24 23 22 21 20 19 18 17 16 15 14 13 12 11 10 9 8 7 6 5 4 3 2 1 "
     ]
    }
   ],
   "source": [
    "n=100\n",
    "while n>0:\n",
    "    print(n,end=\" \")\n",
    "    n=n-1"
   ]
  },
  {
   "cell_type": "code",
   "execution_count": 1,
   "id": "8648d4c8-3383-4116-867c-c1a8ebb5bde8",
   "metadata": {},
   "outputs": [
    {
     "name": "stdout",
     "output_type": "stream",
     "text": [
      "55\n"
     ]
    }
   ],
   "source": [
    "sum=0\n",
    "n=1\n",
    "t=10\n",
    "while n<=t:\n",
    "    sum=sum+n\n",
    "    n=n+1\n",
    "print(sum)"
   ]
  },
  {
   "cell_type": "code",
   "execution_count": 4,
   "id": "753f139f-f6f3-4446-8e5d-9b7ea55f07ae",
   "metadata": {},
   "outputs": [
    {
     "name": "stdout",
     "output_type": "stream",
     "text": [
      "18 x 1 = 18\n",
      "18 x 2 = 36\n",
      "18 x 3 = 54\n",
      "18 x 4 = 72\n",
      "18 x 5 = 90\n",
      "18 x 6 = 108\n",
      "18 x 7 = 126\n",
      "18 x 8 = 144\n",
      "18 x 9 = 162\n",
      "18 x 10 = 180\n"
     ]
    }
   ],
   "source": [
    "r=10\n",
    "n=18\n",
    "m=1\n",
    "while m<=10:\n",
    "    print(n,\"x\",m,\"=\",n*m)\n",
    "    m=m+1"
   ]
  },
  {
   "cell_type": "code",
   "execution_count": 10,
   "id": "ec612944-4987-45b6-8955-5ed0dc547971",
   "metadata": {},
   "outputs": [
    {
     "name": "stdout",
     "output_type": "stream",
     "text": [
      "5\n",
      "4\n",
      "3\n",
      "time over\n"
     ]
    }
   ],
   "source": [
    "import time\n",
    "n = 5\n",
    "while n>=1:\n",
    "    print(n)\n",
    "    time.sleep(1)\n",
    "    if n==3:\n",
    "        break\n",
    "    n=n-1\n",
    "print(\"time over\")"
   ]
  },
  {
   "cell_type": "code",
   "execution_count": 12,
   "id": "f9a6661d-8923-4b58-b44c-d82a2ba2bb1b",
   "metadata": {},
   "outputs": [
    {
     "name": "stdout",
     "output_type": "stream",
     "text": [
      "enter s to stop the timer\n"
     ]
    },
    {
     "name": "stdout",
     "output_type": "stream",
     "text": [
      "enter s for stop g\n"
     ]
    },
    {
     "name": "stdout",
     "output_type": "stream",
     "text": [
      "enter s to stop the timer\n"
     ]
    },
    {
     "name": "stdout",
     "output_type": "stream",
     "text": [
      "enter s for stop s\n"
     ]
    },
    {
     "name": "stdout",
     "output_type": "stream",
     "text": [
      "time over\n"
     ]
    }
   ],
   "source": [
    "import time\n",
    "n = False\n",
    "while not n:\n",
    "    print(\"enter s to stop the timer\")\n",
    "    time.sleep(1)\n",
    "    press_stop=input(\"enter s for stop\")\n",
    "    if press_stop.lower()=='s':\n",
    "        n=True\n",
    "print(\"time over\")"
   ]
  },
  {
   "cell_type": "code",
   "execution_count": 26,
   "id": "f9c09ec3-b0fb-45df-ab8f-5c5d21a56e65",
   "metadata": {},
   "outputs": [
    {
     "name": "stdout",
     "output_type": "stream",
     "text": [
      "account locked\n"
     ]
    }
   ],
   "source": [
    "id=12\n",
    "pwd=456\n",
    "global n\n",
    "while n<=3:\n",
    "    if id==123 and pwd==456:\n",
    "        print(\"successfully logged in\")\n",
    "        break\n",
    "    else:\n",
    "        n=n+1\n",
    "        print(\"incorrect id\")   \n",
    "        break\n",
    "if n>3:\n",
    "    print(\"account locked\")"
   ]
  },
  {
   "cell_type": "code",
   "execution_count": 4,
   "id": "56e5497a-8473-49cb-adb0-01c51bb5d094",
   "metadata": {},
   "outputs": [
    {
     "name": "stdout",
     "output_type": "stream",
     "text": [
      "enter task 1\n",
      "enter n or y to add in todo list y\n",
      "enter task 2\n",
      "enter n or y to add in todo list n\n"
     ]
    },
    {
     "name": "stdout",
     "output_type": "stream",
     "text": [
      "todo list ['1', '2']\n"
     ]
    }
   ],
   "source": [
    "to_do_list=[]\n",
    "end_to_do='y'\n",
    "while end_to_do != 'n':\n",
    "    todo_item=input(\"enter task\")\n",
    "    to_do_list.append(todo_item)\n",
    "    end_to_do=input(\"enter n or y to add in todo list\")\n",
    "print(\"todo list\",to_do_list)"
   ]
  },
  {
   "cell_type": "code",
   "execution_count": 5,
   "id": "916b0f6b-5274-4581-a203-7617c6194872",
   "metadata": {},
   "outputs": [],
   "source": [
    "# Recursion"
   ]
  },
  {
   "cell_type": "code",
   "execution_count": 47,
   "id": "2693bfa8-0e05-4bba-aed6-7422a307879c",
   "metadata": {},
   "outputs": [
    {
     "data": {
      "text/plain": [
       "21"
      ]
     },
     "execution_count": 47,
     "metadata": {},
     "output_type": "execute_result"
    }
   ],
   "source": [
    "# calculate 8 fibonacci number\n",
    "def fib(n):\n",
    "    if n<=1:\n",
    "        return n\n",
    "    else:\n",
    "        return fib(n-1)+fib(n-2)\n",
    "\n",
    "fib(8)"
   ]
  },
  {
   "cell_type": "code",
   "execution_count": 46,
   "id": "2c6d701c-0067-4d94-9d9f-5223aec08be7",
   "metadata": {},
   "outputs": [
    {
     "data": {
      "text/plain": [
       "4"
      ]
     },
     "execution_count": 46,
     "metadata": {},
     "output_type": "execute_result"
    }
   ],
   "source": [
    "# find sum of a digit using recursion\n",
    "def su(n):\n",
    "    if n<10:\n",
    "        return n\n",
    "    else:\n",
    "        return n%10+su(n//10)\n",
    "su(22)"
   ]
  },
  {
   "cell_type": "code",
   "execution_count": 45,
   "id": "9e83d7df-1c2d-4dbc-9f43-5e61e218074b",
   "metadata": {},
   "outputs": [
    {
     "data": {
      "text/plain": [
       "4"
      ]
     },
     "execution_count": 45,
     "metadata": {},
     "output_type": "execute_result"
    }
   ],
   "source": [
    "# find sum of a digit using loop\n",
    "def getsum(n):\n",
    "    s=0\n",
    "    for i in str(n):\n",
    "        s+=int(i)\n",
    "    return s\n",
    "getsum(22)"
   ]
  },
  {
   "cell_type": "code",
   "execution_count": 43,
   "id": "7792bc50-4705-497f-b3bb-43a2708b9382",
   "metadata": {},
   "outputs": [
    {
     "data": {
      "text/plain": [
       "76"
      ]
     },
     "execution_count": 43,
     "metadata": {},
     "output_type": "execute_result"
    }
   ],
   "source": [
    "# find max number from given list\n",
    "def maxx(a,b):\n",
    "    if a>b:\n",
    "        return a\n",
    "    return b\n",
    "\n",
    "def fun(l):\n",
    "    if len(l)==1:\n",
    "        return l[0]\n",
    "    else:\n",
    "        return maxx(l[0], fun(l[1::]))\n",
    "    \n",
    "fun([3,4,5,6,76])"
   ]
  },
  {
   "cell_type": "code",
   "execution_count": 50,
   "id": "ca8bb7bf-31df-4d63-885d-a114afde84d1",
   "metadata": {},
   "outputs": [
    {
     "data": {
      "text/plain": [
       "16"
      ]
     },
     "execution_count": 50,
     "metadata": {},
     "output_type": "execute_result"
    }
   ],
   "source": [
    "# calculate 2^4 using recursion\n",
    "def po(n,k):\n",
    "    if k==0:\n",
    "        return 1\n",
    "    else:\n",
    "        return n*po(n,k-1)\n",
    "\n",
    "po(2,4)"
   ]
  },
  {
   "cell_type": "code",
   "execution_count": 14,
   "id": "25e7d058-e729-46af-a5e1-d170a60dc634",
   "metadata": {},
   "outputs": [],
   "source": [
    "# 24 sep"
   ]
  },
  {
   "cell_type": "code",
   "execution_count": 3,
   "id": "7f960372-9ebe-48a0-8269-5a45be4a6d76",
   "metadata": {},
   "outputs": [
    {
     "data": {
      "text/plain": [
       "9"
      ]
     },
     "execution_count": 3,
     "metadata": {},
     "output_type": "execute_result"
    }
   ],
   "source": [
    "s=\"ramkishor\"\n",
    "len(s)"
   ]
  },
  {
   "cell_type": "code",
   "execution_count": 42,
   "id": "4555c7f5-9de8-4cff-99a0-fa5b21378f7b",
   "metadata": {},
   "outputs": [
    {
     "data": {
      "text/plain": [
       "9"
      ]
     },
     "execution_count": 42,
     "metadata": {},
     "output_type": "execute_result"
    }
   ],
   "source": [
    "# find the len of the string\n",
    "def find_len(s):\n",
    "    if s== \"\":\n",
    "        return 0\n",
    "    else:\n",
    "        return 1 + find_len(s[1::])\n",
    "find_len(\"ramkishor\")"
   ]
  },
  {
   "cell_type": "code",
   "execution_count": 41,
   "id": "18494550-b6ef-40e1-86b3-9c3c1e0af545",
   "metadata": {},
   "outputs": [
    {
     "data": {
      "text/plain": [
       "'dcba'"
      ]
     },
     "execution_count": 41,
     "metadata": {},
     "output_type": "execute_result"
    }
   ],
   "source": [
    "# reverse a string\n",
    "def rev(s):\n",
    "    if s==\"\":\n",
    "        return \"\"\n",
    "    else:\n",
    "        return rev(s[1:]) + s[0]\n",
    "rev(\"abcd\")"
   ]
  },
  {
   "cell_type": "code",
   "execution_count": 40,
   "id": "0fcdd843-135b-4f74-945b-9626fb65643a",
   "metadata": {},
   "outputs": [
    {
     "data": {
      "text/plain": [
       "4"
      ]
     },
     "execution_count": 40,
     "metadata": {},
     "output_type": "execute_result"
    }
   ],
   "source": [
    "# find occurences of character of a in string\n",
    "def nochar(s,c):\n",
    "    if s==\"\":\n",
    "        return 0\n",
    "    elif s[0]==c:\n",
    "        return 1 + nochar(s[1:], c)\n",
    "    else:\n",
    "        return nochar(s[1:], c)\n",
    "nochar(\"abacada\",\"a\")"
   ]
  },
  {
   "cell_type": "code",
   "execution_count": 39,
   "id": "9f2ee296-0267-4f7a-83b9-2b08b237e8a1",
   "metadata": {},
   "outputs": [
    {
     "data": {
      "text/plain": [
       "False"
      ]
     },
     "execution_count": 39,
     "metadata": {},
     "output_type": "execute_result"
    }
   ],
   "source": [
    "l=[9,5,6,7]\n",
    "\n",
    "# check the given list is sorted or not\n",
    "def lis(l):\n",
    "    if len(l)<=1:\n",
    "        return True\n",
    "    elif l[0] > l[1]:\n",
    "        return False\n",
    "    else:\n",
    "        return lis(l[1::])\n",
    "lis(l)"
   ]
  },
  {
   "cell_type": "code",
   "execution_count": 1,
   "id": "68a0d1da-58db-4efe-97e7-30f1d25b7988",
   "metadata": {},
   "outputs": [
    {
     "data": {
      "text/plain": [
       "True"
      ]
     },
     "execution_count": 1,
     "metadata": {},
     "output_type": "execute_result"
    }
   ],
   "source": [
    "# check given number is a perfect square or not\n",
    "def pesq(n,s=1):\n",
    "    if n==s**2:\n",
    "        return True\n",
    "    elif n<s**2:\n",
    "        return False\n",
    "    else:\n",
    "        return pesq(n,s+1)\n",
    "pesq(4)"
   ]
  },
  {
   "cell_type": "code",
   "execution_count": 72,
   "id": "3e89cdf4-6b91-4701-ac76-457d9f51e1e6",
   "metadata": {},
   "outputs": [],
   "source": [
    "# Iterable\n",
    "# Iterators"
   ]
  },
  {
   "cell_type": "code",
   "execution_count": 53,
   "id": "45f72c9a-1490-4532-8770-5b083ebc7920",
   "metadata": {},
   "outputs": [],
   "source": [
    "l = [1,2,3,4]\n",
    "a = 10\n",
    "s = \"str\""
   ]
  },
  {
   "cell_type": "code",
   "execution_count": 56,
   "id": "6da5d7c7-38fb-48cb-bd7a-afa520343e49",
   "metadata": {},
   "outputs": [
    {
     "ename": "TypeError",
     "evalue": "'int' object is not iterable",
     "output_type": "error",
     "traceback": [
      "\u001b[0;31m---------------------------------------------------------------------------\u001b[0m",
      "\u001b[0;31mTypeError\u001b[0m                                 Traceback (most recent call last)",
      "Cell \u001b[0;32mIn[56], line 1\u001b[0m\n\u001b[0;32m----> 1\u001b[0m \u001b[38;5;28;01mfor\u001b[39;00m i \u001b[38;5;129;01min\u001b[39;00m a:\n\u001b[1;32m      2\u001b[0m     \u001b[38;5;28mprint\u001b[39m(i)\n\u001b[1;32m      3\u001b[0m \u001b[38;5;66;03m# for loop is calling iter()\u001b[39;00m\n",
      "\u001b[0;31mTypeError\u001b[0m: 'int' object is not iterable"
     ]
    }
   ],
   "source": [
    "for i in a:\n",
    "    print(i)\n",
    "# for loop is calling iter()"
   ]
  },
  {
   "cell_type": "code",
   "execution_count": 55,
   "id": "d1f1dcd1-76ff-4798-bebe-c6447ac41ade",
   "metadata": {},
   "outputs": [
    {
     "ename": "TypeError",
     "evalue": "'int' object is not iterable",
     "output_type": "error",
     "traceback": [
      "\u001b[0;31m---------------------------------------------------------------------------\u001b[0m",
      "\u001b[0;31mTypeError\u001b[0m                                 Traceback (most recent call last)",
      "Cell \u001b[0;32mIn[55], line 1\u001b[0m\n\u001b[0;32m----> 1\u001b[0m \u001b[38;5;28;43miter\u001b[39;49m\u001b[43m(\u001b[49m\u001b[43ma\u001b[49m\u001b[43m)\u001b[49m\n",
      "\u001b[0;31mTypeError\u001b[0m: 'int' object is not iterable"
     ]
    }
   ],
   "source": [
    "iter(a)"
   ]
  },
  {
   "cell_type": "code",
   "execution_count": 66,
   "id": "be834770-1f5e-48d8-af70-a3bfa4de85cf",
   "metadata": {},
   "outputs": [],
   "source": [
    "s1 = iter(\"abcd\")"
   ]
  },
  {
   "cell_type": "code",
   "execution_count": 67,
   "id": "a118ccdb-0ce7-4e64-92ad-3893e27c48c4",
   "metadata": {},
   "outputs": [
    {
     "data": {
      "text/plain": [
       "'a'"
      ]
     },
     "execution_count": 67,
     "metadata": {},
     "output_type": "execute_result"
    }
   ],
   "source": [
    "next(s1)"
   ]
  },
  {
   "cell_type": "code",
   "execution_count": 68,
   "id": "5cad0659-1f9f-42bd-b7cd-63b837ac1537",
   "metadata": {},
   "outputs": [
    {
     "data": {
      "text/plain": [
       "'b'"
      ]
     },
     "execution_count": 68,
     "metadata": {},
     "output_type": "execute_result"
    }
   ],
   "source": [
    "next(s1)"
   ]
  },
  {
   "cell_type": "code",
   "execution_count": 69,
   "id": "5ca57fa8-524d-4812-b528-7ea97c2e8e59",
   "metadata": {},
   "outputs": [
    {
     "data": {
      "text/plain": [
       "'c'"
      ]
     },
     "execution_count": 69,
     "metadata": {},
     "output_type": "execute_result"
    }
   ],
   "source": [
    "next(s1)"
   ]
  },
  {
   "cell_type": "code",
   "execution_count": 70,
   "id": "4a502624-2e95-4b07-b264-f4ff4eeb1cfe",
   "metadata": {},
   "outputs": [
    {
     "data": {
      "text/plain": [
       "'d'"
      ]
     },
     "execution_count": 70,
     "metadata": {},
     "output_type": "execute_result"
    }
   ],
   "source": [
    "next(s1)"
   ]
  },
  {
   "cell_type": "code",
   "execution_count": 71,
   "id": "99620688-5508-45c6-86bc-ba7aa3e13d22",
   "metadata": {},
   "outputs": [
    {
     "ename": "StopIteration",
     "evalue": "",
     "output_type": "error",
     "traceback": [
      "\u001b[0;31m---------------------------------------------------------------------------\u001b[0m",
      "\u001b[0;31mStopIteration\u001b[0m                             Traceback (most recent call last)",
      "Cell \u001b[0;32mIn[71], line 1\u001b[0m\n\u001b[0;32m----> 1\u001b[0m \u001b[38;5;28;43mnext\u001b[39;49m\u001b[43m(\u001b[49m\u001b[43ms1\u001b[49m\u001b[43m)\u001b[49m\n",
      "\u001b[0;31mStopIteration\u001b[0m: "
     ]
    }
   ],
   "source": [
    "next(s1)"
   ]
  },
  {
   "cell_type": "code",
   "execution_count": 73,
   "id": "13ad3956-e1c5-460f-9b42-b611a500d0c5",
   "metadata": {},
   "outputs": [
    {
     "ename": "TypeError",
     "evalue": "'str' object is not an iterator",
     "output_type": "error",
     "traceback": [
      "\u001b[0;31m---------------------------------------------------------------------------\u001b[0m",
      "\u001b[0;31mTypeError\u001b[0m                                 Traceback (most recent call last)",
      "Cell \u001b[0;32mIn[73], line 2\u001b[0m\n\u001b[1;32m      1\u001b[0m s2 \u001b[38;5;241m=\u001b[39m \u001b[38;5;124m\"\u001b[39m\u001b[38;5;124mpwskills\u001b[39m\u001b[38;5;124m\"\u001b[39m\n\u001b[0;32m----> 2\u001b[0m \u001b[38;5;28;43mnext\u001b[39;49m\u001b[43m(\u001b[49m\u001b[43ms2\u001b[49m\u001b[43m)\u001b[49m\n",
      "\u001b[0;31mTypeError\u001b[0m: 'str' object is not an iterator"
     ]
    }
   ],
   "source": [
    "s2 = \"pwskills\"\n",
    "next(s2)"
   ]
  },
  {
   "cell_type": "code",
   "execution_count": 78,
   "id": "08b99064-ee05-44a3-a02e-2439a5286d53",
   "metadata": {},
   "outputs": [
    {
     "name": "stdout",
     "output_type": "stream",
     "text": [
      "p\n",
      "w\n",
      "s\n",
      "k\n",
      "i\n",
      "l\n",
      "l\n",
      "s\n"
     ]
    }
   ],
   "source": [
    "for i in s2:\n",
    "    print(i)\n",
    "\n",
    "# for loop s2 will convert data into iterator\n",
    "# internal working of for loop :\n",
    "# iterable -> iterator"
   ]
  },
  {
   "cell_type": "code",
   "execution_count": 3,
   "id": "cdb3be8c-e458-4569-a13b-4e2c53c1a692",
   "metadata": {},
   "outputs": [],
   "source": [
    "# string, list, tuple, set, dictionary is iterable object, so convert into iterator of by extracting data one by one\n",
    "# bool, integer, float is not iterable object"
   ]
  },
  {
   "cell_type": "code",
   "execution_count": 89,
   "id": "78ca1ab3-7155-4423-acb1-b6f0181c6aca",
   "metadata": {},
   "outputs": [
    {
     "name": "stdout",
     "output_type": "stream",
     "text": [
      "2\n",
      "3\n",
      "4\n",
      "5\n"
     ]
    }
   ],
   "source": [
    "for i in [2,3,4,5]:\n",
    "    print(i)\n",
    "# INTERNAL WORKING OF FOR LOOP\n",
    "# check [2,3,4,5] is iterable or not\n",
    "# yes, it is iterable then convert into iterator\n",
    "# start extract every element in the list until iteration is finished.\n",
    "# iterable --> iterator --> extract the data from list"
   ]
  },
  {
   "cell_type": "code",
   "execution_count": 80,
   "id": "99c8fb26-b12e-4e4d-af3b-7269ca1c4413",
   "metadata": {},
   "outputs": [],
   "source": [
    "l = iter([2,3,4,5])"
   ]
  },
  {
   "cell_type": "code",
   "execution_count": 81,
   "id": "489db5aa-864e-415f-9ada-05f70843bc23",
   "metadata": {},
   "outputs": [
    {
     "data": {
      "text/plain": [
       "2"
      ]
     },
     "execution_count": 81,
     "metadata": {},
     "output_type": "execute_result"
    }
   ],
   "source": [
    "next(l)"
   ]
  },
  {
   "cell_type": "code",
   "execution_count": 82,
   "id": "91112977-54fb-4bbc-a4c8-3b954a0bf182",
   "metadata": {},
   "outputs": [
    {
     "data": {
      "text/plain": [
       "3"
      ]
     },
     "execution_count": 82,
     "metadata": {},
     "output_type": "execute_result"
    }
   ],
   "source": [
    "next(l)"
   ]
  },
  {
   "cell_type": "code",
   "execution_count": 83,
   "id": "8413698b-d2c2-43e2-9ba5-643453a26eb6",
   "metadata": {},
   "outputs": [
    {
     "data": {
      "text/plain": [
       "4"
      ]
     },
     "execution_count": 83,
     "metadata": {},
     "output_type": "execute_result"
    }
   ],
   "source": [
    "next(l)"
   ]
  },
  {
   "cell_type": "code",
   "execution_count": 84,
   "id": "610730ee-a221-424a-a276-7ba5c2d6504e",
   "metadata": {},
   "outputs": [
    {
     "data": {
      "text/plain": [
       "5"
      ]
     },
     "execution_count": 84,
     "metadata": {},
     "output_type": "execute_result"
    }
   ],
   "source": [
    "next(l)"
   ]
  },
  {
   "cell_type": "code",
   "execution_count": 85,
   "id": "c033c138-6276-4518-9fcc-8548d1512c13",
   "metadata": {},
   "outputs": [
    {
     "ename": "StopIteration",
     "evalue": "",
     "output_type": "error",
     "traceback": [
      "\u001b[0;31m---------------------------------------------------------------------------\u001b[0m",
      "\u001b[0;31mStopIteration\u001b[0m                             Traceback (most recent call last)",
      "Cell \u001b[0;32mIn[85], line 1\u001b[0m\n\u001b[0;32m----> 1\u001b[0m \u001b[38;5;28;43mnext\u001b[39;49m\u001b[43m(\u001b[49m\u001b[43ml\u001b[49m\u001b[43m)\u001b[49m\n",
      "\u001b[0;31mStopIteration\u001b[0m: "
     ]
    }
   ],
   "source": [
    "next(l)"
   ]
  },
  {
   "cell_type": "code",
   "execution_count": 92,
   "id": "227daeb0-2e8e-48c2-ad26-827087b608a2",
   "metadata": {},
   "outputs": [],
   "source": [
    "l = iter((2,3,4,5))"
   ]
  },
  {
   "cell_type": "code",
   "execution_count": 93,
   "id": "4a2397a6-2652-416f-ab52-02cebea56126",
   "metadata": {},
   "outputs": [
    {
     "data": {
      "text/plain": [
       "2"
      ]
     },
     "execution_count": 93,
     "metadata": {},
     "output_type": "execute_result"
    }
   ],
   "source": [
    "next(l)"
   ]
  },
  {
   "cell_type": "code",
   "execution_count": 94,
   "id": "31b67887-6865-46b2-a8d1-fb852fd3e1e5",
   "metadata": {},
   "outputs": [],
   "source": [
    "l = iter({'2':3,'4':5})"
   ]
  },
  {
   "cell_type": "code",
   "execution_count": 95,
   "id": "7cc486fe-8a95-413a-94df-66452b4cc854",
   "metadata": {},
   "outputs": [
    {
     "data": {
      "text/plain": [
       "'2'"
      ]
     },
     "execution_count": 95,
     "metadata": {},
     "output_type": "execute_result"
    }
   ],
   "source": [
    "next(l)"
   ]
  },
  {
   "cell_type": "code",
   "execution_count": 97,
   "id": "54cf7441-cd1d-4fd4-9480-b86f8041a7e2",
   "metadata": {},
   "outputs": [],
   "source": [
    "# generators"
   ]
  },
  {
   "cell_type": "code",
   "execution_count": 105,
   "id": "b13f823f-77af-44a9-81e7-f9686a2af901",
   "metadata": {},
   "outputs": [
    {
     "data": {
      "text/plain": [
       "range(0, 5)"
      ]
     },
     "execution_count": 105,
     "metadata": {},
     "output_type": "execute_result"
    }
   ],
   "source": [
    "range(0,5)\n",
    "# range is a generator, by generating the data"
   ]
  },
  {
   "cell_type": "code",
   "execution_count": 100,
   "id": "c3b4d295-8b9d-4a9c-ab7a-b1ccb9d17eae",
   "metadata": {},
   "outputs": [
    {
     "data": {
      "text/plain": [
       "[0, 1, 2, 3, 4]"
      ]
     },
     "execution_count": 100,
     "metadata": {},
     "output_type": "execute_result"
    }
   ],
   "source": [
    "list(range(0,5))"
   ]
  },
  {
   "cell_type": "code",
   "execution_count": 101,
   "id": "4d65240f-c693-466a-8a39-9465830ab24f",
   "metadata": {},
   "outputs": [],
   "source": [
    "p = iter(range(0,2))"
   ]
  },
  {
   "cell_type": "code",
   "execution_count": 102,
   "id": "56e9078d-a5bf-45d1-bea4-c2995aa09961",
   "metadata": {},
   "outputs": [
    {
     "data": {
      "text/plain": [
       "0"
      ]
     },
     "execution_count": 102,
     "metadata": {},
     "output_type": "execute_result"
    }
   ],
   "source": [
    "next(p)"
   ]
  },
  {
   "cell_type": "code",
   "execution_count": 103,
   "id": "7f48a88f-0719-4db0-8975-60b04828e62c",
   "metadata": {},
   "outputs": [
    {
     "data": {
      "text/plain": [
       "1"
      ]
     },
     "execution_count": 103,
     "metadata": {},
     "output_type": "execute_result"
    }
   ],
   "source": [
    "next(p)"
   ]
  },
  {
   "cell_type": "code",
   "execution_count": 104,
   "id": "8a8b8776-e2af-4702-bda1-e396fa31daff",
   "metadata": {},
   "outputs": [
    {
     "ename": "StopIteration",
     "evalue": "",
     "output_type": "error",
     "traceback": [
      "\u001b[0;31m---------------------------------------------------------------------------\u001b[0m",
      "\u001b[0;31mStopIteration\u001b[0m                             Traceback (most recent call last)",
      "Cell \u001b[0;32mIn[104], line 1\u001b[0m\n\u001b[0;32m----> 1\u001b[0m \u001b[38;5;28;43mnext\u001b[39;49m\u001b[43m(\u001b[49m\u001b[43mp\u001b[49m\u001b[43m)\u001b[49m\n",
      "\u001b[0;31mStopIteration\u001b[0m: "
     ]
    }
   ],
   "source": [
    "next(p)"
   ]
  },
  {
   "cell_type": "code",
   "execution_count": 127,
   "id": "90546bdc-662c-486d-9810-5f1eba19b1fe",
   "metadata": {},
   "outputs": [
    {
     "name": "stdout",
     "output_type": "stream",
     "text": [
      "[1, 2, 3, 4, 5, 6, 7, 8, 9]\n"
     ]
    }
   ],
   "source": [
    "l=[]\n",
    "def count_fun(n):\n",
    "    i=1\n",
    "    while i<=n:\n",
    "        l.append(i)\n",
    "        i=i+1\n",
    "    return l\n",
    "k  = count_fun(9) # count_fun(50000) --> consumes more memory in RAM, will ran out of memory\n",
    "# so, that is the reason should use 'yield'\n",
    "\n",
    "print(k)"
   ]
  },
  {
   "cell_type": "code",
   "execution_count": 6,
   "id": "f99ddf48-e0aa-47b2-8e45-3684abd25aeb",
   "metadata": {},
   "outputs": [
    {
     "name": "stdout",
     "output_type": "stream",
     "text": [
      "[1, 2, 3, 4, 5, 6, 7, 8, 9]\n"
     ]
    }
   ],
   "source": [
    "def count_fun(n):\n",
    "    i=1\n",
    "    while i<=n:\n",
    "        yield i \n",
    "        # yield means producing\n",
    "        # to generate the data of multiple times\n",
    "        # helps reducing of memory consumption or memory optimized.         \n",
    "        i=i+1\n",
    "k  = count_fun(9)\n",
    "\n",
    "print(list(k))"
   ]
  },
  {
   "cell_type": "code",
   "execution_count": 2,
   "id": "da3fdfcb-2a68-46e0-8efd-e7062d3b3736",
   "metadata": {},
   "outputs": [],
   "source": [
    "# fibonacci series\n",
    "def fib(n):\n",
    "    a,b=0,1\n",
    "    for i in range(n):\n",
    "        yield a\n",
    "        a,b = b, a+b"
   ]
  },
  {
   "cell_type": "code",
   "execution_count": 125,
   "id": "16f1a43d-0fa1-4c33-9902-136d89747980",
   "metadata": {},
   "outputs": [
    {
     "name": "stdout",
     "output_type": "stream",
     "text": [
      "0 1 1 2 3 5 8 13 21 "
     ]
    }
   ],
   "source": [
    "for i in fib(9):\n",
    "    print(i, end=\" \")"
   ]
  },
  {
   "cell_type": "code",
   "execution_count": 129,
   "id": "adcddc9f-aa2c-4396-a4cd-8245a04c725b",
   "metadata": {},
   "outputs": [
    {
     "name": "stdout",
     "output_type": "stream",
     "text": [
      "In publishing and graphic design, Lorem ipsum (/ˌlɔː.rəm ˈɪp.səm/) is a placeholder text commonly used to demonstrate the visual form of a document or a typeface without relying on meaningful content. Lorem ipsum may be used as a placeholder before final copy is available. It is also used to temporarily replace text in a process called greeking, which allows designers to consider the form of a webpage or publication, without the meaning of the text influencing the design.\n",
      "\n",
      "\n",
      "\n",
      "Lorem ipsum is typically a corrupted version of De finibus bonorum et malorum, a 1st-century BC text by the Roman statesman and philosopher Cicero, with words altered, added, and removed to make it nonsensical and improper Latin. The first two words themselves are a truncation of 'dolorem ipsum' ('pain itself').\n",
      "\n",
      "\n",
      "\n",
      "Versions of the Lorem ipsum text have been used in typesetting at least since the 1960s, when it was popularized by advertisements for Letraset transfer sheets.[1] Lorem ipsum was introduced to the digital world in the mid-1980s, when Aldus employed it in graphic and word-processing templates for its desktop publishing program PageMaker. Other popular word processors, including Pages and Microsoft Word, have since adopted Lorem ipsum,[2] as have many LaTeX packages,[3][4][5] web content managers such as Joomla! and WordPress, and CSS libraries such as Semantic UI.[6]\n"
     ]
    }
   ],
   "source": [
    "for i in open('test.txt'):\n",
    "    print(i)"
   ]
  },
  {
   "cell_type": "code",
   "execution_count": 135,
   "id": "b06126b0-190c-4805-a214-63be2926988a",
   "metadata": {},
   "outputs": [],
   "source": [
    "def read_file(filename):\n",
    "    with open(filename) as file:\n",
    "        for i in file:\n",
    "            yield i\n",
    "# with: Unlike open() where you have to close the file with the close() method, \n",
    "# the with statement closes the file for you without you telling it to.\n",
    "\n",
    "# This is because the with statement calls 2 built-in methods behind the scene – \n",
    "# __enter()__ and __exit()__.\n",
    "\n",
    "# The __exit()__ method closes the file when the operation you specify is done.\n",
    "\n",
    "# return : \n",
    "#          will READ ALL the data from 10GB file at ONCE and \n",
    "#          print the ALL data at ONCE.\n",
    "# yield : \n",
    "#        will READ SINGLE line from file at ONCE and \n",
    "#        print the SINGLE line at ONCE.\n",
    "# yield can be used of streaming of data in small batches."
   ]
  },
  {
   "cell_type": "code",
   "execution_count": 132,
   "id": "0f17d557-56c5-4f2f-837a-c56d05e94fd2",
   "metadata": {},
   "outputs": [
    {
     "name": "stdout",
     "output_type": "stream",
     "text": [
      "In publishing and graphic design, Lorem ipsum (/ˌlɔː.rəm ˈɪp.səm/) is a placeholder text commonly used to demonstrate the visual form of a document or a typeface without relying on meaningful content. Lorem ipsum may be used as a placeholder before final copy is available. It is also used to temporarily replace text in a process called greeking, which allows designers to consider the form of a webpage or publication, without the meaning of the text influencing the design.\n",
      "\n",
      "\n",
      "\n",
      "Lorem ipsum is typically a corrupted version of De finibus bonorum et malorum, a 1st-century BC text by the Roman statesman and philosopher Cicero, with words altered, added, and removed to make it nonsensical and improper Latin. The first two words themselves are a truncation of 'dolorem ipsum' ('pain itself').\n",
      "\n",
      "\n",
      "\n",
      "Versions of the Lorem ipsum text have been used in typesetting at least since the 1960s, when it was popularized by advertisements for Letraset transfer sheets.[1] Lorem ipsum was introduced to the digital world in the mid-1980s, when Aldus employed it in graphic and word-processing templates for its desktop publishing program PageMaker. Other popular word processors, including Pages and Microsoft Word, have since adopted Lorem ipsum,[2] as have many LaTeX packages,[3][4][5] web content managers such as Joomla! and WordPress, and CSS libraries such as Semantic UI.[6]\n"
     ]
    }
   ],
   "source": [
    "for i in read_file(\"test.txt\"):\n",
    "    print(i)"
   ]
  },
  {
   "cell_type": "code",
   "execution_count": null,
   "id": "73a2d197-3cd4-4557-a26a-c45478c28a20",
   "metadata": {},
   "outputs": [],
   "source": []
  },
  {
   "cell_type": "code",
   "execution_count": null,
   "id": "b3879beb-97e7-4bcb-9952-bce143b22626",
   "metadata": {},
   "outputs": [],
   "source": []
  },
  {
   "cell_type": "code",
   "execution_count": null,
   "id": "7d2c7824-9fd4-4ec2-8de7-63a02985f4d8",
   "metadata": {},
   "outputs": [],
   "source": []
  }
 ],
 "metadata": {
  "kernelspec": {
   "display_name": "Python 3 (ipykernel)",
   "language": "python",
   "name": "python3"
  },
  "language_info": {
   "codemirror_mode": {
    "name": "ipython",
    "version": 3
   },
   "file_extension": ".py",
   "mimetype": "text/x-python",
   "name": "python",
   "nbconvert_exporter": "python",
   "pygments_lexer": "ipython3",
   "version": "3.11.2"
  }
 },
 "nbformat": 4,
 "nbformat_minor": 5
}
