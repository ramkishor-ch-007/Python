{
 "cells": [
  {
   "cell_type": "code",
   "execution_count": 2,
   "id": "87048f87-7627-4584-b61e-4517cbadb610",
   "metadata": {},
   "outputs": [
    {
     "data": {
      "text/plain": [
       "['welcome', 'to', 'the', 'pwskills']"
      ]
     },
     "execution_count": 2,
     "metadata": {},
     "output_type": "execute_result"
    }
   ],
   "source": [
    "text=\"welcome to the pwskills\"\n",
    "\n",
    "text.split()"
   ]
  },
  {
   "cell_type": "code",
   "execution_count": 7,
   "id": "2365b354-d231-4156-8e4f-421ea5006363",
   "metadata": {},
   "outputs": [
    {
     "name": "stdin",
     "output_type": "stream",
     "text": [
      "enter two number 1 1\n"
     ]
    },
    {
     "name": "stdout",
     "output_type": "stream",
     "text": [
      "2\n"
     ]
    }
   ],
   "source": [
    "# default of input will take string\n",
    "a,b = input(\"enter two number\").split()\n",
    "c=int(a) + int(b)\n",
    "print(c)"
   ]
  },
  {
   "cell_type": "code",
   "execution_count": 9,
   "id": "735dc836-b5b3-4f03-94db-570db69445da",
   "metadata": {},
   "outputs": [
    {
     "name": "stdout",
     "output_type": "stream",
     "text": [
      "['A', 'B', 'C', 'D E F']\n"
     ]
    }
   ],
   "source": [
    "s1=\"A B C D E F\"\n",
    "print(s1.split(' ',3)) #seperator and maxsplit"
   ]
  },
  {
   "cell_type": "code",
   "execution_count": 11,
   "id": "268f0ea2-5a8a-427c-a829-3fb2439cd2de",
   "metadata": {},
   "outputs": [
    {
     "data": {
      "text/plain": [
       "['HI', 'HI', 'HI@HI@']"
      ]
     },
     "execution_count": 11,
     "metadata": {},
     "output_type": "execute_result"
    }
   ],
   "source": [
    "s1=\"HI@HI@HI@HI@\"\n",
    "s1.split('@',2)"
   ]
  },
  {
   "cell_type": "code",
   "execution_count": 14,
   "id": "c4fc5efe-682e-4c9e-8455-18739272667b",
   "metadata": {},
   "outputs": [
    {
     "name": "stdout",
     "output_type": "stream",
     "text": [
      "pwski"
     ]
    }
   ],
   "source": [
    "for i in \"pwskills\":\n",
    "    if i==\"l\":\n",
    "        break\n",
    "    print(i,end=\"\")"
   ]
  },
  {
   "cell_type": "code",
   "execution_count": 15,
   "id": "2d26fe60-c3ae-4934-8496-cba90bd0465d",
   "metadata": {},
   "outputs": [
    {
     "name": "stdout",
     "output_type": "stream",
     "text": [
      "pwskis"
     ]
    }
   ],
   "source": [
    "for i in \"pwskills\":\n",
    "    if i==\"l\":\n",
    "        continue\n",
    "    print(i,end=\"\")"
   ]
  },
  {
   "cell_type": "code",
   "execution_count": 16,
   "id": "55ac03ec-2650-4322-811e-00df87b0b2c5",
   "metadata": {},
   "outputs": [
    {
     "name": "stdout",
     "output_type": "stream",
     "text": [
      "1\n",
      "3\n",
      "5\n",
      "7\n",
      "9\n"
     ]
    }
   ],
   "source": [
    "for i in range(11):\n",
    "    if i%2==0:\n",
    "        continue\n",
    "    print(i)"
   ]
  },
  {
   "cell_type": "code",
   "execution_count": 18,
   "id": "65b4ef56-1aee-454b-81a5-5be5317e76d3",
   "metadata": {},
   "outputs": [],
   "source": [
    "n=10\n",
    "\n",
    "if n>=10:\n",
    "    pass #it will not do nothing"
   ]
  },
  {
   "cell_type": "code",
   "execution_count": 22,
   "id": "d6d1887a-bbb7-4c39-9615-5a5900e0da8c",
   "metadata": {},
   "outputs": [],
   "source": [
    "# Functions"
   ]
  },
  {
   "cell_type": "code",
   "execution_count": 23,
   "id": "0cc9cc97-ec44-4cb2-8f40-4b137a31e0b6",
   "metadata": {},
   "outputs": [
    {
     "name": "stdin",
     "output_type": "stream",
     "text": [
      " 1\n",
      " 2\n"
     ]
    },
    {
     "name": "stdout",
     "output_type": "stream",
     "text": [
      "3\n"
     ]
    }
   ],
   "source": [
    "def fun():\n",
    "    a=input()\n",
    "    b=input()\n",
    "    c=int(a)+int(b)\n",
    "    print(c)\n",
    "fun()"
   ]
  },
  {
   "cell_type": "code",
   "execution_count": 20,
   "id": "da170245-76bf-43d8-acf4-a5255d8a243c",
   "metadata": {},
   "outputs": [
    {
     "data": {
      "text/plain": [
       "3"
      ]
     },
     "execution_count": 20,
     "metadata": {},
     "output_type": "execute_result"
    }
   ],
   "source": [
    "def add(a,b):\n",
    "    return a+b\n",
    "add(1,2)"
   ]
  },
  {
   "cell_type": "code",
   "execution_count": 24,
   "id": "e7c3684d-5a61-494b-a5de-4286a95c53ce",
   "metadata": {},
   "outputs": [
    {
     "name": "stdout",
     "output_type": "stream",
     "text": [
      "welcome\n"
     ]
    }
   ],
   "source": [
    "def intro(fname,lname):\n",
    "    print(fname+lname)\n",
    "intro(\"wel\",\"come\")"
   ]
  },
  {
   "cell_type": "code",
   "execution_count": 25,
   "id": "58d64097-c1da-4aab-8361-fc3142b6207e",
   "metadata": {},
   "outputs": [
    {
     "name": "stdout",
     "output_type": "stream",
     "text": [
      "23\n"
     ]
    }
   ],
   "source": [
    "# function return absolute value\n",
    "# -23 to 23\n",
    "def abs(n):\n",
    "    if n>0:\n",
    "        print(n)\n",
    "    else:\n",
    "        print(-n)\n",
    "abs(-23)"
   ]
  },
  {
   "cell_type": "code",
   "execution_count": 26,
   "id": "9f95c1ba-0ab5-4e1f-8e20-fa3a58e07cf5",
   "metadata": {},
   "outputs": [
    {
     "name": "stdin",
     "output_type": "stream",
     "text": [
      " 1\n",
      " 2\n"
     ]
    },
    {
     "data": {
      "text/plain": [
       "(3, 2, 0)"
      ]
     },
     "execution_count": 26,
     "metadata": {},
     "output_type": "execute_result"
    }
   ],
   "source": [
    "def cal():\n",
    "    a=int(input())\n",
    "    b=int(input())\n",
    "    c=a+b\n",
    "    d=a*b\n",
    "    e=a//b\n",
    "    return c,d,e\n",
    "cal()"
   ]
  },
  {
   "cell_type": "code",
   "execution_count": 28,
   "id": "2e77d88b-ee23-4614-af8a-a86117ae6114",
   "metadata": {},
   "outputs": [
    {
     "name": "stdin",
     "output_type": "stream",
     "text": [
      " 13\n"
     ]
    },
    {
     "data": {
      "text/plain": [
       "530.66"
      ]
     },
     "execution_count": 28,
     "metadata": {},
     "output_type": "execute_result"
    }
   ],
   "source": [
    "def aoc():\n",
    "    pi=3.14\n",
    "    r=int(input())\n",
    "    ao=pi*r*r\n",
    "    return ao\n",
    "aoc()"
   ]
  },
  {
   "cell_type": "code",
   "execution_count": 31,
   "id": "bcdc1dea-63a3-44c1-a3d0-8b106518e389",
   "metadata": {},
   "outputs": [
    {
     "name": "stdout",
     "output_type": "stream",
     "text": [
      "1\n",
      "2\n",
      "3\n",
      "4\n",
      "5\n"
     ]
    }
   ],
   "source": [
    "for i in range(1,6):\n",
    "    print(i)"
   ]
  },
  {
   "cell_type": "code",
   "execution_count": 32,
   "id": "9127bd79-1385-467e-a08b-311606ea82f4",
   "metadata": {},
   "outputs": [
    {
     "name": "stdin",
     "output_type": "stream",
     "text": [
      " 2\n"
     ]
    },
    {
     "data": {
      "text/plain": [
       "4"
      ]
     },
     "execution_count": 32,
     "metadata": {},
     "output_type": "execute_result"
    }
   ],
   "source": [
    "a=int(input())\n",
    "b=a**2\n",
    "b"
   ]
  },
  {
   "cell_type": "code",
   "execution_count": 33,
   "id": "16e97b82-eee4-4a41-bef3-d0c9416da698",
   "metadata": {},
   "outputs": [
    {
     "name": "stdin",
     "output_type": "stream",
     "text": [
      " we\n",
      " lcome\n"
     ]
    },
    {
     "name": "stdout",
     "output_type": "stream",
     "text": [
      "we lcome\n"
     ]
    }
   ],
   "source": [
    "a=input()\n",
    "b=input()\n",
    "print(a+\" \"+b)"
   ]
  },
  {
   "cell_type": "code",
   "execution_count": 41,
   "id": "03fa645c-6546-4c64-99f6-b9fe94151f3d",
   "metadata": {},
   "outputs": [
    {
     "name": "stdin",
     "output_type": "stream",
     "text": [
      " 2\n",
      " 10\n"
     ]
    },
    {
     "name": "stdout",
     "output_type": "stream",
     "text": [
      "2 4 6 8 10 "
     ]
    }
   ],
   "source": [
    "def even_number(s,ss):\n",
    "    for i in range(s,ss+1):\n",
    "        if i%2==0:\n",
    "            print(i,end=\" \")\n",
    "a=int(input())\n",
    "b=int(input())\n",
    "even_number(a,b)"
   ]
  },
  {
   "cell_type": "code",
   "execution_count": 47,
   "id": "5fa0d918-1677-474a-95e9-af59ac7c1521",
   "metadata": {},
   "outputs": [
    {
     "name": "stdin",
     "output_type": "stream",
     "text": [
      " 1\n",
      " 2\n",
      " 3\n"
     ]
    },
    {
     "name": "stdout",
     "output_type": "stream",
     "text": [
      "No\n"
     ]
    }
   ],
   "source": [
    "def tri():\n",
    "    a=int(input())\n",
    "    b=int(input())\n",
    "    c=int(input())\n",
    "    if a**2 + b**2 == c**2 or b**2 + c**2==a**2 or c**2 + a**2 == b**2:\n",
    "        print(\"Yes\")\n",
    "    else:\n",
    "        print(\"No\")\n",
    "tri()"
   ]
  },
  {
   "cell_type": "code",
   "execution_count": 65,
   "id": "b2b0e2eb-a305-453d-b701-f79d96b1a6a6",
   "metadata": {},
   "outputs": [
    {
     "name": "stdin",
     "output_type": "stream",
     "text": [
      " abcdefgh/\n"
     ]
    },
    {
     "name": "stdout",
     "output_type": "stream",
     "text": [
      "True\n"
     ]
    }
   ],
   "source": [
    "def fun():\n",
    "    st=input()\n",
    "    if (len(st)<=32 and len(st)>=8) and (st.upper() or st.lower()) and (st not in \"/\" or st not in \"\\\\\" or st!=\"=\" or st!=\"\\'\" or st!=\"\\\"\") and (st not in \" \"):\n",
    "        print(\"True\")\n",
    "    else:\n",
    "        print(\"False\")\n",
    "fun()"
   ]
  },
  {
   "cell_type": "code",
   "execution_count": 2,
   "id": "4374bbe2-a025-49a9-b6cc-78322511d120",
   "metadata": {},
   "outputs": [],
   "source": [
    "def validPassword(pwd: str):\n",
    "    if 8 <= len(pwd) <= 32 and pwd[0].isalpha() and all(char not in pwd for char in [\" \", \"'\", \"/\", \"=\", '\"', '\\\\']):\n",
    "        return True\n",
    "    else:\n",
    "        return False"
   ]
  },
  {
   "cell_type": "code",
   "execution_count": 1,
   "id": "940770d2-9214-48cf-81ca-868b91d42bd3",
   "metadata": {},
   "outputs": [],
   "source": [
    "#10 Sep"
   ]
  },
  {
   "cell_type": "code",
   "execution_count": 3,
   "id": "218be288-aeca-4f57-a272-413d4dbc9aea",
   "metadata": {},
   "outputs": [],
   "source": [
    "# different types of arguments in functions\n",
    "# positional arguments\n",
    "# default arguments\n",
    "# keyword arguments\n",
    "# variable arguments"
   ]
  },
  {
   "cell_type": "code",
   "execution_count": 5,
   "id": "07af27ff-f7ac-401f-a69d-3ab903e4e7ff",
   "metadata": {},
   "outputs": [
    {
     "ename": "TypeError",
     "evalue": "add() missing 2 required positional arguments: 'a' and 'b'",
     "output_type": "error",
     "traceback": [
      "\u001b[0;31m---------------------------------------------------------------------------\u001b[0m",
      "\u001b[0;31mTypeError\u001b[0m                                 Traceback (most recent call last)",
      "Cell \u001b[0;32mIn[5], line 5\u001b[0m\n\u001b[1;32m      3\u001b[0m     \u001b[38;5;28msum\u001b[39m\u001b[38;5;241m=\u001b[39ma\u001b[38;5;241m+\u001b[39mb\n\u001b[1;32m      4\u001b[0m     \u001b[38;5;28mprint\u001b[39m(\u001b[38;5;28msum\u001b[39m)\n\u001b[0;32m----> 5\u001b[0m \u001b[43madd\u001b[49m\u001b[43m(\u001b[49m\u001b[43m)\u001b[49m\n",
      "\u001b[0;31mTypeError\u001b[0m: add() missing 2 required positional arguments: 'a' and 'b'"
     ]
    }
   ],
   "source": [
    "# positional arguments\n",
    "def add(a,b):\n",
    "    sum=a+b\n",
    "    print(sum)\n",
    "add()"
   ]
  },
  {
   "cell_type": "code",
   "execution_count": 8,
   "id": "ce35483c-31d9-4222-be5b-80a64358c92f",
   "metadata": {},
   "outputs": [
    {
     "name": "stdout",
     "output_type": "stream",
     "text": [
      "12\n"
     ]
    }
   ],
   "source": [
    "# default arguments\n",
    "def add(a=4,b=8):\n",
    "    sum=a+b\n",
    "    print(sum)\n",
    "add()\n",
    "# add(2,9)"
   ]
  },
  {
   "cell_type": "code",
   "execution_count": 10,
   "id": "42fac62d-f201-4af4-8357-614f61223aed",
   "metadata": {},
   "outputs": [
    {
     "name": "stdout",
     "output_type": "stream",
     "text": [
      "9\n",
      "11\n"
     ]
    }
   ],
   "source": [
    "# keyword arguments\n",
    "def add(a,b):\n",
    "    sum=a+b\n",
    "    print(sum)\n",
    "add(a=4,b=5)\n",
    "add(b=6,a=5)"
   ]
  },
  {
   "cell_type": "code",
   "execution_count": 21,
   "id": "1ac5cdba-f913-4a6f-b248-a14ecac907bf",
   "metadata": {},
   "outputs": [
    {
     "name": "stdout",
     "output_type": "stream",
     "text": [
      "0\n",
      "6\n",
      "21\n"
     ]
    }
   ],
   "source": [
    "# variable arguments\n",
    "# *args and **kwargs\n",
    "\n",
    "# *args\n",
    "# * means variable length of arguments or pass 'n' number of arguments\n",
    "def find_num(*numbers):\n",
    "    r=0\n",
    "    \n",
    "    for num in numbers:\n",
    "        r=r+num\n",
    "    print(r)\n",
    "find_num()\n",
    "find_num(1,2,3)\n",
    "find_num(1,2,3,4,5,6)"
   ]
  },
  {
   "cell_type": "code",
   "execution_count": 22,
   "id": "3c0d908a-cb88-45d9-b188-e605770bbdcc",
   "metadata": {},
   "outputs": [
    {
     "name": "stdout",
     "output_type": "stream",
     "text": [
      "<class 'dict'>\n",
      "first_name pw\n",
      "last_name skills\n"
     ]
    }
   ],
   "source": [
    "# **kwargs\n",
    "# keyword arguments\n",
    "# ** means key and value\n",
    "# ** pass 'n' number of key and value arguments\n",
    "def intro(**data):\n",
    "    print(type(data))\n",
    "    \n",
    "    for key,val in data.items():\n",
    "        print(key,val)\n",
    "intro(first_name=\"pw\",last_name=\"skills\")"
   ]
  },
  {
   "cell_type": "code",
   "execution_count": 25,
   "id": "004bb491-1721-4a51-a83b-8de79f4d168f",
   "metadata": {},
   "outputs": [
    {
     "ename": "SyntaxError",
     "evalue": "expression cannot contain assignment, perhaps you meant \"==\"? (3266952915.py, line 3)",
     "output_type": "error",
     "traceback": [
      "\u001b[0;36m  Cell \u001b[0;32mIn[25], line 3\u001b[0;36m\u001b[0m\n\u001b[0;31m    ff('a'='ram', 'age'= '30')\u001b[0m\n\u001b[0m       ^\u001b[0m\n\u001b[0;31mSyntaxError\u001b[0m\u001b[0;31m:\u001b[0m expression cannot contain assignment, perhaps you meant \"==\"?\n"
     ]
    }
   ],
   "source": [
    "def ff(**x):\n",
    "    print(x)\n",
    "ff('a'='ram', 'age'= '30')"
   ]
  },
  {
   "cell_type": "code",
   "execution_count": 20,
   "id": "47922f2c-6815-4d2c-89fd-7ae4767a36d7",
   "metadata": {},
   "outputs": [
    {
     "name": "stdout",
     "output_type": "stream",
     "text": [
      "{'a': 'ram', 'age': '30'}\n"
     ]
    }
   ],
   "source": [
    "def ff(**x):\n",
    "    print(x)\n",
    "ff(a='ram',age='30')"
   ]
  },
  {
   "cell_type": "code",
   "execution_count": 93,
   "id": "8f7388d3-fea9-45c9-8067-b1ab26c15652",
   "metadata": {},
   "outputs": [],
   "source": [
    "# def fun(non default arguments, default arguments, *args, **kwargs)"
   ]
  },
  {
   "cell_type": "code",
   "execution_count": 28,
   "id": "2adb50ad-3a25-46b3-a582-22be79bfb75e",
   "metadata": {},
   "outputs": [
    {
     "data": {
      "text/plain": [
       "<function __main__.<lambda>()>"
      ]
     },
     "execution_count": 28,
     "metadata": {},
     "output_type": "execute_result"
    }
   ],
   "source": [
    "# Lamda function:\n",
    "# anonymous function\n",
    "# function without a name\n",
    "# single line function\n",
    "# lambda function can be called with variable name\n",
    "lambda : print(\"pw skills\")"
   ]
  },
  {
   "cell_type": "code",
   "execution_count": 27,
   "id": "2c476dbb-f457-44e9-b28d-51086ca0ed8b",
   "metadata": {},
   "outputs": [
    {
     "name": "stdout",
     "output_type": "stream",
     "text": [
      "pw skills\n"
     ]
    }
   ],
   "source": [
    "x=lambda : print(\"pw skills\")\n",
    "x()"
   ]
  },
  {
   "cell_type": "code",
   "execution_count": 30,
   "id": "8c9b6154-f4be-491f-84d2-cd8f6dcb0aa2",
   "metadata": {},
   "outputs": [
    {
     "data": {
      "text/plain": [
       "5"
      ]
     },
     "execution_count": 30,
     "metadata": {},
     "output_type": "execute_result"
    }
   ],
   "source": [
    "# variable = lambda arguments : expression\n",
    "add_number = lambda a,b:a+b\n",
    "add_number(2,3)"
   ]
  },
  {
   "cell_type": "code",
   "execution_count": 32,
   "id": "5ff8ca6e-ff0b-4def-bce1-f65e521a38f7",
   "metadata": {},
   "outputs": [
    {
     "data": {
      "text/plain": [
       "'true'"
      ]
     },
     "execution_count": 32,
     "metadata": {},
     "output_type": "execute_result"
    }
   ],
   "source": [
    "add_number = lambda n: \"true\" if n%2==0 else \"false\"\n",
    "add_number(2)"
   ]
  },
  {
   "cell_type": "code",
   "execution_count": 33,
   "id": "b9dd5f01-3446-4edc-ba94-90a1f39e804b",
   "metadata": {},
   "outputs": [
    {
     "data": {
      "text/plain": [
       "3"
      ]
     },
     "execution_count": 33,
     "metadata": {},
     "output_type": "execute_result"
    }
   ],
   "source": [
    "a = lambda a,b: a if a>b else b\n",
    "a(2,3)"
   ]
  },
  {
   "cell_type": "code",
   "execution_count": 34,
   "id": "554a28f4-3847-4978-8c95-3b0424745cf3",
   "metadata": {},
   "outputs": [
    {
     "data": {
      "text/plain": [
       "10"
      ]
     },
     "execution_count": 34,
     "metadata": {},
     "output_type": "execute_result"
    }
   ],
   "source": [
    "a = lambda a,b,c: a+b+c\n",
    "a(2,3,5)"
   ]
  },
  {
   "cell_type": "code",
   "execution_count": 88,
   "id": "1483bc40-6518-48c3-91dd-93200451e19c",
   "metadata": {},
   "outputs": [
    {
     "data": {
      "text/plain": [
       "[{'name': 'p4', 'price': 20},\n",
       " {'name': 'p2', 'price': 30},\n",
       " {'name': 'p3', 'price': 40},\n",
       " {'name': 'p1', 'price': 50}]"
      ]
     },
     "execution_count": 88,
     "metadata": {},
     "output_type": "execute_result"
    }
   ],
   "source": [
    "products = [\n",
    "    {'name':'p1','price':50},\n",
    "    {'name':'p3','price':40},\n",
    "    {'name':'p2','price':30},\n",
    "    {'name':'p4','price':20}\n",
    "]\n",
    "\n",
    "# sorted(products, key=lambda x:x['price'],reverse=True)\n",
    "sorted_p = sorted(products, key=lambda x:x['price'])\n",
    "# print(type(sorted_p))\n",
    "sorted_p"
   ]
  },
  {
   "cell_type": "code",
   "execution_count": 92,
   "id": "7d132ae5-d156-4380-812a-adcce4491b1f",
   "metadata": {},
   "outputs": [
    {
     "name": "stdout",
     "output_type": "stream",
     "text": [
      "p1\n",
      "p3\n",
      "p2\n",
      "p4\n"
     ]
    }
   ],
   "source": [
    "for i in products:\n",
    "    print(i['name'])"
   ]
  },
  {
   "cell_type": "code",
   "execution_count": 63,
   "id": "856216d1-1b4e-4338-b1ba-78db3095acb7",
   "metadata": {},
   "outputs": [
    {
     "data": {
      "text/plain": [
       "['false', 'true', 'false', 'false', 'true', 'false', 'true']"
      ]
     },
     "execution_count": 63,
     "metadata": {},
     "output_type": "execute_result"
    }
   ],
   "source": [
    "vow=\"aeiou\"\n",
    "# a = lambda inp: [\"true\" if i in vow else print(\"false\") for i in inp]\n",
    "a = lambda inp: [\"true\" if i in vow else \"false\" for i in inp]\n",
    "a(\"welcome\")"
   ]
  },
  {
   "cell_type": "code",
   "execution_count": 95,
   "id": "92841ef1-4573-4a9e-9d4c-a1f05ecbb7b0",
   "metadata": {},
   "outputs": [
    {
     "name": "stdout",
     "output_type": "stream",
     "text": [
      "91\n",
      "12\n",
      "63\n",
      "5\n"
     ]
    },
    {
     "data": {
      "text/plain": [
       "[None, None, None, None]"
      ]
     },
     "execution_count": 95,
     "metadata": {},
     "output_type": "execute_result"
    }
   ],
   "source": [
    "list = [91, 12, 63, 5] \n",
    "f = lambda listx: [print(x) for x in listx]\n",
    "f(list)"
   ]
  },
  {
   "cell_type": "code",
   "execution_count": 94,
   "id": "1c3532c7-5e3f-49f0-a31b-385229bafa67",
   "metadata": {},
   "outputs": [
    {
     "name": "stdin",
     "output_type": "stream",
     "text": [
      "Enter a string:  welcome\n"
     ]
    },
    {
     "data": {
      "text/plain": [
       "['e', 'o', 'e']"
      ]
     },
     "execution_count": 94,
     "metadata": {},
     "output_type": "execute_result"
    }
   ],
   "source": [
    "vowels = ['a','e','i','o','u','A','E','I','O','U']\n",
    "string = input(\"Enter a string: \")\n",
    "\n",
    "vowels_list = [string[i] for i in range(len(string)) if string[i] in vowels]\n",
    "vowels_list"
   ]
  },
  {
   "cell_type": "code",
   "execution_count": 58,
   "id": "91e2f8e1-c80c-4c4f-92ad-924663ce4af7",
   "metadata": {},
   "outputs": [
    {
     "name": "stdout",
     "output_type": "stream",
     "text": [
      "<enumerate object at 0x7fcd024d1ec0>\n",
      "[(0, 'python'), (1, 'c++'), (2, 'java'), (3, 'c#')]\n",
      "[(20, 'python'), (21, 'c++'), (22, 'java'), (23, 'c#')]\n"
     ]
    }
   ],
   "source": [
    "lang=[\"python\",\"c++\",\"java\",\"c#\"]\n",
    "a=enumerate(lang)\n",
    "print(a)\n",
    "print(list(a))\n",
    "\n",
    "b=enumerate(lang,20) # adding start value as 20\n",
    "print(list(b))"
   ]
  },
  {
   "cell_type": "code",
   "execution_count": null,
   "id": "bd569ed4-5fa3-4ff9-a76b-76ae11a72362",
   "metadata": {},
   "outputs": [],
   "source": [
    "# list comprehension\n",
    "[output | collection | condition]\n",
    "[  x    | for x in range(5) | if x%2==2 ]"
   ]
  },
  {
   "cell_type": "code",
   "execution_count": 65,
   "id": "f4195191-685f-43ca-8afd-b47c7b3f4d66",
   "metadata": {},
   "outputs": [
    {
     "data": {
      "text/plain": [
       "[1, 2, 3, 4, 5, 6]"
      ]
     },
     "execution_count": 65,
     "metadata": {},
     "output_type": "execute_result"
    }
   ],
   "source": [
    "lst=[1,2,3,4,5,6]\n",
    "a=[x for x in lst]\n",
    "a"
   ]
  },
  {
   "cell_type": "code",
   "execution_count": 66,
   "id": "76abf467-d6dd-41c5-8e8a-623c55b22c58",
   "metadata": {},
   "outputs": [
    {
     "data": {
      "text/plain": [
       "[5, 6]"
      ]
     },
     "execution_count": 66,
     "metadata": {},
     "output_type": "execute_result"
    }
   ],
   "source": [
    "b=[x for x in lst if x > 4]\n",
    "b"
   ]
  },
  {
   "cell_type": "code",
   "execution_count": 68,
   "id": "fa5362f5-384a-45ad-8d0d-9340a4d6b7c5",
   "metadata": {},
   "outputs": [
    {
     "data": {
      "text/plain": [
       "[2, 4, 6]"
      ]
     },
     "execution_count": 68,
     "metadata": {},
     "output_type": "execute_result"
    }
   ],
   "source": [
    "c=[x for x in lst if x % 2==0]\n",
    "c"
   ]
  },
  {
   "cell_type": "code",
   "execution_count": 69,
   "id": "6c660781-1ad3-45ae-b4e5-efbfc010ff24",
   "metadata": {},
   "outputs": [
    {
     "data": {
      "text/plain": [
       "[6]"
      ]
     },
     "execution_count": 69,
     "metadata": {},
     "output_type": "execute_result"
    }
   ],
   "source": [
    "d=[x for x in lst if x > 4 if x % 2==0]\n",
    "d"
   ]
  },
  {
   "cell_type": "code",
   "execution_count": null,
   "id": "f9824acc-fe7b-4e7e-810e-0cddd1350f8f",
   "metadata": {},
   "outputs": [],
   "source": [
    "# filter\n",
    "# map\n",
    "# reduce\n",
    "# dictionary comprehension"
   ]
  },
  {
   "cell_type": "code",
   "execution_count": 70,
   "id": "50df91c4-5ae1-46bd-8916-123340749399",
   "metadata": {},
   "outputs": [
    {
     "data": {
      "text/plain": [
       "['less', 'less', 'less', 'less', 5, 6]"
      ]
     },
     "execution_count": 70,
     "metadata": {},
     "output_type": "execute_result"
    }
   ],
   "source": [
    "e = [x if x > 4 else \"less\" for x in lst]\n",
    "e"
   ]
  },
  {
   "cell_type": "code",
   "execution_count": 80,
   "id": "5b679034-1815-4123-b3bd-a3e2b3f786a0",
   "metadata": {},
   "outputs": [
    {
     "data": {
      "text/plain": [
       "['even', 2, 'odd', 4]"
      ]
     },
     "execution_count": 80,
     "metadata": {},
     "output_type": "execute_result"
    }
   ],
   "source": [
    "f = [x if x % 2 ==0 else \"odd\" if x % 3 ==0 else \"even\" for x in lst]\n",
    "f"
   ]
  },
  {
   "cell_type": "code",
   "execution_count": 78,
   "id": "8f92c933-0a6c-45f1-8527-092ff5803e33",
   "metadata": {},
   "outputs": [
    {
     "name": "stdout",
     "output_type": "stream",
     "text": [
      "odd\n",
      "even\n",
      "odd\n",
      "even\n"
     ]
    }
   ],
   "source": [
    "lst=[1,2,3,4]\n",
    "def fun():\n",
    "    for i in lst:\n",
    "        if i%2==0:\n",
    "            print(\"even\")\n",
    "        else:\n",
    "            print(\"odd\")\n",
    "fun()"
   ]
  },
  {
   "cell_type": "code",
   "execution_count": null,
   "id": "76b91f35-ec93-4c8b-8164-cf7315dbc456",
   "metadata": {},
   "outputs": [],
   "source": []
  }
 ],
 "metadata": {
  "kernelspec": {
   "display_name": "Python 3 (ipykernel)",
   "language": "python",
   "name": "python3"
  },
  "language_info": {
   "codemirror_mode": {
    "name": "ipython",
    "version": 3
   },
   "file_extension": ".py",
   "mimetype": "text/x-python",
   "name": "python",
   "nbconvert_exporter": "python",
   "pygments_lexer": "ipython3",
   "version": "3.10.8"
  }
 },
 "nbformat": 4,
 "nbformat_minor": 5
}
