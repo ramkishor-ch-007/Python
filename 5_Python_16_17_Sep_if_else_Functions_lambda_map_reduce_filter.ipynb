{
 "cells": [
  {
   "cell_type": "code",
   "execution_count": 4,
   "id": "849220cd-89ea-4a23-ab8f-48380111a4d7",
   "metadata": {},
   "outputs": [],
   "source": [
    "# Recap"
   ]
  },
  {
   "cell_type": "code",
   "execution_count": 5,
   "id": "58d7f4c0-0e1b-4e1e-b2c5-9adc9c5d7f56",
   "metadata": {},
   "outputs": [
    {
     "name": "stdout",
     "output_type": "stream",
     "text": [
      "not buy\n"
     ]
    }
   ],
   "source": [
    "price = 20000\n",
    "\n",
    "if 10000 <= price <= 15000: # check the price in this range\n",
    "    print(\"buy a course\")\n",
    "else:\n",
    "    print(\"not buy\")"
   ]
  },
  {
   "cell_type": "code",
   "execution_count": 6,
   "id": "8c9ed13e-8c72-409f-a1fc-8988304384bd",
   "metadata": {},
   "outputs": [],
   "source": [
    "# in \n",
    "# operator used check \n",
    "# int(input()) in list"
   ]
  },
  {
   "cell_type": "code",
   "execution_count": 2,
   "id": "399c4b3e-c5fa-4585-81cf-83ea77a4500c",
   "metadata": {},
   "outputs": [],
   "source": [
    "# 17 Sep\n",
    "# Python supports functional programming"
   ]
  },
  {
   "cell_type": "code",
   "execution_count": 3,
   "id": "649aef53-14d9-469b-9e38-04d5fa41eacf",
   "metadata": {},
   "outputs": [],
   "source": [
    "def test1():\n",
    "    print(\"test\")"
   ]
  },
  {
   "cell_type": "code",
   "execution_count": 5,
   "id": "8a121985-ef82-413f-b59d-680338814d17",
   "metadata": {},
   "outputs": [
    {
     "name": "stdout",
     "output_type": "stream",
     "text": [
      "test\n"
     ]
    },
    {
     "ename": "TypeError",
     "evalue": "unsupported operand type(s) for +: 'NoneType' and 'str'",
     "output_type": "error",
     "traceback": [
      "\u001b[0;31m---------------------------------------------------------------------------\u001b[0m",
      "\u001b[0;31mTypeError\u001b[0m                                 Traceback (most recent call last)",
      "Cell \u001b[0;32mIn[5], line 1\u001b[0m\n\u001b[0;32m----> 1\u001b[0m \u001b[43mtest1\u001b[49m\u001b[43m(\u001b[49m\u001b[43m)\u001b[49m\u001b[43m \u001b[49m\u001b[38;5;241;43m+\u001b[39;49m\u001b[43m \u001b[49m\u001b[38;5;124;43m\"\u001b[39;49m\u001b[38;5;124;43msdep\u001b[39;49m\u001b[38;5;124;43m\"\u001b[39;49m\n",
      "\u001b[0;31mTypeError\u001b[0m: unsupported operand type(s) for +: 'NoneType' and 'str'"
     ]
    }
   ],
   "source": [
    "test1() + \"sdep\""
   ]
  },
  {
   "cell_type": "code",
   "execution_count": 6,
   "id": "65ed92aa-cdcf-4511-86d3-f22d6bfc84ce",
   "metadata": {},
   "outputs": [
    {
     "name": "stdout",
     "output_type": "stream",
     "text": [
      "test\n"
     ]
    },
    {
     "data": {
      "text/plain": [
       "NoneType"
      ]
     },
     "execution_count": 6,
     "metadata": {},
     "output_type": "execute_result"
    }
   ],
   "source": [
    "type(test1())"
   ]
  },
  {
   "cell_type": "code",
   "execution_count": 7,
   "id": "bf9e92a7-8c39-4551-a7be-ebe26d9d3a80",
   "metadata": {},
   "outputs": [],
   "source": [
    "def test2():\n",
    "    a = 1 + 2\n",
    "    return a"
   ]
  },
  {
   "cell_type": "code",
   "execution_count": 8,
   "id": "8349b816-5150-4aa2-ba22-a576d0a452eb",
   "metadata": {},
   "outputs": [
    {
     "data": {
      "text/plain": [
       "13"
      ]
     },
     "execution_count": 8,
     "metadata": {},
     "output_type": "execute_result"
    }
   ],
   "source": [
    "test2() + 10"
   ]
  },
  {
   "cell_type": "code",
   "execution_count": 9,
   "id": "3b12a28b-d865-4c22-a414-3cdbfca8d2fb",
   "metadata": {},
   "outputs": [],
   "source": [
    "def test3():\n",
    "    return 4,\"sop\",True,[1,2]"
   ]
  },
  {
   "cell_type": "code",
   "execution_count": 12,
   "id": "1048e15d-02a7-4da7-a058-02d10353a1da",
   "metadata": {},
   "outputs": [
    {
     "data": {
      "text/plain": [
       "(4, 'sop', True, [1, 2])"
      ]
     },
     "execution_count": 12,
     "metadata": {},
     "output_type": "execute_result"
    }
   ],
   "source": [
    "test3()"
   ]
  },
  {
   "cell_type": "code",
   "execution_count": 13,
   "id": "5a8bfe51-01ec-4f4d-88fc-442899070aa3",
   "metadata": {},
   "outputs": [
    {
     "data": {
      "text/plain": [
       "tuple"
      ]
     },
     "execution_count": 13,
     "metadata": {},
     "output_type": "execute_result"
    }
   ],
   "source": [
    "type(test3())"
   ]
  },
  {
   "cell_type": "code",
   "execution_count": 15,
   "id": "c982e8dd-c97f-4878-9871-e457cd3f8922",
   "metadata": {},
   "outputs": [],
   "source": [
    "m, n, o, p = test3()"
   ]
  },
  {
   "cell_type": "code",
   "execution_count": 16,
   "id": "5579b77e-ac9b-49b9-b9c9-7d1217c593f2",
   "metadata": {},
   "outputs": [
    {
     "data": {
      "text/plain": [
       "4"
      ]
     },
     "execution_count": 16,
     "metadata": {},
     "output_type": "execute_result"
    }
   ],
   "source": [
    "m"
   ]
  },
  {
   "cell_type": "code",
   "execution_count": 17,
   "id": "5994d67c-397e-4a8d-8005-8377613490b7",
   "metadata": {},
   "outputs": [],
   "source": [
    "def test4(x):\n",
    "    return x"
   ]
  },
  {
   "cell_type": "code",
   "execution_count": 18,
   "id": "6c1a7014-f539-482e-b2b1-a333ec0c03c3",
   "metadata": {},
   "outputs": [
    {
     "data": {
      "text/plain": [
       "5"
      ]
     },
     "execution_count": 18,
     "metadata": {},
     "output_type": "execute_result"
    }
   ],
   "source": [
    "test4(5)"
   ]
  },
  {
   "cell_type": "code",
   "execution_count": 19,
   "id": "f1c817af-5e78-4549-ae91-f908f2a0dea7",
   "metadata": {},
   "outputs": [
    {
     "data": {
      "text/plain": [
       "[1, 2]"
      ]
     },
     "execution_count": 19,
     "metadata": {},
     "output_type": "execute_result"
    }
   ],
   "source": [
    "test4([1,2])"
   ]
  },
  {
   "cell_type": "code",
   "execution_count": 20,
   "id": "1e61d3d7-66bc-44dc-ae4d-18358a53371a",
   "metadata": {},
   "outputs": [
    {
     "ename": "TypeError",
     "evalue": "test4() takes 1 positional argument but 2 were given",
     "output_type": "error",
     "traceback": [
      "\u001b[0;31m---------------------------------------------------------------------------\u001b[0m",
      "\u001b[0;31mTypeError\u001b[0m                                 Traceback (most recent call last)",
      "Cell \u001b[0;32mIn[20], line 1\u001b[0m\n\u001b[0;32m----> 1\u001b[0m \u001b[43mtest4\u001b[49m\u001b[43m(\u001b[49m\u001b[38;5;241;43m5\u001b[39;49m\u001b[43m,\u001b[49m\u001b[38;5;241;43m6\u001b[39;49m\u001b[43m)\u001b[49m\n",
      "\u001b[0;31mTypeError\u001b[0m: test4() takes 1 positional argument but 2 were given"
     ]
    }
   ],
   "source": [
    "test4(5,6)"
   ]
  },
  {
   "cell_type": "code",
   "execution_count": 21,
   "id": "8abafe3e-2572-4e7c-a256-cabdaaa36e59",
   "metadata": {},
   "outputs": [
    {
     "ename": "TypeError",
     "evalue": "test4() missing 1 required positional argument: 'x'",
     "output_type": "error",
     "traceback": [
      "\u001b[0;31m---------------------------------------------------------------------------\u001b[0m",
      "\u001b[0;31mTypeError\u001b[0m                                 Traceback (most recent call last)",
      "Cell \u001b[0;32mIn[21], line 1\u001b[0m\n\u001b[0;32m----> 1\u001b[0m \u001b[43mtest4\u001b[49m\u001b[43m(\u001b[49m\u001b[43m)\u001b[49m\n",
      "\u001b[0;31mTypeError\u001b[0m: test4() missing 1 required positional argument: 'x'"
     ]
    }
   ],
   "source": [
    "test4()"
   ]
  },
  {
   "cell_type": "code",
   "execution_count": 22,
   "id": "5f6b5df3-1636-4fd6-85fb-cc84dac36ec7",
   "metadata": {},
   "outputs": [],
   "source": [
    "def test5(x,y):\n",
    "    return x,y"
   ]
  },
  {
   "cell_type": "code",
   "execution_count": 23,
   "id": "f0cb06a5-5423-4e3f-9c84-3352696c521d",
   "metadata": {},
   "outputs": [
    {
     "data": {
      "text/plain": [
       "('pw', [1, 2])"
      ]
     },
     "execution_count": 23,
     "metadata": {},
     "output_type": "execute_result"
    }
   ],
   "source": [
    "test5(\"pw\",[1,2])"
   ]
  },
  {
   "cell_type": "code",
   "execution_count": 27,
   "id": "8a1779ed-9019-49b2-9dd2-7b18acf76608",
   "metadata": {},
   "outputs": [],
   "source": [
    "# python is a self type langauge\n",
    "# automatically detect the data type\n",
    "def test6(a:int, b:int):\n",
    "    return a,b"
   ]
  },
  {
   "cell_type": "code",
   "execution_count": 25,
   "id": "a8d7e304-e79a-4e4d-8c2e-198f709de625",
   "metadata": {},
   "outputs": [
    {
     "data": {
      "text/plain": [
       "(3, 4)"
      ]
     },
     "execution_count": 25,
     "metadata": {},
     "output_type": "execute_result"
    }
   ],
   "source": [
    "test6(3,4)"
   ]
  },
  {
   "cell_type": "code",
   "execution_count": 30,
   "id": "ef163178-f7ff-4b18-a46e-fd1ddc0d304c",
   "metadata": {},
   "outputs": [
    {
     "data": {
      "text/plain": [
       "('pw ski', [1, 2, 3])"
      ]
     },
     "execution_count": 30,
     "metadata": {},
     "output_type": "execute_result"
    }
   ],
   "source": [
    "test6(\"pw ski\",[1,2,3]) \n",
    "# pass any type of data with out any exception\n",
    "# can notify(shift + tab) user but can't restrict the user,\n",
    "# to pass only specific type of data."
   ]
  },
  {
   "cell_type": "code",
   "execution_count": 31,
   "id": "fbd84057-375d-4cf3-8e8a-bc98c07873e3",
   "metadata": {},
   "outputs": [],
   "source": [
    "def test7(c,d):\n",
    "    \"\"\"\n",
    "    this function take two input and return addition or concatenation.\n",
    "    \"\"\"\n",
    "    return c+d"
   ]
  },
  {
   "cell_type": "code",
   "execution_count": 32,
   "id": "0871407a-da48-454e-9a8e-fa996df867e5",
   "metadata": {},
   "outputs": [
    {
     "data": {
      "text/plain": [
       "3"
      ]
     },
     "execution_count": 32,
     "metadata": {},
     "output_type": "execute_result"
    }
   ],
   "source": [
    "test7(1,2)"
   ]
  },
  {
   "cell_type": "code",
   "execution_count": 33,
   "id": "d60da022-db9e-4e12-908d-e7b32adced13",
   "metadata": {},
   "outputs": [],
   "source": [
    "def test8(*args):\n",
    "    return args"
   ]
  },
  {
   "cell_type": "code",
   "execution_count": 34,
   "id": "b8dbf175-e936-41fc-8c2b-bbd19ccea9a3",
   "metadata": {},
   "outputs": [
    {
     "data": {
      "text/plain": [
       "(1, 2, 3, 4)"
      ]
     },
     "execution_count": 34,
     "metadata": {},
     "output_type": "execute_result"
    }
   ],
   "source": [
    "test8(1,2,3,4)"
   ]
  },
  {
   "cell_type": "code",
   "execution_count": 35,
   "id": "b1f7f811-c272-4800-8f6c-9ebd0a907841",
   "metadata": {},
   "outputs": [],
   "source": [
    "def test9(**kwargs):\n",
    "    return kwargs"
   ]
  },
  {
   "cell_type": "code",
   "execution_count": 36,
   "id": "15c18a2b-f6f6-42d2-92fc-28cffcb0c2d8",
   "metadata": {},
   "outputs": [
    {
     "data": {
      "text/plain": [
       "{'a': 1, 'b': 2}"
      ]
     },
     "execution_count": 36,
     "metadata": {},
     "output_type": "execute_result"
    }
   ],
   "source": [
    "test9(a=1,b=2)"
   ]
  },
  {
   "cell_type": "code",
   "execution_count": 37,
   "id": "7048917d-4393-4824-8031-6dfb74dc30dd",
   "metadata": {},
   "outputs": [
    {
     "data": {
      "text/plain": [
       "{'n': {'a': 1, 'b': 2}}"
      ]
     },
     "execution_count": 37,
     "metadata": {},
     "output_type": "execute_result"
    }
   ],
   "source": [
    "test9(n={'a': 1, 'b': 2})"
   ]
  },
  {
   "cell_type": "code",
   "execution_count": 41,
   "id": "2e96c8ef-863f-4466-a70f-1bea2d7a5a50",
   "metadata": {},
   "outputs": [],
   "source": [
    "def test10(a,b=10,c=20): #non default arguments at the end\n",
    "    return a,b,c"
   ]
  },
  {
   "cell_type": "code",
   "execution_count": 39,
   "id": "b8910d83-db82-4842-9ae3-78744e8a06fd",
   "metadata": {},
   "outputs": [
    {
     "data": {
      "text/plain": [
       "(1, 10, 20)"
      ]
     },
     "execution_count": 39,
     "metadata": {},
     "output_type": "execute_result"
    }
   ],
   "source": [
    "test10(1)"
   ]
  },
  {
   "cell_type": "code",
   "execution_count": 40,
   "id": "acb31221-610d-4687-8715-dc1ce4059625",
   "metadata": {},
   "outputs": [
    {
     "data": {
      "text/plain": [
       "(1, 2, 20)"
      ]
     },
     "execution_count": 40,
     "metadata": {},
     "output_type": "execute_result"
    }
   ],
   "source": [
    "test10(1,2)"
   ]
  },
  {
   "cell_type": "code",
   "execution_count": 42,
   "id": "6e528257-080f-4aa7-be9f-ce40b94c9d1c",
   "metadata": {},
   "outputs": [],
   "source": [
    "x = lambda a,b: a+b"
   ]
  },
  {
   "cell_type": "code",
   "execution_count": 43,
   "id": "2010c60d-e145-4996-99c1-765b68f4dcff",
   "metadata": {},
   "outputs": [
    {
     "data": {
      "text/plain": [
       "7"
      ]
     },
     "execution_count": 43,
     "metadata": {},
     "output_type": "execute_result"
    }
   ],
   "source": [
    "x(2,5)"
   ]
  },
  {
   "cell_type": "code",
   "execution_count": 44,
   "id": "1418d641-582b-4a0d-a408-7070dac031c1",
   "metadata": {},
   "outputs": [
    {
     "data": {
      "text/plain": [
       "<function __main__.test10(a, b=10, c=20)>"
      ]
     },
     "execution_count": 44,
     "metadata": {},
     "output_type": "execute_result"
    }
   ],
   "source": [
    "test10"
   ]
  },
  {
   "cell_type": "code",
   "execution_count": 45,
   "id": "93cbc668-add1-44ec-b4d3-c94a2d6c6b86",
   "metadata": {},
   "outputs": [
    {
     "data": {
      "text/plain": [
       "<function __main__.<lambda>(a, b)>"
      ]
     },
     "execution_count": 45,
     "metadata": {},
     "output_type": "execute_result"
    }
   ],
   "source": [
    "x"
   ]
  },
  {
   "cell_type": "code",
   "execution_count": 48,
   "id": "eceb0855-f7b5-4d78-9622-fa66a42077fd",
   "metadata": {},
   "outputs": [],
   "source": [
    "y = lambda n: \"even number\" if n%2==0 else \"odd number\""
   ]
  },
  {
   "cell_type": "code",
   "execution_count": 49,
   "id": "8e32d9f0-1560-4a55-bc14-56f6618f4d12",
   "metadata": {},
   "outputs": [
    {
     "data": {
      "text/plain": [
       "'even number'"
      ]
     },
     "execution_count": 49,
     "metadata": {},
     "output_type": "execute_result"
    }
   ],
   "source": [
    "y(2)"
   ]
  },
  {
   "cell_type": "code",
   "execution_count": 50,
   "id": "4736adae-1a3a-47e3-8277-8a5309131dd1",
   "metadata": {},
   "outputs": [],
   "source": [
    "l = [1,2,3,4]\n",
    "min_list = lambda li : min(li)"
   ]
  },
  {
   "cell_type": "code",
   "execution_count": 51,
   "id": "b6919a8b-d794-474c-a408-ed225dacd3bd",
   "metadata": {},
   "outputs": [
    {
     "data": {
      "text/plain": [
       "1"
      ]
     },
     "execution_count": 51,
     "metadata": {},
     "output_type": "execute_result"
    }
   ],
   "source": [
    "min_list(l)"
   ]
  },
  {
   "cell_type": "code",
   "execution_count": 52,
   "id": "469dd8a6-96e2-4bc4-813c-16b1e5553b0b",
   "metadata": {},
   "outputs": [],
   "source": [
    "div = lambda a,b: a/b"
   ]
  },
  {
   "cell_type": "code",
   "execution_count": 53,
   "id": "6f23d37a-3db3-4f3b-834f-91182c27c736",
   "metadata": {},
   "outputs": [
    {
     "data": {
      "text/plain": [
       "0.8333333333333334"
      ]
     },
     "execution_count": 53,
     "metadata": {},
     "output_type": "execute_result"
    }
   ],
   "source": [
    "div(5,6)"
   ]
  },
  {
   "cell_type": "code",
   "execution_count": 54,
   "id": "d456ce6f-c04c-415e-9af9-9c7e765ed2a7",
   "metadata": {},
   "outputs": [],
   "source": [
    "up = lambda s : s.upper()"
   ]
  },
  {
   "cell_type": "code",
   "execution_count": 55,
   "id": "03186b9d-1c05-4274-a7b2-fbbdd9af5c3c",
   "metadata": {},
   "outputs": [
    {
     "data": {
      "text/plain": [
       "'PW'"
      ]
     },
     "execution_count": 55,
     "metadata": {},
     "output_type": "execute_result"
    }
   ],
   "source": [
    "up(\"pw\")"
   ]
  },
  {
   "cell_type": "code",
   "execution_count": 64,
   "id": "02659fe0-a3b8-45a5-98e6-498ca43adb6d",
   "metadata": {},
   "outputs": [],
   "source": [
    "l = [1,2,3,4,5]\n",
    "\n",
    "s = lambda x : sum([i for i in x if i%2!=0])"
   ]
  },
  {
   "cell_type": "code",
   "execution_count": 65,
   "id": "256e1ee3-62db-4933-9d29-e7053b453780",
   "metadata": {},
   "outputs": [
    {
     "data": {
      "text/plain": [
       "9"
      ]
     },
     "execution_count": 65,
     "metadata": {},
     "output_type": "execute_result"
    }
   ],
   "source": [
    "s(l)"
   ]
  },
  {
   "cell_type": "code",
   "execution_count": 69,
   "id": "30b64635-aee2-4830-9daa-c021a032aeaf",
   "metadata": {},
   "outputs": [],
   "source": [
    "def fat(n):\n",
    "    if n==0:\n",
    "        return 1\n",
    "    else:\n",
    "        return n * fat(n-1)"
   ]
  },
  {
   "cell_type": "code",
   "execution_count": 70,
   "id": "cdc35035-80c3-496a-966c-19d16ab6ed3b",
   "metadata": {},
   "outputs": [
    {
     "data": {
      "text/plain": [
       "120"
      ]
     },
     "execution_count": 70,
     "metadata": {},
     "output_type": "execute_result"
    }
   ],
   "source": [
    "fat(5)"
   ]
  },
  {
   "cell_type": "code",
   "execution_count": 74,
   "id": "547a7a6f-016f-46cf-9b5f-ee5b01b1e1da",
   "metadata": {},
   "outputs": [],
   "source": [
    "y = lambda x : 1 if x==0 else x*y(x-1)"
   ]
  },
  {
   "cell_type": "code",
   "execution_count": 75,
   "id": "d77ce836-481d-43bb-b653-7c4fdb6055a8",
   "metadata": {},
   "outputs": [
    {
     "data": {
      "text/plain": [
       "120"
      ]
     },
     "execution_count": 75,
     "metadata": {},
     "output_type": "execute_result"
    }
   ],
   "source": [
    "y(5)"
   ]
  },
  {
   "cell_type": "code",
   "execution_count": 79,
   "id": "6f7f1d12-5cf3-48c0-97a5-36bf73c691a1",
   "metadata": {},
   "outputs": [],
   "source": [
    "def ft(n):\n",
    "    a=1\n",
    "    for i in range(1,n+1):\n",
    "        a=a*i\n",
    "    return a"
   ]
  },
  {
   "cell_type": "code",
   "execution_count": 82,
   "id": "dac4c31b-caac-4034-915e-c8ba91e8ffcf",
   "metadata": {},
   "outputs": [
    {
     "data": {
      "text/plain": [
       "120"
      ]
     },
     "execution_count": 82,
     "metadata": {},
     "output_type": "execute_result"
    }
   ],
   "source": [
    "ft(5)"
   ]
  },
  {
   "cell_type": "code",
   "execution_count": 83,
   "id": "82840529-058a-491e-948d-44d3822d4190",
   "metadata": {},
   "outputs": [],
   "source": [
    "# map,reduce, filter
     # Iterable is an object which can be looped over or iterated over with the help of a for loop.
     # Objects like lists, tuples, sets, dictionaries, strings, etc. are called iterables."
   ]
  },
  {
   "cell_type": "code",
   "execution_count": 84,
   "id": "641a8a0c-d4f7-477c-96e2-0d55f2a1090c",
   "metadata": {},
   "outputs": [],
   "source": [
    "l = [1,2,3,4]\n",
    "\n",
    "l1=[]\n",
    "for i in l:\n",
    "    l1.append(i+2)"
   ]
  },
  {
   "cell_type": "code",
   "execution_count": 85,
   "id": "78f4d31d-ef66-4633-ae19-17d56ce292f9",
   "metadata": {},
   "outputs": [
    {
     "data": {
      "text/plain": [
       "[3, 4, 5, 6]"
      ]
     },
     "execution_count": 85,
     "metadata": {},
     "output_type": "execute_result"
    }
   ],
   "source": [
    "l1"
   ]
  },
  {
   "cell_type": "code",
   "execution_count": 97,
   "id": "74dd8e20-78be-459a-ab35-83b4279885f0",
   "metadata": {},
   "outputs": [],
   "source": [
    "d = list(map(lambda x: x+2, l))"
   ]
  },
  {
   "cell_type": "code",
   "execution_count": 98,
   "id": "f658832e-2eda-4695-a6bf-0d43fc721c17",
   "metadata": {},
   "outputs": [
    {
     "data": {
      "text/plain": [
       "[3, 4, 5, 6]"
      ]
     },
     "execution_count": 98,
     "metadata": {},
     "output_type": "execute_result"
    }
   ],
   "source": [
    "d"
   ]
  },
  {
   "cell_type": "code",
   "execution_count": 101,
   "id": "081dc7fd-cf91-48c5-934a-c346bcbb4842",
   "metadata": {},
   "outputs": [
    {
     "data": {
      "text/plain": [
       "[3, 5]"
      ]
     },
     "execution_count": 101,
     "metadata": {},
     "output_type": "execute_result"
    }
   ],
   "source": [
    "# find the length of each string\n",
    "p=[\"abc\",\"defgh\"]\n",
    "list(map(lambda x: len(x), p))"
   ]
  },
  {
   "cell_type": "code",
   "execution_count": 107,
   "id": "68bd1a9e-d76c-4125-828a-7a384d1ae5fe",
   "metadata": {},
   "outputs": [
    {
     "data": {
      "text/plain": [
       "['cba', 'hgfed']"
      ]
     },
     "execution_count": 107,
     "metadata": {},
     "output_type": "execute_result"
    }
   ],
   "source": [
    "# reverse of a string in individual element\n",
    "p=[\"abc\",\"defgh\"]\n",
    "list(map(lambda x: x[::-1], p))"
   ]
  },
  {
   "cell_type": "code",
   "execution_count": 134,
   "id": "d8e0b244-9467-4700-9526-b3f6040044d2",
   "metadata": {},
   "outputs": [
    {
     "data": {
      "text/plain": [
       "24"
      ]
     },
     "execution_count": 134,
     "metadata": {},
     "output_type": "execute_result"
    }
   ],
   "source": [
    "from functools import reduce\n",
    "\n",
    "l = [1,4,2,3]\n",
    "\n",
    "reduce(lambda u,v: u*v,l)\n",
    "# multiplication of elements in list"
   ]
  },
  {
   "cell_type": "code",
   "execution_count": 135,
   "id": "c91de4b1-755c-4c89-b763-21396c43e1d5",
   "metadata": {},
   "outputs": [
    {
     "data": {
      "text/plain": [
       "4"
      ]
     },
     "execution_count": 135,
     "metadata": {},
     "output_type": "execute_result"
    }
   ],
   "source": [
    "reduce(lambda u,v: u if u>v else v, l)\n",
    "# max number from list"
   ]
  },
  {
   "cell_type": "code",
   "execution_count": 136,
   "id": "c52b3746-06b6-4225-b7fd-f6ad4d47022c",
   "metadata": {},
   "outputs": [
    {
     "data": {
      "text/plain": [
       "24"
      ]
     },
     "execution_count": 136,
     "metadata": {},
     "output_type": "execute_result"
    }
   ],
   "source": [
    "reduce(lambda u,v: u*v, range(1,4+1))\n",
    "# multiplication of elements in list"
   ]
  },
  {
   "cell_type": "code",
   "execution_count": 137,
   "id": "39de4379-3b8e-441c-a23d-6277cccbf863",
   "metadata": {},
   "outputs": [
    {
     "data": {
      "text/plain": [
       "8"
      ]
     },
     "execution_count": 137,
     "metadata": {},
     "output_type": "execute_result"
    }
   ],
   "source": [
    "reduce(lambda u,v: u*v, [i for i in l if i%2==0])\n",
    "# multiplication of elements in list where if elements are even numbers"
   ]
  },
  {
   "cell_type": "code",
   "execution_count": 139,
   "id": "cee30f9c-dddf-4f88-9fb0-1b7da1eee819",
   "metadata": {},
   "outputs": [
    {
     "data": {
      "text/plain": [
       "[2, 4]"
      ]
     },
     "execution_count": 139,
     "metadata": {},
     "output_type": "execute_result"
    }
   ],
   "source": [
    "l=[1,2,3,4]\n",
    "list(filter(lambda a: a%2==0, l))\n",
    "# filter even numbers"
   ]
  },
  {
   "cell_type": "code",
   "execution_count": 155,
   "id": "3edc1b0c-ac51-439a-a5bb-5be91e7ddd0e",
   "metadata": {},
   "outputs": [
    {
     "data": {
      "text/plain": [
       "['w', 'k', 'i', 'l', 'l', 's']"
      ]
     },
     "execution_count": 155,
     "metadata": {},
     "output_type": "execute_result"
    }
   ],
   "source": [
    "s=\"Pw Skills\"\n",
    "\n",
    "list(filter(lambda x: x.islower(),s))\n",
    "# filter only lower case letters"
   ]
  },
  {
   "cell_type": "code",
   "execution_count": 156,
   "id": "e24aa9b4-46c1-4da3-b855-9331d614baea",
   "metadata": {},
   "outputs": [
    {
     "data": {
      "text/plain": [
       "['a', 'abc', 'def']"
      ]
     },
     "execution_count": 156,
     "metadata": {},
     "output_type": "execute_result"
    }
   ],
   "source": [
    "l=[\"a\", \"abc\", \"def\", \"ghij\"]\n",
    "list(filter(lambda x: len(x)<4, l))\n",
    "# filter length of each string is less than 4"
   ]
  },
  {
   "cell_type": "code",
   "execution_count": 157,
   "id": "4ab367c3-454f-47ce-be56-6bd42b61e75a",
   "metadata": {},
   "outputs": [
    {
     "data": {
      "text/plain": [
       "['a', 'abc']"
      ]
     },
     "execution_count": 157,
     "metadata": {},
     "output_type": "execute_result"
    }
   ],
   "source": [
    "list(filter(lambda x: x[0]=='a', l))\n",
    "# filter only string starts with 'a'"
   ]
  },
  {
   "cell_type": "code",
   "execution_count": 162,
   "id": "7bc2a38b-2ea5-40af-9449-2a66db656707",
   "metadata": {},
   "outputs": [],
   "source": [
    "# Recursive functions\n",
    "def fib(n):\n",
    "    if n<=1:\n",
    "        return n\n",
    "    else:\n",
    "        return fib(n-1)+fib(n-2)"
   ]
  },
  {
   "cell_type": "code",
   "execution_count": 163,
   "id": "faf3be52-9db1-4606-be1b-278fd24905a4",
   "metadata": {},
   "outputs": [
    {
     "data": {
      "text/plain": [
       "13"
      ]
     },
     "execution_count": 163,
     "metadata": {},
     "output_type": "execute_result"
    }
   ],
   "source": [
    "fib(7)"
   ]
  },
  {
   "cell_type": "code",
   "execution_count": null,
   "id": "fc74a59f-90d7-446f-bbf5-eac3774aeeab",
   "metadata": {},
   "outputs": [],
   "source": []
  },
  {
   "cell_type": "code",
   "execution_count": null,
   "id": "96d72cca-ab97-4e1e-a3a6-2354136afd5e",
   "metadata": {},
   "outputs": [],
   "source": []
  }
 ],
 "metadata": {
  "kernelspec": {
   "display_name": "Python 3 (ipykernel)",
   "language": "python",
   "name": "python3"
  },
  "language_info": {
   "codemirror_mode": {
    "name": "ipython",
    "version": 3
   },
   "file_extension": ".py",
   "mimetype": "text/x-python",
   "name": "python",
   "nbconvert_exporter": "python",
   "pygments_lexer": "ipython3",
   "version": "3.10.8"
  }
 },
 "nbformat": 4,
 "nbformat_minor": 5
}
