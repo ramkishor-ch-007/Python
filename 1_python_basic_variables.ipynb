{
 "cells": [
  {
   "cell_type": "code",
   "execution_count": 1,
   "id": "b47a1a00-45c1-4148-8e32-a92288d68d53",
   "metadata": {},
   "outputs": [
    {
     "data": {
      "text/plain": [
       "3"
      ]
     },
     "execution_count": 1,
     "metadata": {},
     "output_type": "execute_result"
    }
   ],
   "source": [
    "1+2"
   ]
  },
  {
   "cell_type": "code",
   "execution_count": 2,
   "id": "d7f250d5-cbb4-4c18-8a90-b754ce80a737",
   "metadata": {},
   "outputs": [],
   "source": [
    "a = 7"
   ]
  },
  {
   "cell_type": "code",
   "execution_count": 3,
   "id": "b054a4da-424e-4dff-b7d1-462a6e325521",
   "metadata": {},
   "outputs": [
    {
     "data": {
      "text/plain": [
       "7"
      ]
     },
     "execution_count": 3,
     "metadata": {},
     "output_type": "execute_result"
    }
   ],
   "source": [
    "a"
   ]
  },
  {
   "cell_type": "code",
   "execution_count": 4,
   "id": "565b8ef5-0b7f-413f-96a6-c7ed83e22459",
   "metadata": {},
   "outputs": [
    {
     "data": {
      "text/plain": [
       "int"
      ]
     },
     "execution_count": 4,
     "metadata": {},
     "output_type": "execute_result"
    }
   ],
   "source": [
    "type(a)"
   ]
  },
  {
   "cell_type": "code",
   "execution_count": 8,
   "id": "3acc3d18-1ff9-4367-980c-badd4e18a273",
   "metadata": {},
   "outputs": [],
   "source": [
    "s = \"pwskills\"\n",
    "s1 = 'python'"
   ]
  },
  {
   "cell_type": "code",
   "execution_count": 11,
   "id": "adb37775-d43d-44f6-85cb-4944b3ab13ee",
   "metadata": {},
   "outputs": [
    {
     "data": {
      "text/plain": [
       "'pwskills'"
      ]
     },
     "execution_count": 11,
     "metadata": {},
     "output_type": "execute_result"
    }
   ],
   "source": [
    "s"
   ]
  },
  {
   "cell_type": "code",
   "execution_count": 12,
   "id": "5af55a89-5ed2-4d40-9c93-a8c53308182d",
   "metadata": {},
   "outputs": [
    {
     "data": {
      "text/plain": [
       "'python'"
      ]
     },
     "execution_count": 12,
     "metadata": {},
     "output_type": "execute_result"
    }
   ],
   "source": [
    "s1"
   ]
  },
  {
   "cell_type": "code",
   "execution_count": 7,
   "id": "fafe7bc1-d549-45f3-9cbb-88766e258f0f",
   "metadata": {},
   "outputs": [
    {
     "data": {
      "text/plain": [
       "str"
      ]
     },
     "execution_count": 7,
     "metadata": {},
     "output_type": "execute_result"
    }
   ],
   "source": [
    "type(s)"
   ]
  },
  {
   "cell_type": "code",
   "execution_count": 16,
   "id": "8888faee-9744-47bb-bd04-e88a76a28802",
   "metadata": {},
   "outputs": [
    {
     "data": {
      "text/plain": [
       "456.456"
      ]
     },
     "execution_count": 16,
     "metadata": {},
     "output_type": "execute_result"
    }
   ],
   "source": [
    "f = 456.456\n",
    "f"
   ]
  },
  {
   "cell_type": "code",
   "execution_count": 17,
   "id": "8f4ec32f-7c0f-42d5-abcd-074c74384027",
   "metadata": {},
   "outputs": [
    {
     "data": {
      "text/plain": [
       "float"
      ]
     },
     "execution_count": 17,
     "metadata": {},
     "output_type": "execute_result"
    }
   ],
   "source": [
    "type(f)"
   ]
  },
  {
   "cell_type": "code",
   "execution_count": 2,
   "id": "804375e5-1727-4bcf-a8c2-532e04671df2",
   "metadata": {},
   "outputs": [],
   "source": [
    "#combination of real and imaginary number\n",
    "c = 5+6j #not work 5+6i"
   ]
  },
  {
   "cell_type": "code",
   "execution_count": 3,
   "id": "6ec8ce0d-3e53-4366-8031-b9b9cb69419d",
   "metadata": {},
   "outputs": [
    {
     "data": {
      "text/plain": [
       "(5+6j)"
      ]
     },
     "execution_count": 3,
     "metadata": {},
     "output_type": "execute_result"
    }
   ],
   "source": [
    "c #5 is an integer but system append 0 for 5 like 5.0"
   ]
  },
  {
   "cell_type": "code",
   "execution_count": 29,
   "id": "1397266b-12c5-4e21-8875-c12b1c055422",
   "metadata": {},
   "outputs": [
    {
     "data": {
      "text/plain": [
       "complex"
      ]
     },
     "execution_count": 29,
     "metadata": {},
     "output_type": "execute_result"
    }
   ],
   "source": [
    "type(c)"
   ]
  },
  {
   "cell_type": "code",
   "execution_count": 23,
   "id": "071f263f-7529-49eb-8665-9715fb4e4b33",
   "metadata": {},
   "outputs": [
    {
     "data": {
      "text/plain": [
       "5.0"
      ]
     },
     "execution_count": 23,
     "metadata": {},
     "output_type": "execute_result"
    }
   ],
   "source": [
    "c.real"
   ]
  },
  {
   "cell_type": "code",
   "execution_count": 25,
   "id": "bb7701d5-d67f-4b49-92d0-cae35a8823c0",
   "metadata": {},
   "outputs": [
    {
     "data": {
      "text/plain": [
       "6.0"
      ]
     },
     "execution_count": 25,
     "metadata": {},
     "output_type": "execute_result"
    }
   ],
   "source": [
    "c.imag"
   ]
  },
  {
   "cell_type": "code",
   "execution_count": 26,
   "id": "ca24da94-6adb-43a8-89f2-eeb9f6b8948c",
   "metadata": {},
   "outputs": [],
   "source": [
    "b = True"
   ]
  },
  {
   "cell_type": "code",
   "execution_count": 27,
   "id": "329342be-af1b-43dc-aa18-c060b5043b9c",
   "metadata": {},
   "outputs": [
    {
     "data": {
      "text/plain": [
       "True"
      ]
     },
     "execution_count": 27,
     "metadata": {},
     "output_type": "execute_result"
    }
   ],
   "source": [
    "b"
   ]
  },
  {
   "cell_type": "code",
   "execution_count": 28,
   "id": "a3622338-d074-4cc5-9fd8-bf7c7a0f85e9",
   "metadata": {},
   "outputs": [
    {
     "data": {
      "text/plain": [
       "bool"
      ]
     },
     "execution_count": 28,
     "metadata": {},
     "output_type": "execute_result"
    }
   ],
   "source": [
    "type(b)"
   ]
  },
  {
   "cell_type": "code",
   "execution_count": 30,
   "id": "bdf0c700-27ea-4260-9905-506d21e6cb50",
   "metadata": {},
   "outputs": [],
   "source": [
    "b1 = False"
   ]
  },
  {
   "cell_type": "code",
   "execution_count": 31,
   "id": "ca7b1d7c-813d-4b90-a91d-e934d9cee746",
   "metadata": {},
   "outputs": [
    {
     "data": {
      "text/plain": [
       "False"
      ]
     },
     "execution_count": 31,
     "metadata": {},
     "output_type": "execute_result"
    }
   ],
   "source": [
    "b1"
   ]
  },
  {
   "cell_type": "code",
   "execution_count": 34,
   "id": "dabb01f2-ae98-4abb-bde4-3142d6daa8b1",
   "metadata": {},
   "outputs": [
    {
     "data": {
      "text/plain": [
       "79"
      ]
     },
     "execution_count": 34,
     "metadata": {},
     "output_type": "execute_result"
    }
   ],
   "source": [
    "#Addition\n",
    "a1 = 45\n",
    "a2 = 34\n",
    "a1+a2"
   ]
  },
  {
   "cell_type": "code",
   "execution_count": 35,
   "id": "524a879d-6c4b-42fe-98a7-13ac9525abaa",
   "metadata": {},
   "outputs": [
    {
     "data": {
      "text/plain": [
       "1.3235294117647058"
      ]
     },
     "execution_count": 35,
     "metadata": {},
     "output_type": "execute_result"
    }
   ],
   "source": [
    "a1/a2"
   ]
  },
  {
   "cell_type": "code",
   "execution_count": 36,
   "id": "c7341272-7ffc-41a1-addd-0c6f12487ef2",
   "metadata": {},
   "outputs": [
    {
     "data": {
      "text/plain": [
       "11"
      ]
     },
     "execution_count": 36,
     "metadata": {},
     "output_type": "execute_result"
    }
   ],
   "source": [
    "a1-a2"
   ]
  },
  {
   "cell_type": "code",
   "execution_count": 40,
   "id": "0423312f-f23c-42d4-a5ec-9cf1076fd24e",
   "metadata": {},
   "outputs": [],
   "source": [
    "a1, a2, a3, a4 = 34, 45, \"ab\", True"
   ]
  },
  {
   "cell_type": "code",
   "execution_count": 41,
   "id": "0dba8773-733e-423b-970c-44600ce7a8d3",
   "metadata": {},
   "outputs": [
    {
     "data": {
      "text/plain": [
       "34"
      ]
     },
     "execution_count": 41,
     "metadata": {},
     "output_type": "execute_result"
    }
   ],
   "source": [
    "a1"
   ]
  },
  {
   "cell_type": "code",
   "execution_count": 42,
   "id": "34f3e8f5-71e2-4f36-a9dc-31f0149e81a6",
   "metadata": {},
   "outputs": [
    {
     "data": {
      "text/plain": [
       "45"
      ]
     },
     "execution_count": 42,
     "metadata": {},
     "output_type": "execute_result"
    }
   ],
   "source": [
    "a2"
   ]
  },
  {
   "cell_type": "code",
   "execution_count": 43,
   "id": "52904fcc-cbbe-468b-bab0-6c89e26c6e89",
   "metadata": {},
   "outputs": [
    {
     "data": {
      "text/plain": [
       "'ab'"
      ]
     },
     "execution_count": 43,
     "metadata": {},
     "output_type": "execute_result"
    }
   ],
   "source": [
    "a3"
   ]
  },
  {
   "cell_type": "code",
   "execution_count": 44,
   "id": "be6a0035-b7f2-4ce4-9b14-365ad1f7e757",
   "metadata": {},
   "outputs": [
    {
     "data": {
      "text/plain": [
       "True"
      ]
     },
     "execution_count": 44,
     "metadata": {},
     "output_type": "execute_result"
    }
   ],
   "source": [
    "a4"
   ]
  },
  {
   "cell_type": "code",
   "execution_count": 127,
   "id": "13efdc06-1537-49bc-9b9e-9c8f8e222269",
   "metadata": {},
   "outputs": [],
   "source": [
    "#Rules of variable declaration and defining\n",
    "# $a = 234\n",
    "# 0b = 2342\n",
    "# -b = 4533\n",
    "# True = 45 # reserved keyword should not use variable declarations"
   ]
  },
  {
   "cell_type": "code",
   "execution_count": 128,
   "id": "2bed31bd-f572-4734-83d3-a929dd916df4",
   "metadata": {},
   "outputs": [],
   "source": [
    "_a = 34"
   ]
  },
  {
   "cell_type": "code",
   "execution_count": 48,
   "id": "fe430dd2-fb85-42b8-be93-390c6ccee2fd",
   "metadata": {},
   "outputs": [
    {
     "data": {
      "text/plain": [
       "34"
      ]
     },
     "execution_count": 48,
     "metadata": {},
     "output_type": "execute_result"
    }
   ],
   "source": [
    "_a"
   ]
  },
  {
   "cell_type": "code",
   "execution_count": 129,
   "id": "ddfdc53d-d587-4b7e-a7c4-c5f201fa5b8f",
   "metadata": {},
   "outputs": [],
   "source": [
    "x = True"
   ]
  },
  {
   "cell_type": "code",
   "execution_count": 130,
   "id": "90aa5df8-5649-4a0f-b47c-129e4579308e",
   "metadata": {},
   "outputs": [],
   "source": [
    "z = False"
   ]
  },
  {
   "cell_type": "code",
   "execution_count": 131,
   "id": "17bd79a5-ef18-4412-808c-613c8d6ea064",
   "metadata": {},
   "outputs": [
    {
     "data": {
      "text/plain": [
       "1"
      ]
     },
     "execution_count": 131,
     "metadata": {},
     "output_type": "execute_result"
    }
   ],
   "source": [
    "x-z"
   ]
  },
  {
   "cell_type": "code",
   "execution_count": 132,
   "id": "964c6ad6-b31b-4f6e-9638-0f69623f05d3",
   "metadata": {},
   "outputs": [
    {
     "data": {
      "text/plain": [
       "0"
      ]
     },
     "execution_count": 132,
     "metadata": {},
     "output_type": "execute_result"
    }
   ],
   "source": [
    "x*z"
   ]
  },
  {
   "cell_type": "code",
   "execution_count": 7,
   "id": "382a9adb-cff8-4c3e-b430-520167ffd566",
   "metadata": {},
   "outputs": [],
   "source": [
    "# x/z because infinite when it is divided by zero\n",
    "int = 3435"
   ]
  },
  {
   "cell_type": "code",
   "execution_count": 6,
   "id": "2488ac7d-b3b0-4132-8234-0634c1e62e00",
   "metadata": {},
   "outputs": [
    {
     "data": {
      "text/plain": [
       "3435"
      ]
     },
     "execution_count": 6,
     "metadata": {},
     "output_type": "execute_result"
    }
   ],
   "source": [
    "int"
   ]
  },
  {
   "cell_type": "code",
   "execution_count": 135,
   "id": "bb7ecd89-43df-4674-9daf-7fbb4a8e35ae",
   "metadata": {},
   "outputs": [],
   "source": [
    "w2 = 'python class \\'s'"
   ]
  },
  {
   "cell_type": "code",
   "execution_count": 136,
   "id": "27f279ff-45d7-4cf7-8376-63c9f9ef825c",
   "metadata": {},
   "outputs": [
    {
     "data": {
      "text/plain": [
       "\"python class 's\""
      ]
     },
     "execution_count": 136,
     "metadata": {},
     "output_type": "execute_result"
    }
   ],
   "source": [
    "w2"
   ]
  },
  {
   "cell_type": "code",
   "execution_count": 137,
   "id": "91c04169-b093-4c29-ad4a-f0799867590b",
   "metadata": {},
   "outputs": [],
   "source": [
    "w3 = \"master's\""
   ]
  },
  {
   "cell_type": "code",
   "execution_count": 138,
   "id": "d21a9f9b-6979-4d2c-b7e9-ceae421237a5",
   "metadata": {},
   "outputs": [
    {
     "data": {
      "text/plain": [
       "\"master's\""
      ]
     },
     "execution_count": 138,
     "metadata": {},
     "output_type": "execute_result"
    }
   ],
   "source": [
    "w3"
   ]
  },
  {
   "cell_type": "code",
   "execution_count": 139,
   "id": "c38ad884-4149-46e3-8b62-327a963f747e",
   "metadata": {},
   "outputs": [],
   "source": [
    "w4 = 'skill\"s'"
   ]
  },
  {
   "cell_type": "code",
   "execution_count": 140,
   "id": "bbdc60d9-84fe-4df8-872d-84df1599e9d8",
   "metadata": {},
   "outputs": [
    {
     "data": {
      "text/plain": [
       "'skill\"s'"
      ]
     },
     "execution_count": 140,
     "metadata": {},
     "output_type": "execute_result"
    }
   ],
   "source": [
    "w4"
   ]
  },
  {
   "cell_type": "code",
   "execution_count": 141,
   "id": "49d8c90b-937e-4e15-a8dd-508d7a33167d",
   "metadata": {},
   "outputs": [
    {
     "data": {
      "text/plain": [
       "'Multi line\\ncomments'"
      ]
     },
     "execution_count": 141,
     "metadata": {},
     "output_type": "execute_result"
    }
   ],
   "source": [
    "# Single line Comments\n",
    "# Multi\n",
    "# line comments\n",
    "'''Multi line\n",
    "comments'''"
   ]
  },
  {
   "cell_type": "code",
   "execution_count": 142,
   "id": "fff05159-a4b5-4bc7-b0b5-ac2cf20c7ab5",
   "metadata": {},
   "outputs": [],
   "source": [
    "s1 = \"ram\"\n",
    "f = 0"
   ]
  },
  {
   "cell_type": "code",
   "execution_count": 143,
   "id": "750b4f99-5e50-48de-84c8-85feed8fb632",
   "metadata": {},
   "outputs": [],
   "source": [
    "# s1+f"
   ]
  },
  {
   "cell_type": "code",
   "execution_count": 144,
   "id": "42eefd02-6090-4c50-ad43-8a40387711a9",
   "metadata": {},
   "outputs": [
    {
     "data": {
      "text/plain": [
       "'ramkishor'"
      ]
     },
     "execution_count": 144,
     "metadata": {},
     "output_type": "execute_result"
    }
   ],
   "source": [
    "'ram' + 'kishor'"
   ]
  },
  {
   "cell_type": "code",
   "execution_count": 145,
   "id": "59b37e2c-2c59-4347-a7d8-6e0f19f4aaed",
   "metadata": {},
   "outputs": [],
   "source": [
    "# type casting\n",
    "d = 10\n",
    "mm = str(d)"
   ]
  },
  {
   "cell_type": "code",
   "execution_count": 146,
   "id": "61c84bc8-0b0f-4548-a001-78f2f15081ce",
   "metadata": {},
   "outputs": [
    {
     "data": {
      "text/plain": [
       "'10'"
      ]
     },
     "execution_count": 146,
     "metadata": {},
     "output_type": "execute_result"
    }
   ],
   "source": [
    "mm"
   ]
  },
  {
   "cell_type": "code",
   "execution_count": 147,
   "id": "e2244d94-0802-4f03-b04c-0ec98b86248c",
   "metadata": {},
   "outputs": [
    {
     "data": {
      "text/plain": [
       "'ram10'"
      ]
     },
     "execution_count": 147,
     "metadata": {},
     "output_type": "execute_result"
    }
   ],
   "source": [
    "s1 + str(mm)"
   ]
  },
  {
   "cell_type": "code",
   "execution_count": 148,
   "id": "30bb5d67-3d18-4552-911d-2101410cf435",
   "metadata": {},
   "outputs": [],
   "source": [
    "# int = 10 \n",
    "# Should not use int as varible assignment"
   ]
  },
  {
   "cell_type": "code",
   "execution_count": 1,
   "id": "45a28d2f-0798-421d-81fb-f0ab36d1d4f9",
   "metadata": {},
   "outputs": [
    {
     "data": {
      "text/plain": [
       "45"
      ]
     },
     "execution_count": 1,
     "metadata": {},
     "output_type": "execute_result"
    }
   ],
   "source": [
    "mmm = '45'\n",
    "# type(mmm)\n",
    "int(mmm)"
   ]
  },
  {
   "cell_type": "code",
   "execution_count": 94,
   "id": "2d7883e6-e20b-4d4a-96af-868fa976f52c",
   "metadata": {},
   "outputs": [],
   "source": [
    "a9 = 4567"
   ]
  },
  {
   "cell_type": "code",
   "execution_count": 2,
   "id": "680034a4-99fa-48e7-91c8-fb6613e288db",
   "metadata": {},
   "outputs": [
    {
     "name": "stdout",
     "output_type": "stream",
     "text": [
      " 99\n"
     ]
    }
   ],
   "source": [
    "# b7 = input() # by default it will take input string\n",
    "b6 = int(input())"
   ]
  },
  {
   "cell_type": "code",
   "execution_count": 3,
   "id": "0fcd393e-f8a9-487a-b669-f9354a0d5b08",
   "metadata": {},
   "outputs": [
    {
     "data": {
      "text/plain": [
       "99"
      ]
     },
     "execution_count": 3,
     "metadata": {},
     "output_type": "execute_result"
    }
   ],
   "source": [
    "b6"
   ]
  },
  {
   "cell_type": "code",
   "execution_count": 4,
   "id": "b22a8ef5-faca-4ac0-a3b9-726a7d7f0a92",
   "metadata": {},
   "outputs": [
    {
     "data": {
      "text/plain": [
       "int"
      ]
     },
     "execution_count": 4,
     "metadata": {},
     "output_type": "execute_result"
    }
   ],
   "source": [
    "type(b6)"
   ]
  },
  {
   "cell_type": "code",
   "execution_count": 8,
   "id": "e56acba5-4dba-4817-98e5-d47da0bf5424",
   "metadata": {},
   "outputs": [
    {
     "name": "stdout",
     "output_type": "stream",
     "text": [
      " fsfdfd\n"
     ]
    }
   ],
   "source": [
    "l = bool(input())"
   ]
  },
  {
   "cell_type": "code",
   "execution_count": 9,
   "id": "767c2eb6-af79-4701-9d4b-595020159b48",
   "metadata": {},
   "outputs": [
    {
     "data": {
      "text/plain": [
       "True"
      ]
     },
     "execution_count": 9,
     "metadata": {},
     "output_type": "execute_result"
    }
   ],
   "source": [
    "l"
   ]
  },
  {
   "cell_type": "code",
   "execution_count": 12,
   "id": "9700d53b-eefc-49af-ad79-1520d0a4d03e",
   "metadata": {},
   "outputs": [],
   "source": [
    "s1=\"ram\""
   ]
  },
  {
   "cell_type": "code",
   "execution_count": 13,
   "id": "f481c65a-0b04-48ef-8d40-ccfc439fd6b3",
   "metadata": {},
   "outputs": [
    {
     "data": {
      "text/plain": [
       "'a'"
      ]
     },
     "execution_count": 13,
     "metadata": {},
     "output_type": "execute_result"
    }
   ],
   "source": [
    "s1[1]"
   ]
  },
  {
   "cell_type": "code",
   "execution_count": 14,
   "id": "97165326-8b74-477f-9ea1-e1c33c97c53e",
   "metadata": {},
   "outputs": [
    {
     "ename": "IndexError",
     "evalue": "string index out of range",
     "output_type": "error",
     "traceback": [
      "\u001b[0;31m---------------------------------------------------------------------------\u001b[0m",
      "\u001b[0;31mIndexError\u001b[0m                                Traceback (most recent call last)",
      "Cell \u001b[0;32mIn[14], line 1\u001b[0m\n\u001b[0;32m----> 1\u001b[0m \u001b[43ms1\u001b[49m\u001b[43m[\u001b[49m\u001b[38;5;241;43m100\u001b[39;49m\u001b[43m]\u001b[49m\n",
      "\u001b[0;31mIndexError\u001b[0m: string index out of range"
     ]
    }
   ],
   "source": [
    "s1[100]"
   ]
  },
  {
   "cell_type": "code",
   "execution_count": 16,
   "id": "f4294a3f-e359-47fd-8a40-c2d9ab573943",
   "metadata": {},
   "outputs": [
    {
     "data": {
      "text/plain": [
       "'m'"
      ]
     },
     "execution_count": 16,
     "metadata": {},
     "output_type": "execute_result"
    }
   ],
   "source": [
    "s1[-1]"
   ]
  },
  {
   "cell_type": "code",
   "execution_count": 25,
   "id": "45ba3937-4ac9-413d-99b0-c6595c6e5325",
   "metadata": {},
   "outputs": [
    {
     "ename": "IndexError",
     "evalue": "string index out of range",
     "output_type": "error",
     "traceback": [
      "\u001b[0;31m---------------------------------------------------------------------------\u001b[0m",
      "\u001b[0;31mIndexError\u001b[0m                                Traceback (most recent call last)",
      "Cell \u001b[0;32mIn[25], line 1\u001b[0m\n\u001b[0;32m----> 1\u001b[0m \u001b[43ms1\u001b[49m\u001b[43m[\u001b[49m\u001b[38;5;241;43m-\u001b[39;49m\u001b[38;5;241;43m345\u001b[39;49m\u001b[43m]\u001b[49m \u001b[38;5;66;03m#indexing operation \u001b[39;00m\n\u001b[1;32m      2\u001b[0m \u001b[38;5;66;03m# does not work because it is looking for\u001b[39;00m\n\u001b[1;32m      3\u001b[0m \u001b[38;5;66;03m# SPECIFIC Index\u001b[39;00m\n",
      "\u001b[0;31mIndexError\u001b[0m: string index out of range"
     ]
    }
   ],
   "source": [
    "s1[-345] #indexing operation \n",
    "# does not work because it is looking for\n",
    "# SPECIFIC Index"
   ]
  },
  {
   "cell_type": "code",
   "execution_count": 2,
   "id": "522fe1ce-4675-4d25-a718-9ba430254245",
   "metadata": {},
   "outputs": [],
   "source": [
    "s1 = \"pwskills\""
   ]
  },
  {
   "cell_type": "code",
   "execution_count": 19,
   "id": "d2e11c35-cb25-40c9-93cf-14220eca3da6",
   "metadata": {},
   "outputs": [
    {
     "data": {
      "text/plain": [
       "'pw'"
      ]
     },
     "execution_count": 19,
     "metadata": {},
     "output_type": "execute_result"
    }
   ],
   "source": [
    "s1[0:2]"
   ]
  },
  {
   "cell_type": "code",
   "execution_count": 41,
   "id": "9451e9f0-40d7-4b39-9e18-9c9472e3b59d",
   "metadata": {},
   "outputs": [
    {
     "data": {
      "text/plain": [
       "'skill'"
      ]
     },
     "execution_count": 41,
     "metadata": {},
     "output_type": "execute_result"
    }
   ],
   "source": [
    "s1[2:7] # by default step size is 1"
   ]
  },
  {
   "cell_type": "code",
   "execution_count": 26,
   "id": "af5abef4-7f30-4d74-a216-4c8fbf391228",
   "metadata": {},
   "outputs": [
    {
     "data": {
      "text/plain": [
       "'skills'"
      ]
     },
     "execution_count": 26,
     "metadata": {},
     "output_type": "execute_result"
    }
   ],
   "source": [
    "s1[2:800] # In slice out of range, it works\n",
    "# because looks for range"
   ]
  },
  {
   "cell_type": "code",
   "execution_count": 28,
   "id": "f315a8b0-fdef-47db-872a-3552297a1260",
   "metadata": {},
   "outputs": [
    {
     "data": {
      "text/plain": [
       "'skills'"
      ]
     },
     "execution_count": 28,
     "metadata": {},
     "output_type": "execute_result"
    }
   ],
   "source": [
    "s1[2:]"
   ]
  },
  {
   "cell_type": "code",
   "execution_count": 32,
   "id": "8a121d3e-c767-404a-ae76-87e73b1b24d9",
   "metadata": {},
   "outputs": [
    {
     "data": {
      "text/plain": [
       "'psil'"
      ]
     },
     "execution_count": 32,
     "metadata": {},
     "output_type": "execute_result"
    }
   ],
   "source": [
    "s1[0:7:2] # start:end:step"
   ]
  },
  {
   "cell_type": "code",
   "execution_count": 33,
   "id": "59df2cef-1d77-47f5-b2cd-afc7245857bf",
   "metadata": {},
   "outputs": [
    {
     "data": {
      "text/plain": [
       "'pwskill'"
      ]
     },
     "execution_count": 33,
     "metadata": {},
     "output_type": "execute_result"
    }
   ],
   "source": [
    "s1[0:7:1]"
   ]
  },
  {
   "cell_type": "code",
   "execution_count": 5,
   "id": "fab2393b-4446-419b-a63a-18aac7f73140",
   "metadata": {},
   "outputs": [
    {
     "data": {
      "text/plain": [
       "''"
      ]
     },
     "execution_count": 5,
     "metadata": {},
     "output_type": "execute_result"
    }
   ],
   "source": [
    "\"\"\"\n",
    " 0  1  2  3  4  5  6  7\n",
    " p  w  s  k  i  l  l  s\n",
    "-8 -7 -6 -5 -4 -3 -2 -1\n",
    "\"\"\"\n",
    "s1[7:3] # problem: jump positive\n",
    "# due to...\n",
    "# data slicing is going in negative direction but\n",
    "# slice is jumping(step) [7:3:0] where 0 is in positive direction\n",
    "# there is a conflict but getting blank not \n",
    "# getting error"
   ]
  },
  {
   "cell_type": "code",
   "execution_count": 47,
   "id": "4e9f62cc-f6e8-47ca-ad8a-d134f5467081",
   "metadata": {},
   "outputs": [
    {
     "data": {
      "text/plain": [
       "'slli'"
      ]
     },
     "execution_count": 47,
     "metadata": {},
     "output_type": "execute_result"
    }
   ],
   "source": [
    "s1[7:3:-1]\n",
    "# here jumping and going in negative direction\n",
    "# so, there is no conflict"
   ]
  },
  {
   "cell_type": "code",
   "execution_count": 4,
   "id": "bd213826-a88e-45ec-8a75-325df3e5c355",
   "metadata": {},
   "outputs": [
    {
     "data": {
      "text/plain": [
       "''"
      ]
     },
     "execution_count": 4,
     "metadata": {},
     "output_type": "execute_result"
    }
   ],
   "source": [
    "s1[-1:-5]\n",
    "# jump positive problem occured\n",
    "# moving in a negative side with a jump(step) [-1:-5:1]\n",
    "# of positive by 1, which conflict occurs\n",
    "# shows as blank not an error"
   ]
  },
  {
   "cell_type": "code",
   "execution_count": 51,
   "id": "e6c50063-1990-4e94-9101-03674f3be416",
   "metadata": {},
   "outputs": [
    {
     "data": {
      "text/plain": [
       "'slli'"
      ]
     },
     "execution_count": 51,
     "metadata": {},
     "output_type": "execute_result"
    }
   ],
   "source": [
    "s1[-1:-5:-1]\n",
    "# here jumping and going in negative direction\n",
    "# so, there is no conflict"
   ]
  },
  {
   "cell_type": "code",
   "execution_count": 59,
   "id": "2da1f490-183d-44d2-ac88-2704aa1a5e9f",
   "metadata": {},
   "outputs": [
    {
     "data": {
      "text/plain": [
       "''"
      ]
     },
     "execution_count": 59,
     "metadata": {},
     "output_type": "execute_result"
    }
   ],
   "source": [
    "s1[7:9:-1]"
   ]
  },
  {
   "cell_type": "code",
   "execution_count": 61,
   "id": "6038933f-b0d6-4fff-beb0-62bbba34caf5",
   "metadata": {},
   "outputs": [
    {
     "data": {
      "text/plain": [
       "'sllikswp'"
      ]
     },
     "execution_count": 61,
     "metadata": {},
     "output_type": "execute_result"
    }
   ],
   "source": [
    "s1[7:-9:-1]"
   ]
  },
  {
   "cell_type": "code",
   "execution_count": 63,
   "id": "f49924a1-67e2-4110-82c3-aef56ccfa827",
   "metadata": {},
   "outputs": [
    {
     "data": {
      "text/plain": [
       "'sllikswp'"
      ]
     },
     "execution_count": 63,
     "metadata": {},
     "output_type": "execute_result"
    }
   ],
   "source": [
    "s1[7:-800:-1]"
   ]
  },
  {
   "cell_type": "code",
   "execution_count": 64,
   "id": "44546bc7-9e67-42eb-a873-4d3f8571bb3b",
   "metadata": {},
   "outputs": [
    {
     "data": {
      "text/plain": [
       "'sllikswp'"
      ]
     },
     "execution_count": 64,
     "metadata": {},
     "output_type": "execute_result"
    }
   ],
   "source": [
    "s1[7::-1]"
   ]
  },
  {
   "cell_type": "code",
   "execution_count": 55,
   "id": "0f983c13-3604-48cc-8f10-d0303973f7e2",
   "metadata": {},
   "outputs": [
    {
     "data": {
      "text/plain": [
       "'sllikswp'"
      ]
     },
     "execution_count": 55,
     "metadata": {},
     "output_type": "execute_result"
    }
   ],
   "source": [
    "s1[-1:-9:-1]"
   ]
  },
  {
   "cell_type": "code",
   "execution_count": 56,
   "id": "950b3e85-3a40-4703-9d67-46d95cbd5d3c",
   "metadata": {},
   "outputs": [
    {
     "data": {
      "text/plain": [
       "'sllikswp'"
      ]
     },
     "execution_count": 56,
     "metadata": {},
     "output_type": "execute_result"
    }
   ],
   "source": [
    "s1[::-1]"
   ]
  },
  {
   "cell_type": "code",
   "execution_count": 65,
   "id": "7221c215-ecd8-473a-b272-887612f7af42",
   "metadata": {},
   "outputs": [
    {
     "data": {
      "text/plain": [
       "'pwskills'"
      ]
     },
     "execution_count": 65,
     "metadata": {},
     "output_type": "execute_result"
    }
   ],
   "source": [
    "s1"
   ]
  },
  {
   "cell_type": "code",
   "execution_count": 67,
   "id": "6b9d9f6b-1498-4b68-9fc9-6fe827af91b4",
   "metadata": {},
   "outputs": [
    {
     "ename": "TypeError",
     "evalue": "'str' object does not support item assignment",
     "output_type": "error",
     "traceback": [
      "\u001b[0;31m---------------------------------------------------------------------------\u001b[0m",
      "\u001b[0;31mTypeError\u001b[0m                                 Traceback (most recent call last)",
      "Cell \u001b[0;32mIn[67], line 1\u001b[0m\n\u001b[0;32m----> 1\u001b[0m \u001b[43ms1\u001b[49m\u001b[43m[\u001b[49m\u001b[38;5;241;43m0\u001b[39;49m\u001b[43m]\u001b[49m\u001b[38;5;241m=\u001b[39m\u001b[38;5;124m'\u001b[39m\u001b[38;5;124mw\u001b[39m\u001b[38;5;124m'\u001b[39m\n\u001b[1;32m      2\u001b[0m \u001b[38;5;66;03m# error occurs because, String is IMMUTABLE\u001b[39;00m\n",
      "\u001b[0;31mTypeError\u001b[0m: 'str' object does not support item assignment"
     ]
    }
   ],
   "source": [
    "s1[0]='w'\n",
    "# error occurs because, String is IMMUTABLE"
   ]
  },
  {
   "cell_type": "code",
   "execution_count": null,
   "id": "e9ce8770-5eca-4490-ae9f-f212a4715907",
   "metadata": {},
   "outputs": [],
   "source": []
  }
 ],
 "metadata": {
  "kernelspec": {
   "display_name": "Python 3 (ipykernel)",
   "language": "python",
   "name": "python3"
  },
  "language_info": {
   "codemirror_mode": {
    "name": "ipython",
    "version": 3
   },
   "file_extension": ".py",
   "mimetype": "text/x-python",
   "name": "python",
   "nbconvert_exporter": "python",
   "pygments_lexer": "ipython3",
   "version": "3.11.2"
  }
 },
 "nbformat": 4,
 "nbformat_minor": 5
}
