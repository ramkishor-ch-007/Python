{
 "cells": [
  {
   "cell_type": "code",
   "execution_count": 5,
   "id": "63a4deed-036b-46f6-a06c-722483459ad3",
   "metadata": {},
   "outputs": [],
   "source": [
    "# 30 Sep\n",
    "\n",
    "# Exception Handling :\n",
    "# Handle run time errors\n",
    "# When piece of code produce an error in future, will handle that exception"
   ]
  },
  {
   "cell_type": "code",
   "execution_count": 6,
   "id": "80dbe5c6-dced-4fa5-9259-eb3bb3fb7b82",
   "metadata": {},
   "outputs": [
    {
     "ename": "ZeroDivisionError",
     "evalue": "division by zero",
     "output_type": "error",
     "traceback": [
      "\u001b[0;31m---------------------------------------------------------------------------\u001b[0m",
      "\u001b[0;31mZeroDivisionError\u001b[0m                         Traceback (most recent call last)",
      "Cell \u001b[0;32mIn[6], line 3\u001b[0m\n\u001b[1;32m      1\u001b[0m a\u001b[38;5;241m=\u001b[39m\u001b[38;5;241m1\u001b[39m\n\u001b[1;32m      2\u001b[0m b\u001b[38;5;241m=\u001b[39m\u001b[38;5;241m0\u001b[39m\n\u001b[0;32m----> 3\u001b[0m \u001b[43ma\u001b[49m\u001b[38;5;241;43m/\u001b[39;49m\u001b[43mb\u001b[49m\n",
      "\u001b[0;31mZeroDivisionError\u001b[0m: division by zero"
     ]
    }
   ],
   "source": [
    "a=1\n",
    "b=0\n",
    "a/b"
   ]
  },
  {
   "cell_type": "code",
   "execution_count": 21,
   "id": "88823586-da3b-4e54-9815-2e403e1b6135",
   "metadata": {},
   "outputs": [
    {
     "name": "stdout",
     "output_type": "stream",
     "text": [
      " sd\n"
     ]
    },
    {
     "name": "stdout",
     "output_type": "stream",
     "text": [
      "some thing\n"
     ]
    }
   ],
   "source": [
    "# Handle all suspicious block of code in try block\n",
    "try:\n",
    "    a=int(input())\n",
    "    b=int(input())\n",
    "    c=a/b # error occurs and error throwed to except block\n",
    "    print(c)\n",
    "\n",
    "# except block will handle/catch the runtime error and pass proper message\n",
    "# allow next line of code to be executed after except block.\n",
    "except:\n",
    "    pass # do nothing\n",
    "print(\"some thing\")"
   ]
  },
  {
   "cell_type": "code",
   "execution_count": 8,
   "id": "a70ea43b-7ce0-46f1-b8eb-1d5ae7258792",
   "metadata": {},
   "outputs": [],
   "source": [
    "l=[1,2,3,4]\n",
    "rr=[]\n",
    "def even_parser1(l):\n",
    "    # try:\n",
    "        for i in l:\n",
    "            if i%2==0:\n",
    "                rr.append(i)\n",
    "    # except:\n",
    "    #     pass\n",
    "        return rr"
   ]
  },
  {
   "cell_type": "code",
   "execution_count": 9,
   "id": "4fb590ca-2ec9-4570-9461-4e7a28835087",
   "metadata": {},
   "outputs": [
    {
     "name": "stdout",
     "output_type": "stream",
     "text": [
      "filtered even numbers [2, 4]\n"
     ]
    }
   ],
   "source": [
    "a = even_parser1(l)\n",
    "print(\"filtered even numbers\", a)"
   ]
  },
  {
   "cell_type": "code",
   "execution_count": 35,
   "id": "1562f4d5-20a3-4127-921e-8cb7746665cd",
   "metadata": {},
   "outputs": [
    {
     "name": "stdout",
     "output_type": "stream",
     "text": [
      " 1\n",
      " 0\n"
     ]
    },
    {
     "name": "stdout",
     "output_type": "stream",
     "text": [
      "division by zero\n"
     ]
    }
   ],
   "source": [
    "# Exception is library or package or super class\n",
    "# contains all exceptions and multiple sub classes\n",
    "try:\n",
    "    a=int(input())\n",
    "    b=int(input())\n",
    "    c=a/b\n",
    "except Exception as e: # generic or super class\n",
    "    print(e)"
   ]
  },
  {
   "cell_type": "code",
   "execution_count": 37,
   "id": "40112235-f871-4bcd-953c-e84449b710c2",
   "metadata": {},
   "outputs": [
    {
     "name": "stdout",
     "output_type": "stream",
     "text": [
      " int\n"
     ]
    },
    {
     "name": "stdout",
     "output_type": "stream",
     "text": [
      "invalid literal for int() with base 10: 'int'\n"
     ]
    }
   ],
   "source": [
    "try:\n",
    "    a=int(input())\n",
    "    b=int(input())\n",
    "    c=a/b\n",
    "except TypeError as t:\n",
    "    print(t)\n",
    "except ValueError as v:\n",
    "    print(v)\n",
    "except ZeroDivisionError as z:\n",
    "    print(z)"
   ]
  },
  {
   "cell_type": "code",
   "execution_count": 40,
   "id": "c4f63821-b7f6-4d70-aeac-d4d06ffda649",
   "metadata": {},
   "outputs": [
    {
     "name": "stdout",
     "output_type": "stream",
     "text": [
      "division by zero\n",
      "invalid literal for int() with base 10: 'sdkfmk'\n"
     ]
    }
   ],
   "source": [
    "try:\n",
    "    1/0\n",
    "except Exception as e:\n",
    "    print(e)\n",
    "    try:\n",
    "        a=int(\"sdkfmk\")\n",
    "    except ValueError as v:\n",
    "        print(v)"
   ]
  },
  {
   "cell_type": "code",
   "execution_count": 45,
   "id": "436887e8-dcdd-4a34-ac27-244e2d5b95eb",
   "metadata": {},
   "outputs": [
    {
     "name": "stdout",
     "output_type": "stream",
     "text": [
      "after except block\n",
      "after else block\n"
     ]
    }
   ],
   "source": [
    "try:\n",
    "    1/1\n",
    "except Exception as e:\n",
    "    print(e)\n",
    "# else block executed when try block don't have any error\n",
    "else:\n",
    "    print(\"after except block\")\n",
    "# finally block executed always whther try block is failed or success\n",
    "finally:\n",
    "    print(\"after else block\")"
   ]
  },
  {
   "cell_type": "code",
   "execution_count": 46,
   "id": "c22c7957-2f76-4123-88d1-982778587a09",
   "metadata": {},
   "outputs": [
    {
     "ename": "KeyError",
     "evalue": "'course'",
     "output_type": "error",
     "traceback": [
      "\u001b[0;31m---------------------------------------------------------------------------\u001b[0m",
      "\u001b[0;31mKeyError\u001b[0m                                  Traceback (most recent call last)",
      "Cell \u001b[0;32mIn[46], line 2\u001b[0m\n\u001b[1;32m      1\u001b[0m d \u001b[38;5;241m=\u001b[39m {\u001b[38;5;124m\"\u001b[39m\u001b[38;5;124mname\u001b[39m\u001b[38;5;124m\"\u001b[39m:\u001b[38;5;124m\"\u001b[39m\u001b[38;5;124mram\u001b[39m\u001b[38;5;124m\"\u001b[39m, \u001b[38;5;124m\"\u001b[39m\u001b[38;5;124mmob\u001b[39m\u001b[38;5;124m\"\u001b[39m:\u001b[38;5;241m1234\u001b[39m}\n\u001b[0;32m----> 2\u001b[0m \u001b[43md\u001b[49m\u001b[43m[\u001b[49m\u001b[38;5;124;43m'\u001b[39;49m\u001b[38;5;124;43mcourse\u001b[39;49m\u001b[38;5;124;43m'\u001b[39;49m\u001b[43m]\u001b[49m\n",
      "\u001b[0;31mKeyError\u001b[0m: 'course'"
     ]
    }
   ],
   "source": [
    "d = {\"name\":\"ram\", \"mob\":1234}\n",
    "d['course']"
   ]
  },
  {
   "cell_type": "code",
   "execution_count": 47,
   "id": "a89fce27-91fe-479d-a14a-07285e5648a4",
   "metadata": {},
   "outputs": [
    {
     "name": "stdout",
     "output_type": "stream",
     "text": [
      "key not found\n"
     ]
    }
   ],
   "source": [
    "try:\n",
    "    d = {\"name\":\"ram\", \"mob\":1234}\n",
    "    d['course']\n",
    "except Exception:\n",
    "    print(\"key not found\")"
   ]
  },
  {
   "cell_type": "code",
   "execution_count": 48,
   "id": "b5ec94be-8f75-4e73-a44e-ad8bc93e390c",
   "metadata": {},
   "outputs": [
    {
     "ename": "IndexError",
     "evalue": "list index out of range",
     "output_type": "error",
     "traceback": [
      "\u001b[0;31m---------------------------------------------------------------------------\u001b[0m",
      "\u001b[0;31mIndexError\u001b[0m                                Traceback (most recent call last)",
      "Cell \u001b[0;32mIn[48], line 2\u001b[0m\n\u001b[1;32m      1\u001b[0m l\u001b[38;5;241m=\u001b[39m[\u001b[38;5;241m1\u001b[39m,\u001b[38;5;241m2\u001b[39m,\u001b[38;5;241m3\u001b[39m,\u001b[38;5;241m4\u001b[39m]\n\u001b[0;32m----> 2\u001b[0m \u001b[43ml\u001b[49m\u001b[43m[\u001b[49m\u001b[38;5;241;43m10\u001b[39;49m\u001b[43m]\u001b[49m\n",
      "\u001b[0;31mIndexError\u001b[0m: list index out of range"
     ]
    }
   ],
   "source": [
    "l=[1,2,3,4]\n",
    "l[10]"
   ]
  },
  {
   "cell_type": "code",
   "execution_count": 49,
   "id": "15db3bca-c736-4ac3-bc28-ad8447a05119",
   "metadata": {},
   "outputs": [
    {
     "name": "stdout",
     "output_type": "stream",
     "text": [
      "list index out of range\n"
     ]
    }
   ],
   "source": [
    "try:\n",
    "    l=[1,2,3,4]\n",
    "    l[10]\n",
    "except Exception as e:\n",
    "    print(e)"
   ]
  },
  {
   "cell_type": "code",
   "execution_count": 50,
   "id": "de2a863d-244b-41b7-a64c-75005df6ab89",
   "metadata": {},
   "outputs": [
    {
     "name": "stdout",
     "output_type": "stream",
     "text": [
      "invalid literal for int() with base 10: 'asd'\n"
     ]
    }
   ],
   "source": [
    "try:\n",
    "    a=\"asd\"\n",
    "    int(a)\n",
    "except Exception as e:\n",
    "    print(e)"
   ]
  },
  {
   "cell_type": "code",
   "execution_count": 52,
   "id": "8b4484c0-da17-4c3e-855b-f2bf958a5b78",
   "metadata": {},
   "outputs": [
    {
     "ename": "FileNotFoundError",
     "evalue": "[Errno 2] No such file or directory: 'testt.txt'",
     "output_type": "error",
     "traceback": [
      "\u001b[0;31m---------------------------------------------------------------------------\u001b[0m",
      "\u001b[0;31mFileNotFoundError\u001b[0m                         Traceback (most recent call last)",
      "Cell \u001b[0;32mIn[52], line 2\u001b[0m\n\u001b[1;32m      1\u001b[0m filename \u001b[38;5;241m=\u001b[39m \u001b[38;5;124m\"\u001b[39m\u001b[38;5;124mtestt.txt\u001b[39m\u001b[38;5;124m\"\u001b[39m\n\u001b[0;32m----> 2\u001b[0m f\u001b[38;5;241m=\u001b[39m\u001b[38;5;28;43mopen\u001b[39;49m\u001b[43m(\u001b[49m\u001b[43mfilename\u001b[49m\u001b[43m)\u001b[49m\n\u001b[1;32m      3\u001b[0m f\u001b[38;5;241m.\u001b[39mread()\n",
      "File \u001b[0;32m/opt/conda/lib/python3.10/site-packages/IPython/core/interactiveshell.py:282\u001b[0m, in \u001b[0;36m_modified_open\u001b[0;34m(file, *args, **kwargs)\u001b[0m\n\u001b[1;32m    275\u001b[0m \u001b[38;5;28;01mif\u001b[39;00m file \u001b[38;5;129;01min\u001b[39;00m {\u001b[38;5;241m0\u001b[39m, \u001b[38;5;241m1\u001b[39m, \u001b[38;5;241m2\u001b[39m}:\n\u001b[1;32m    276\u001b[0m     \u001b[38;5;28;01mraise\u001b[39;00m \u001b[38;5;167;01mValueError\u001b[39;00m(\n\u001b[1;32m    277\u001b[0m         \u001b[38;5;124mf\u001b[39m\u001b[38;5;124m\"\u001b[39m\u001b[38;5;124mIPython won\u001b[39m\u001b[38;5;124m'\u001b[39m\u001b[38;5;124mt let you open fd=\u001b[39m\u001b[38;5;132;01m{\u001b[39;00mfile\u001b[38;5;132;01m}\u001b[39;00m\u001b[38;5;124m by default \u001b[39m\u001b[38;5;124m\"\u001b[39m\n\u001b[1;32m    278\u001b[0m         \u001b[38;5;124m\"\u001b[39m\u001b[38;5;124mas it is likely to crash IPython. If you know what you are doing, \u001b[39m\u001b[38;5;124m\"\u001b[39m\n\u001b[1;32m    279\u001b[0m         \u001b[38;5;124m\"\u001b[39m\u001b[38;5;124myou can use builtins\u001b[39m\u001b[38;5;124m'\u001b[39m\u001b[38;5;124m open.\u001b[39m\u001b[38;5;124m\"\u001b[39m\n\u001b[1;32m    280\u001b[0m     )\n\u001b[0;32m--> 282\u001b[0m \u001b[38;5;28;01mreturn\u001b[39;00m \u001b[43mio_open\u001b[49m\u001b[43m(\u001b[49m\u001b[43mfile\u001b[49m\u001b[43m,\u001b[49m\u001b[43m \u001b[49m\u001b[38;5;241;43m*\u001b[39;49m\u001b[43margs\u001b[49m\u001b[43m,\u001b[49m\u001b[43m \u001b[49m\u001b[38;5;241;43m*\u001b[39;49m\u001b[38;5;241;43m*\u001b[39;49m\u001b[43mkwargs\u001b[49m\u001b[43m)\u001b[49m\n",
      "\u001b[0;31mFileNotFoundError\u001b[0m: [Errno 2] No such file or directory: 'testt.txt'"
     ]
    }
   ],
   "source": [
    "filename = \"testt.txt\"\n",
    "f=open(filename)\n",
    "f.read()"
   ]
  },
  {
   "cell_type": "code",
   "execution_count": 53,
   "id": "9b340e1a-3324-4228-bcd2-f21f39592508",
   "metadata": {},
   "outputs": [
    {
     "name": "stdout",
     "output_type": "stream",
     "text": [
      "[Errno 2] No such file or directory: 'testt.txt'\n"
     ]
    }
   ],
   "source": [
    "try:\n",
    "    filename = \"testt.txt\"\n",
    "    f=open(filename)\n",
    "    f.read()\n",
    "except Exception as e:\n",
    "    print(e)"
   ]
  },
  {
   "cell_type": "code",
   "execution_count": 55,
   "id": "b41009ae-f9a9-46e9-8bbc-0319dd0d46ec",
   "metadata": {},
   "outputs": [
    {
     "name": "stdout",
     "output_type": "stream",
     "text": [
      "Invalid\n"
     ]
    }
   ],
   "source": [
    "try:\n",
    "    a=\"asd\"\n",
    "    int(a)\n",
    "    1/0\n",
    "except(ValueError, ZeroDivisionError):\n",
    "    print(\"Invalid\")"
   ]
  },
  {
   "cell_type": "code",
   "execution_count": 56,
   "id": "12bd808b-3968-4678-95c0-646602606348",
   "metadata": {},
   "outputs": [
    {
     "name": "stdout",
     "output_type": "stream",
     "text": [
      "Invalid Input\n"
     ]
    }
   ],
   "source": [
    "try:\n",
    "    try:\n",
    "        int(\"ssf\")\n",
    "        1/0\n",
    "    except ZeroDivisionError:\n",
    "        print(\"invalid\")\n",
    "except ValueError:\n",
    "    print(\"Invalid Input\")"
   ]
  },
  {
   "cell_type": "code",
   "execution_count": 57,
   "id": "b581760c-396a-4b34-9898-dca5d624e5ec",
   "metadata": {},
   "outputs": [
    {
     "name": "stdout",
     "output_type": "stream",
     "text": [
      "not writable\n"
     ]
    }
   ],
   "source": [
    "try:\n",
    "    f = open(\"test.txt\")\n",
    "    f.write(\"1111111111111111111\")\n",
    "except Exception as e:\n",
    "    print(e)\n",
    "finally:\n",
    "    f.close()"
   ]
  },
  {
   "cell_type": "code",
   "execution_count": 58,
   "id": "beaeac88-2e2d-4de3-ab6e-afb112fa823f",
   "metadata": {},
   "outputs": [
    {
     "data": {
      "text/plain": [
       "<_io.TextIOWrapper name='test.txt' mode='r' encoding='UTF-8'>"
      ]
     },
     "execution_count": 58,
     "metadata": {},
     "output_type": "execute_result"
    }
   ],
   "source": [
    "f"
   ]
  },
  {
   "cell_type": "code",
   "execution_count": 62,
   "id": "b334e7c9-1426-4766-ad68-e3a89b2abd62",
   "metadata": {},
   "outputs": [
    {
     "name": "stdout",
     "output_type": "stream",
     "text": [
      "Else: \n",
      " In publishing and graphic design, Lorem ipsum (/ˌlɔː.rəm ˈɪp.səm/) is a placeholder text commonly used to demonstrate the visual form of a document or a typeface without relying on meaningful content. Lorem ipsum may be used as a placeholder before final copy is available. It is also used to temporarily replace text in a process called greeking, which allows designers to consider the form of a webpage or publication, without the meaning of the text influencing the design.\n",
      "\n",
      "Lorem ipsum is typically a corrupted version of De finibus bonorum et malorum, a 1st-century BC text by the Roman statesman and philosopher Cicero, with words altered, added, and removed to make it nonsensical and improper Latin. The first two words themselves are a truncation of 'dolorem ipsum' ('pain itself').\n",
      "\n",
      "Versions of the Lorem ipsum text have been used in typesetting at least since the 1960s, when it was popularized by advertisements for Letraset transfer sheets.[1] Lorem ipsum was introduced to the digital world in the mid-1980s, when Aldus employed it in graphic and word-processing templates for its desktop publishing program PageMaker. Other popular word processors, including Pages and Microsoft Word, have since adopted Lorem ipsum,[2] as have many LaTeX packages,[3][4][5] web content managers such as Joomla! and WordPress, and CSS libraries such as Semantic UI.[6]\n",
      "file closed\n"
     ]
    }
   ],
   "source": [
    "try:\n",
    "    f = open(\"test.txt\")\n",
    "    data = f.read()\n",
    "except Exception as e:\n",
    "    print(e)\n",
    "else:\n",
    "    print(\"Else: \\n\",data)\n",
    "finally:\n",
    "    f.close()\n",
    "    print(\"file closed\")"
   ]
  },
  {
   "cell_type": "code",
   "execution_count": 1,
   "id": "a52f1edd-b121-4eed-a8d9-318393854d17",
   "metadata": {},
   "outputs": [
    {
     "name": "stdout",
     "output_type": "stream",
     "text": [
      "TextIOWrapper.write() takes exactly one argument (0 given)\n"
     ]
    },
    {
     "ename": "NameError",
     "evalue": "name 'data' is not defined",
     "output_type": "error",
     "traceback": [
      "\u001b[0;31m---------------------------------------------------------------------------\u001b[0m",
      "\u001b[0;31mNameError\u001b[0m                                 Traceback (most recent call last)",
      "Cell \u001b[0;32mIn[1], line 9\u001b[0m\n\u001b[1;32m      7\u001b[0m     \u001b[38;5;28mprint\u001b[39m(\u001b[38;5;124m\"\u001b[39m\u001b[38;5;124mElse: \u001b[39m\u001b[38;5;130;01m\\n\u001b[39;00m\u001b[38;5;124m\"\u001b[39m,data)\n\u001b[1;32m      8\u001b[0m \u001b[38;5;28;01mfinally\u001b[39;00m:\n\u001b[0;32m----> 9\u001b[0m     \u001b[38;5;28mprint\u001b[39m(\u001b[38;5;124m\"\u001b[39m\u001b[38;5;124mFinally: \u001b[39m\u001b[38;5;130;01m\\n\u001b[39;00m\u001b[38;5;124m\"\u001b[39m,\u001b[43mdata\u001b[49m)\n\u001b[1;32m     10\u001b[0m     f\u001b[38;5;241m.\u001b[39mclose()\n\u001b[1;32m     11\u001b[0m     \u001b[38;5;28mprint\u001b[39m(\u001b[38;5;124m\"\u001b[39m\u001b[38;5;124mfile closed\u001b[39m\u001b[38;5;124m\"\u001b[39m)\n",
      "\u001b[0;31mNameError\u001b[0m: name 'data' is not defined"
     ]
    }
   ],
   "source": [
    "try:\n",
    "    f = open(\"test.txt\")\n",
    "    data = f.write()\n",
    "except Exception as e:\n",
    "    print(e)\n",
    "else:\n",
    "    print(\"Else: \\n\",data)\n",
    "finally:\n",
    "    print(\"Finally: \\n\",data)\n",
    "    f.close()\n",
    "    print(\"file closed\")"
   ]
  },
  {
   "cell_type": "code",
   "execution_count": 3,
   "id": "069e2afa-295c-45f7-882f-0839fead3e9f",
   "metadata": {},
   "outputs": [
    {
     "name": "stdout",
     "output_type": "stream",
     "text": [
      "TextIOWrapper.write() takes exactly one argument (0 given)\n",
      "file closed\n"
     ]
    }
   ],
   "source": [
    "try:\n",
    "    # clear the buffer because f object can fetch data\n",
    "    # from buffer.\n",
    "    f = open(\"test.txt\")\n",
    "    data = f.write()\n",
    "except Exception as e:\n",
    "    print(e)\n",
    "else:\n",
    "    print(\"Else: \\n\",data)\n",
    "finally:\n",
    "    try:\n",
    "        print(\"Finally: \\n\",data)\n",
    "    except:\n",
    "        pass\n",
    "    f.close()\n",
    "    print(\"file closed\")"
   ]
  },
  {
   "cell_type": "code",
   "execution_count": 4,
   "id": "f71833da-f294-45d2-9939-93bac599ecd7",
   "metadata": {},
   "outputs": [],
   "source": [
    "# Custom Exceptions"
   ]
  },
  {
   "cell_type": "code",
   "execution_count": 7,
   "id": "649d6b60-e146-4b8f-b234-4234df930190",
   "metadata": {},
   "outputs": [
    {
     "name": "stdout",
     "output_type": "stream",
     "text": [
      "enter height -234\n"
     ]
    },
    {
     "name": "stdout",
     "output_type": "stream",
     "text": [
      "entered negative is height\n"
     ]
    }
   ],
   "source": [
    "try:\n",
    "    a = int(input(\"enter height\"))\n",
    "    if a < 0:\n",
    "        raise ValueError(\"entered negative is height\")\n",
    "except ValueError as V:\n",
    "    print(V)"
   ]
  },
  {
   "cell_type": "code",
   "execution_count": 11,
   "id": "40701355-f9e0-4a9c-a257-370e272e14c2",
   "metadata": {},
   "outputs": [
    {
     "name": "stdout",
     "output_type": "stream",
     "text": [
      "negative not valid\n"
     ]
    }
   ],
   "source": [
    "try:\n",
    "    age=int(input(\"enter age\"))\n",
    "    if age<0:\n",
    "        raise ValueError(\"negative not valid\")\n",
    "    elif age<18:\n",
    "        raise Exception(\"user  is underage\")\n",
    "    else:\n",
    "        print(\"valid user\")\n",
    "except Exception as e:\n",
    "    print(e)"
   ]
  },
  {
   "cell_type": "code",
   "execution_count": 9,
   "id": "b852c284-2c3b-4c22-9ea4-445c4e048eff",
   "metadata": {},
   "outputs": [],
   "source": [
    "# Logging"
   ]
  },
  {
   "cell_type": "code",
   "execution_count": 2,
   "id": "d360f2ce-2e3f-4256-a13d-3dd4613aa3da",
   "metadata": {},
   "outputs": [],
   "source": [
    "# 5 labels in logging\n",
    "# 1. DEBUG : 10\n",
    "# 2. INFO : 20\n",
    "# 3. Warning : 30\n",
    "# 4. ERROR : 40\n",
    "# 5. CRITICAL : 50"
   ]
  },
  {
   "cell_type": "code",
   "execution_count": 12,
   "id": "c52212e0-e544-4c41-bedd-0a3b038b50a1",
   "metadata": {},
   "outputs": [],
   "source": [
    "import logging as log\n",
    "\n",
    "log.basicConfig(filename = 'tes.log', level=log.INFO) # create a file\n",
    "\n",
    "log.debug(\"debug\")\n",
    "log.info(\"store a message\")\n",
    "log.warning(\"warning\")\n",
    "log.error(\"error\")\n",
    "log.critical(\"critical\")"
   ]
  },
  {
   "cell_type": "code",
   "execution_count": 13,
   "id": "e16875c6-f51f-41b6-8ef9-f332651823ab",
   "metadata": {},
   "outputs": [],
   "source": [
    "import logging as log\n",
    "\n",
    "log.basicConfig(filename = 'tesr.log', level=log.DEBUG)\n",
    "log.debug(\"debug\")"
   ]
  },
  {
   "cell_type": "code",
   "execution_count": 16,
   "id": "c15f6600",
   "metadata": {},
   "outputs": [
    {
     "name": "stdout",
     "output_type": "stream",
     "text": [
      "valid user\n"
     ]
    }
   ],
   "source": [
    "import logging as log\n",
    "log.basicConfig(filename = 'te.log', level=log.DEBUG, format='%(asctime)s message - %(levelname)s') \n",
    "try:\n",
    "    log.info(\"this is a start of prog\")\n",
    "    log.info(\"asking to enter age\")\n",
    "    age=int(input(\"enter age\"))\n",
    "    log.info(\"asking to enter age=%d\", age)\n",
    "    if age<0:\n",
    "        raise ValueError(\"negative not valid\")\n",
    "    elif age<18:\n",
    "        raise Exception(\"user  is underage\")\n",
    "    else:\n",
    "        print(\"valid user\")\n",
    "except Exception as e:\n",
    "    print(e)\n",
    "    log.error(e)"
   ]
  },
  {
   "cell_type": "code",
   "execution_count": 2,
   "id": "b401f533-66cb-4beb-a6fc-d87b829cfa42",
   "metadata": {},
   "outputs": [],
   "source": [
    "# 1 Oct\n",
    "\n",
    "# OOPS"
   ]
  },
  {
   "cell_type": "code",
   "execution_count": 2,
   "id": "0a80ae98-6991-40f8-a0ca-a2de76076404",
   "metadata": {},
   "outputs": [],
   "source": [
    "# Scripting:\n",
    "# without creating a module or without structure or without class and object.\n",
    "\n",
    "# Java and Scala is not scripting because cannot write code without class."
   ]
  },
  {
   "cell_type": "code",
   "execution_count": 4,
   "id": "dfcf5fd9-981c-46b5-afc8-7cb7e62e254a",
   "metadata": {},
   "outputs": [],
   "source": [
    "# OOPS : code pattern \n",
    "# provide proper structure of the code\n",
    "# create modules and packages.\n",
    "# maintaining of code, adoption of the code, enhancement of new feature\n",
    "# every piece of code is treated as classes and objects."
   ]
  },
  {
   "cell_type": "code",
   "execution_count": 5,
   "id": "60d2d132-a9dc-4237-a7fe-40e6180f965d",
   "metadata": {},
   "outputs": [],
   "source": [
    "# Class and Object"
   ]
  },
  {
   "cell_type": "code",
   "execution_count": 6,
   "id": "3acf44fc-b3cd-44a3-b48c-b79ff73f34ea",
   "metadata": {},
   "outputs": [],
   "source": [
    "# Class :\n",
    "# Classification of real world entity\n",
    "# Classify based on the property.\n",
    "\n",
    "# Classification of data\n",
    "# Examples:\n",
    "# int, float, list, tuple etc."
   ]
  },
  {
   "cell_type": "code",
   "execution_count": 10,
   "id": "83d8711a-6b31-4777-a903-de23378924f7",
   "metadata": {},
   "outputs": [],
   "source": [
    "# Object :\n",
    "# Variable of the class or Instance of the Integer class\n",
    "# Object is a specific\n",
    "\n",
    "# Example:\n",
    "# a = 20\n",
    "# b = 30\n",
    "\n",
    "# Car is a class, object is a maruthi suzuki "
   ]
  },
  {
   "cell_type": "code",
   "execution_count": 11,
   "id": "4a66a232-6e57-44e4-98a1-512c14abbf5e",
   "metadata": {},
   "outputs": [],
   "source": [
    "# Why using class and object...?\n",
    "# A: structure the code at one place.\n",
    "# seggeration of code\n",
    "\n",
    "# Example:\n",
    "# all apples are seperared in one basket based on similar properties\n",
    "# all oranges are seperated in one basket based on similar properties"
   ]
  },
  {
   "cell_type": "code",
   "execution_count": 19,
   "id": "7629e937-9674-4bbb-b7ab-febac5fcd3fc",
   "metadata": {},
   "outputs": [],
   "source": [
    "# all functions belongs to similar problem statement called bank_account\n",
    "# easy to search the class\n",
    "# structure the code\n",
    "# creating blueprint of the class\n",
    "class bank_account:\n",
    "    def open_account(self, name, email_id):\n",
    "        # self is not a keyword\n",
    "        # self is similar to this in other languages\n",
    "        # In place of self can use any name\n",
    "        # self is a pointer or reference to a class\n",
    "        # self in every function is binded towards bank_account class\n",
    "\n",
    "        # when self keyword mentioned in the class, that tells that\n",
    "        # any method inside class is not isolated\n",
    "        # any method inside class is binded to that class\n",
    "        return name + \" \" + email_id\n",
    "    \n",
    "    def deposite(self,amount):\n",
    "        return int(amount)\n",
    "    \n",
    "    def withdraw(self, amount):\n",
    "        return amount\n",
    "    \n",
    "    def update_details(self, name_update, email_update):\n",
    "        return name_update + email_update"
   ]
  },
  {
   "cell_type": "code",
   "execution_count": 25,
   "id": "53d61c98-1467-4b1e-9954-e058d204cb98",
   "metadata": {},
   "outputs": [],
   "source": [
    "try:\n",
    "    obj = bank_account() # call the class\n",
    "    obj.open_account(\"ra\",\"ra@ra.com\")\n",
    "    obj.deposite(\"100\")\n",
    "    obj.withdraw(10)\n",
    "except Exception as e:\n",
    "    print(e)"
   ]
  },
  {
   "cell_type": "code",
   "execution_count": 14,
   "id": "8bb6c440-d293-4d71-a9a3-b6578d5e63a4",
   "metadata": {},
   "outputs": [],
   "source": [
    "class list_ops:\n",
    "    # a=10\n",
    "    # l=[2,3,4,5,6,7]\n",
    "    \n",
    "    # init class variable with some data\n",
    "    # inbuilt function to provide data for any object.\n",
    "    # automatically executing the __init__()\n",
    "    # self.l is class variable is left side of l is different\n",
    "    # right side of l i different\n",
    "    # constructor\n",
    "    def __init__(self,l):\n",
    "        self.l2=l\n",
    "        self.l3=40\n",
    "        self.l4=\"sudh\"\n",
    "        self.l5=(4,5,6,7)\n",
    "        self.l6=[1,2,3,4]\n",
    "        self.l7={\"key\":1}\n",
    "        \n",
    "    def exfrin(self,l,index):\n",
    "        return l[index]\n",
    "    \n",
    "    def exrada(self,l,start,end):\n",
    "        return l[start:end+1]\n",
    "    \n",
    "    def exev(self,l):\n",
    "        l1=[]\n",
    "        for i in l:\n",
    "            if i%2 == 0:\n",
    "                l1.append(i)\n",
    "        return l1"
   ]
  },
  {
   "cell_type": "code",
   "execution_count": 1,
   "id": "dd32ab5f-f5e6-4c68-8976-54d217165aba",
   "metadata": {},
   "outputs": [],
   "source": [
    "# f_obj = list_ops()\n",
    "# # f_obj.exfrin(f_obj.l,4)"
   ]
  },
  {
   "cell_type": "code",
   "execution_count": 2,
   "id": "4389c824-5c1a-4022-982c-b642542363fb",
   "metadata": {},
   "outputs": [],
   "source": [
    "# f_obj.exrada([2,3,4,5,6,7],0,6)"
   ]
  },
  {
   "cell_type": "code",
   "execution_count": 3,
   "id": "2018177b-a724-4dc8-8291-3dcda7a27b6d",
   "metadata": {},
   "outputs": [],
   "source": [
    "# f_obj.exev([2,3,4,5])"
   ]
  },
  {
   "cell_type": "code",
   "execution_count": 4,
   "id": "6f6d798c-29be-40ba-ae53-ef137d09fa85",
   "metadata": {},
   "outputs": [],
   "source": [
    "# f_obj.a"
   ]
  },
  {
   "cell_type": "code",
   "execution_count": 15,
   "id": "c8838992-5d56-43f1-9a75-30c6e30aedbe",
   "metadata": {},
   "outputs": [
    {
     "ename": "AttributeError",
     "evalue": "'list_ops' object has no attribute 'l'",
     "output_type": "error",
     "traceback": [
      "\u001b[0;31m---------------------------------------------------------------------------\u001b[0m",
      "\u001b[0;31mAttributeError\u001b[0m                            Traceback (most recent call last)",
      "Cell \u001b[0;32mIn[15], line 2\u001b[0m\n\u001b[1;32m      1\u001b[0m s_obj \u001b[38;5;241m=\u001b[39m list_ops([\u001b[38;5;241m2\u001b[39m,\u001b[38;5;241m3\u001b[39m,\u001b[38;5;241m4\u001b[39m,\u001b[38;5;241m5\u001b[39m])\n\u001b[0;32m----> 2\u001b[0m \u001b[43ms_obj\u001b[49m\u001b[38;5;241;43m.\u001b[39;49m\u001b[43ml\u001b[49m\n\u001b[1;32m      3\u001b[0m \u001b[38;5;66;03m# __init__() of class has no attribute 'l' means\u001b[39;00m\n\u001b[1;32m      4\u001b[0m \u001b[38;5;66;03m# class of init() has only l2, then that is the use of self\u001b[39;00m\n\u001b[1;32m      5\u001b[0m \u001b[38;5;66;03m# using self with l2, that l2 was binded/associated with class\u001b[39;00m\n\u001b[1;32m      6\u001b[0m \u001b[38;5;66;03m# l2 is class variable\u001b[39;00m\n\u001b[1;32m      7\u001b[0m \u001b[38;5;66;03m# init() is a constructor\u001b[39;00m\n",
      "\u001b[0;31mAttributeError\u001b[0m: 'list_ops' object has no attribute 'l'"
     ]
    }
   ],
   "source": [
    "s_obj = list_ops([2,3,4,5])\n",
    "s_obj.l\n",
    "# __init__() of class has no attribute 'l' means\n",
    "# class of init() has only l2, then that is the use of self\n",
    "# using self with l2, that l2 was binded/associated with class\n",
    "# l2 is class variable\n",
    "# init() is a constructor"
   ]
  },
  {
   "cell_type": "code",
   "execution_count": 16,
   "id": "c97bd284-5ca2-4c94-b585-a73ef7b2a609",
   "metadata": {},
   "outputs": [
    {
     "data": {
      "text/plain": [
       "[2, 3, 4, 5]"
      ]
     },
     "execution_count": 16,
     "metadata": {},
     "output_type": "execute_result"
    }
   ],
   "source": [
    "s_obj.l2"
   ]
  },
  {
   "cell_type": "code",
   "execution_count": 33,
   "id": "e8d276f7-3e0a-4897-b234-9910c41dbae9",
   "metadata": {},
   "outputs": [],
   "source": [
    "# generic class\n",
    "class book:\n",
    "    # at the time of creation of object passing different data then need init() else not required.\n",
    "    # init() not mandatory to provide for every class\n",
    "    def __init__(self,name,title,page_no):\n",
    "        self.name_book=name\n",
    "        self.title_book=title\n",
    "        self.page_no=page_no\n",
    "    \n",
    "    def extract_details(self):\n",
    "        print(self.name_book, self.title_book)\n",
    "\n",
    "    def print_page_no(self):\n",
    "        print(self.page_no)"
   ]
  },
  {
   "cell_type": "code",
   "execution_count": 29,
   "id": "d41de6af-bc61-4317-b6d8-cef93445387d",
   "metadata": {},
   "outputs": [],
   "source": [
    "# different objects with different data\n",
    "f_ob = book(\"book1\",\"wing\",1)\n",
    "s_ob = book(\"book2\",\"of\",2)\n",
    "t_ob = book(\"book3\",\"of\",3)"
   ]
  },
  {
   "cell_type": "code",
   "execution_count": 25,
   "id": "e8433b1f-843d-49b1-bd0e-edf13ffdea93",
   "metadata": {},
   "outputs": [
    {
     "name": "stdout",
     "output_type": "stream",
     "text": [
      "book1 wing\n",
      "1\n"
     ]
    }
   ],
   "source": [
    "f_ob.extract_details()\n",
    "f_ob.print_page_no()"
   ]
  },
  {
   "cell_type": "code",
   "execution_count": 26,
   "id": "b3d29ec9-8e3f-4e47-a334-82238b1206c9",
   "metadata": {},
   "outputs": [
    {
     "name": "stdout",
     "output_type": "stream",
     "text": [
      "book2 of\n",
      "2\n"
     ]
    }
   ],
   "source": [
    "s_ob.extract_details()\n",
    "s_ob.print_page_no()"
   ]
  },
  {
   "cell_type": "code",
   "execution_count": 27,
   "id": "cac25b19-0cbc-45f7-80f1-e70fbf55bac7",
   "metadata": {},
   "outputs": [
    {
     "name": "stdout",
     "output_type": "stream",
     "text": [
      "book3 of\n",
      "3\n"
     ]
    }
   ],
   "source": [
    "t_ob.extract_details()\n",
    "t_ob.print_page_no()"
   ]
  },
  {
   "cell_type": "code",
   "execution_count": 31,
   "id": "3911d578-2402-4843-845e-09875c906090",
   "metadata": {},
   "outputs": [
    {
     "name": "stdout",
     "output_type": "stream",
     "text": [
      "book3 wing\n"
     ]
    }
   ],
   "source": [
    "# assigning\n",
    "f_ob.name_book=\"book3\"\n",
    "f_ob.extract_details()"
   ]
  },
  {
   "cell_type": "code",
   "execution_count": 32,
   "id": "95ccc049-bc6c-4f0d-9136-96b5e4f1100f",
   "metadata": {},
   "outputs": [
    {
     "data": {
      "text/plain": [
       "'book3'"
      ]
     },
     "execution_count": 32,
     "metadata": {},
     "output_type": "execute_result"
    }
   ],
   "source": [
    "# accessing\n",
    "f_ob.name_book"
   ]
  },
  {
   "cell_type": "code",
   "execution_count": 34,
   "id": "d4b99e89-6bd4-4cc7-9666-42855ebbe307",
   "metadata": {},
   "outputs": [],
   "source": [
    "class cal:\n",
    "    def __init__(self,a,b):\n",
    "        self.aa=a\n",
    "        self.bb=b\n",
    "    \n",
    "    def add(self):\n",
    "        print(self.aa + self.bb)"
   ]
  },
  {
   "cell_type": "code",
   "execution_count": 35,
   "id": "b1bd78a2-45aa-4779-9c38-1662c27dd583",
   "metadata": {},
   "outputs": [
    {
     "name": "stdout",
     "output_type": "stream",
     "text": [
      "4\n"
     ]
    }
   ],
   "source": [
    "ad = cal(2,2)\n",
    "ad.add()"
   ]
  },
  {
   "cell_type": "code",
   "execution_count": 61,
   "id": "210d3ed4-50a0-4ced-a982-6df4ebe68041",
   "metadata": {},
   "outputs": [],
   "source": [
    "from functools import reduce\n",
    "class calu:\n",
    "    def __init__(ram,username):\n",
    "        ram.user=username\n",
    "    \n",
    "    def add(ram, *args):\n",
    "        return ram.user , sum(args)\n",
    "    \n",
    "    def sub(ram,*args):\n",
    "        return ram.user , reduce(lambda a,b:a-b, args)\n",
    "    \n",
    "    def mul(ram,*args):\n",
    "        return ram.user , reduce(lambda a,b:a*b, args)\n",
    "    \n",
    "    def div(ram,*args):\n",
    "        return ram.user , reduce(lambda a,b:a/b, args)"
   ]
  },
  {
   "cell_type": "code",
   "execution_count": 63,
   "id": "e2fe7710-e399-4bbd-aa3a-4b50bc42b81e",
   "metadata": {},
   "outputs": [
    {
     "data": {
      "text/plain": [
       "('ram', 4)"
      ]
     },
     "execution_count": 63,
     "metadata": {},
     "output_type": "execute_result"
    }
   ],
   "source": [
    "ad = calu(\"ram\")\n",
    "ad.add(2,2)"
   ]
  },
  {
   "cell_type": "code",
   "execution_count": 64,
   "id": "ae35c436-67db-4372-8c27-437e339fd970",
   "metadata": {},
   "outputs": [
    {
     "data": {
      "text/plain": [
       "('ram', -10)"
      ]
     },
     "execution_count": 64,
     "metadata": {},
     "output_type": "execute_result"
    }
   ],
   "source": [
    "ad.sub(2,3,4,5)"
   ]
  },
  {
   "cell_type": "code",
   "execution_count": 65,
   "id": "2c9221e6-b574-46c3-be19-ecb244720c9f",
   "metadata": {},
   "outputs": [
    {
     "data": {
      "text/plain": [
       "('ram', 80)"
      ]
     },
     "execution_count": 65,
     "metadata": {},
     "output_type": "execute_result"
    }
   ],
   "source": [
    "ad.mul(2,4,5,2)"
   ]
  },
  {
   "cell_type": "code",
   "execution_count": 66,
   "id": "8db5bd12-288a-4d0c-b07e-8f9a1e007f35",
   "metadata": {},
   "outputs": [
    {
     "data": {
      "text/plain": [
       "('ram', 1.0)"
      ]
     },
     "execution_count": 66,
     "metadata": {},
     "output_type": "execute_result"
    }
   ],
   "source": [
    "ad.sub(2/2)"
   ]
  },
  {
   "cell_type": "code",
   "execution_count": null,
   "id": "1994f1da-9bd8-4bfa-8500-d7270666d930",
   "metadata": {},
   "outputs": [],
   "source": [
    "# Observations:\n",
    "# If i use obj1 object for calling different methods in class then the lifetime exist until it dies.\n",
    "# If i use obj2 object for calling different methods in class then object will have new lifetime/session until it expires but\n",
    "#    the data of obj1 object has cannot have same data for obj2 of object."
   ]
  }
 ],
 "metadata": {
  "kernelspec": {
   "display_name": "Python 3 (ipykernel)",
   "language": "python",
   "name": "python3"
  },
  "language_info": {
   "codemirror_mode": {
    "name": "ipython",
    "version": 3
   },
   "file_extension": ".py",
   "mimetype": "text/x-python",
   "name": "python",
   "nbconvert_exporter": "python",
   "pygments_lexer": "ipython3",
   "version": "3.11.2"
  }
 },
 "nbformat": 4,
 "nbformat_minor": 5
}
