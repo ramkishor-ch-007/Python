{
 "cells": [
  {
   "cell_type": "code",
   "execution_count": null,
   "id": "a6f41b5a-f6f2-460a-9268-f3dead618794",
   "metadata": {},
   "outputs": [],
   "source": [
    "x=int(input(\"enter first number\"))\n",
    "y=int(input(\"enter first number\"))\n",
    "# one type of print statement\n",
    "print(x+y)"
   ]
  },
  {
   "cell_type": "code",
   "execution_count": null,
   "id": "d82a1367-b9ca-4cba-b531-81d7cf793ee9",
   "metadata": {},
   "outputs": [],
   "source": [
    "# second type of print statement\n",
    "x=\"apple\"\n",
    "y=\"ball\"\n",
    "print(f\"{x} and {y}\") #f is a syntax and x and y are place holder"
   ]
  },
  {
   "cell_type": "code",
   "execution_count": null,
   "id": "03f0283f-1915-4bf9-b539-2cf32e670603",
   "metadata": {},
   "outputs": [],
   "source": [
    "#thrid type of print statement\n",
    "'''the 0 and 1 are the placeholder positions in \n",
    "which the text in format to be display at which position'''\n",
    "print('{0} and {1}'.format(\"pw\",\"skills\"))\n",
    "print('{1} and {0}'.format(\"pw\",\"skills\"))"
   ]
  },
  {
   "cell_type": "code",
   "execution_count": null,
   "id": "a55a1371-77a6-4a7a-9048-a170b7b86694",
   "metadata": {},
   "outputs": [],
   "source": [
    "print('''89074562\n",
    "Hii!!\n",
    "$$Howareyou??\n",
    "10*10 = 100\n",
    "(12 > 10) and True\n",
    "I am here to learn \"python\n",
    "''')"
   ]
  },
  {
   "cell_type": "code",
   "execution_count": null,
   "id": "71ae9633-4f4c-45ac-8e92-01173328c798",
   "metadata": {},
   "outputs": [],
   "source": [
    "print('''$\n",
    "$ $ \n",
    "$ $ $\n",
    "$ $ $ $\n",
    "$ $ $ $ $\n",
    "''')"
   ]
  },
  {
   "cell_type": "code",
   "execution_count": null,
   "id": "dc51281e-3a10-49c8-ab59-66ec68bbcfd6",
   "metadata": {},
   "outputs": [],
   "source": [
    "a=str(input())\n",
    "print(f\"!{a}!\")\n",
    "x=input('enter the string')\n",
    "y=x\n",
    "z=\"!\" + x + \"!\"\n",
    "print(z)"
   ]
  },
  {
   "cell_type": "code",
   "execution_count": 1,
   "id": "fb9fef65-c3ba-47cd-b01a-551062e6a71d",
   "metadata": {},
   "outputs": [
    {
     "data": {
      "text/plain": [
       "30"
      ]
     },
     "execution_count": 1,
     "metadata": {},
     "output_type": "execute_result"
    }
   ],
   "source": [
    "# Arthimetic operators\n",
    "a=10\n",
    "b=20\n",
    "a+b"
   ]
  },
  {
   "cell_type": "code",
   "execution_count": null,
   "id": "bb257c53-008b-4bd6-8e11-6e0ada871a1d",
   "metadata": {},
   "outputs": [],
   "source": [
    "a-b"
   ]
  },
  {
   "cell_type": "code",
   "execution_count": null,
   "id": "e4729314-b045-49e4-ad95-9e3b2a3f87db",
   "metadata": {},
   "outputs": [],
   "source": [
    "a*b"
   ]
  },
  {
   "cell_type": "code",
   "execution_count": null,
   "id": "3390a261-9fb2-4d5f-91a0-b9f552aa34c9",
   "metadata": {},
   "outputs": [],
   "source": [
    "a/b"
   ]
  },
  {
   "cell_type": "code",
   "execution_count": null,
   "id": "29dfe1c6-5462-4768-ac26-b9eb454b86b9",
   "metadata": {},
   "outputs": [],
   "source": [
    "a//b #takes remainder value"
   ]
  },
  {
   "cell_type": "code",
   "execution_count": null,
   "id": "571e7762-1574-482e-977e-6aecc7aea5af",
   "metadata": {},
   "outputs": [],
   "source": [
    "a%b"
   ]
  },
  {
   "cell_type": "code",
   "execution_count": null,
   "id": "fd5a839f-805b-4af2-80fd-a02020e8db2c",
   "metadata": {},
   "outputs": [],
   "source": [
    "a==b #equality operator"
   ]
  },
  {
   "cell_type": "code",
   "execution_count": null,
   "id": "0170a675-45cb-446a-a16b-f6b918b097de",
   "metadata": {},
   "outputs": [],
   "source": [
    "a is b #identity operator\n",
    "#where a and b pointing to same memory location, returns true.\n",
    "#where a and b pointing to different memory location, returns false.\n",
    "\n",
    "#give and check memory object location is different so, false.\n",
    "#give and check memory object location is different so, true."
   ]
  },
  {
   "cell_type": "code",
   "execution_count": null,
   "id": "e6665ee6-082d-4da9-bc92-f8124ba840ce",
   "metadata": {},
   "outputs": [],
   "source": [
    "id(a)"
   ]
  },
  {
   "cell_type": "code",
   "execution_count": null,
   "id": "5b890216-37d9-4669-8218-2b5c94102142",
   "metadata": {},
   "outputs": [],
   "source": [
    "a!=b"
   ]
  },
  {
   "cell_type": "code",
   "execution_count": null,
   "id": "fe5c62bd-d91f-4ede-a8d1-e2ab46dea577",
   "metadata": {},
   "outputs": [],
   "source": [
    "a = [1,2,3]\n",
    "b = a"
   ]
  },
  {
   "cell_type": "code",
   "execution_count": null,
   "id": "f5769ca6-bc0d-45eb-b50b-712ba98048b3",
   "metadata": {},
   "outputs": [],
   "source": [
    "a is b"
   ]
  },
  {
   "cell_type": "code",
   "execution_count": null,
   "id": "48a843b1-da38-4697-80c0-1f48d60e317e",
   "metadata": {},
   "outputs": [],
   "source": [
    "a == b"
   ]
  },
  {
   "cell_type": "code",
   "execution_count": null,
   "id": "649f3b81-282f-49fd-b1bf-e74040ceced4",
   "metadata": {},
   "outputs": [],
   "source": [
    "a=int(input(\"enter the value\"))\n",
    "b=3**35//a #3^{35}\n",
    "print(b)"
   ]
  },
  {
   "cell_type": "code",
   "execution_count": null,
   "id": "59435e0b-4fa6-43fb-9880-2af0955034b6",
   "metadata": {},
   "outputs": [],
   "source": [
    "a>b"
   ]
  },
  {
   "cell_type": "code",
   "execution_count": null,
   "id": "83f93869-d17d-4ae5-8f9d-c01d1b1a6ae4",
   "metadata": {},
   "outputs": [],
   "source": [
    "a<b"
   ]
  },
  {
   "cell_type": "code",
   "execution_count": null,
   "id": "2cb56bad-aa42-49bb-8539-d05e076e4853",
   "metadata": {},
   "outputs": [],
   "source": [
    "# logical operators\n",
    "a=10\n",
    "b=4"
   ]
  },
  {
   "cell_type": "code",
   "execution_count": null,
   "id": "82016537-5352-40d0-ac84-7ad2f4bc2b9d",
   "metadata": {},
   "outputs": [],
   "source": [
    "bin(a)"
   ]
  },
  {
   "cell_type": "code",
   "execution_count": null,
   "id": "4f1dc0bc-e091-4d03-95f6-ba9e2f0ac3f6",
   "metadata": {},
   "outputs": [],
   "source": [
    "bin(b) #byte where b is in 0b100"
   ]
  },
  {
   "cell_type": "code",
   "execution_count": null,
   "id": "2ebf1f4f-4a77-4d94-9fbb-01ec8a2a89a3",
   "metadata": {},
   "outputs": [],
   "source": [
    "a&b #truth table for and operator"
   ]
  },
  {
   "cell_type": "code",
   "execution_count": null,
   "id": "bbd16631-da21-4c34-acb9-b12293151a69",
   "metadata": {},
   "outputs": [],
   "source": [
    "a | b"
   ]
  },
  {
   "cell_type": "code",
   "execution_count": null,
   "id": "2693757d-53f6-4bae-9544-54f0677da76e",
   "metadata": {},
   "outputs": [],
   "source": [
    "~a \n",
    "# 2's compliment = 1's comp + 1\n",
    "# bit wise operator will inverse sign from + to -"
   ]
  },
  {
   "cell_type": "code",
   "execution_count": null,
   "id": "503fd31d-0a21-4e00-8e18-d60bed57d7f4",
   "metadata": {},
   "outputs": [],
   "source": [
    "a ^ b"
   ]
  },
  {
   "cell_type": "code",
   "execution_count": null,
   "id": "c66a7b5c-ab8f-44e4-9d26-c4743189d257",
   "metadata": {},
   "outputs": [],
   "source": [
    "a >> 1"
   ]
  },
  {
   "cell_type": "code",
   "execution_count": null,
   "id": "383c4b1d-148d-4f7c-af04-7561c38e508b",
   "metadata": {},
   "outputs": [],
   "source": [
    "a << 1"
   ]
  },
  {
   "cell_type": "code",
   "execution_count": null,
   "id": "5fb05266-3e2f-45a6-9189-3cb535814ee0",
   "metadata": {},
   "outputs": [],
   "source": [
    "a=1\n",
    "b=2"
   ]
  },
  {
   "cell_type": "code",
   "execution_count": null,
   "id": "4b5a5e4e-8a74-45a1-8b2a-ac05e8ea51e9",
   "metadata": {},
   "outputs": [],
   "source": [
    "a+=1"
   ]
  },
  {
   "cell_type": "code",
   "execution_count": null,
   "id": "bb941c2d-083c-4b08-ad22-28e8881e9cd7",
   "metadata": {},
   "outputs": [],
   "source": [
    "a"
   ]
  },
  {
   "cell_type": "code",
   "execution_count": 1,
   "id": "e8f64d19-b98e-464b-8e29-ca3ae8ecf961",
   "metadata": {},
   "outputs": [],
   "source": [
    "# 3rd sep"
   ]
  },
  {
   "cell_type": "code",
   "execution_count": 3,
   "id": "8f3525e2-7216-437c-9688-53d50a530571",
   "metadata": {},
   "outputs": [],
   "source": [
    "# logical operators\n",
    "# and\n",
    "# or\n",
    "# not"
   ]
  },
  {
   "cell_type": "code",
   "execution_count": 4,
   "id": "9a673d81-c2e9-4e90-9d06-db240121bd85",
   "metadata": {},
   "outputs": [
    {
     "data": {
      "text/plain": [
       "False"
      ]
     },
     "execution_count": 4,
     "metadata": {},
     "output_type": "execute_result"
    }
   ],
   "source": [
    "a=10\n",
    "b=20\n",
    "((a>10) and (b>20))"
   ]
  },
  {
   "cell_type": "code",
   "execution_count": 6,
   "id": "6f686a2d-9f10-40f1-bbdb-8370d1da50c5",
   "metadata": {},
   "outputs": [
    {
     "data": {
      "text/plain": [
       "False"
      ]
     },
     "execution_count": 6,
     "metadata": {},
     "output_type": "execute_result"
    }
   ],
   "source": [
    "((a>10) or (b>20))"
   ]
  },
  {
   "cell_type": "code",
   "execution_count": 7,
   "id": "c943431f-a38e-4b7f-b468-eaac8badb416",
   "metadata": {},
   "outputs": [
    {
     "name": "stdout",
     "output_type": "stream",
     "text": [
      "False\n",
      "False\n"
     ]
    }
   ],
   "source": [
    "print(True and False)\n",
    "print(False or False)"
   ]
  },
  {
   "cell_type": "code",
   "execution_count": 9,
   "id": "31c890fb-ee6d-4393-a62a-05fa22b1e8d8",
   "metadata": {},
   "outputs": [
    {
     "data": {
      "text/plain": [
       "False"
      ]
     },
     "execution_count": 9,
     "metadata": {},
     "output_type": "execute_result"
    }
   ],
   "source": [
    "a=True\n",
    "not(a)"
   ]
  },
  {
   "cell_type": "code",
   "execution_count": 10,
   "id": "13352f8c-52cd-494b-971b-21f103aec628",
   "metadata": {},
   "outputs": [],
   "source": [
    "# bitwise operators\n",
    "& : AND\n",
    "| : OR\n",
    "^ : EXOR\n",
    "~ : negation\n",
    "<< : left shift\n",
    ">> : right shift"
   ]
  },
  {
   "cell_type": "code",
   "execution_count": 3,
   "id": "0d1500ef-188f-4c63-ad20-5b5ff951d904",
   "metadata": {},
   "outputs": [],
   "source": [
    "a=10\n",
    "b=4"
   ]
  },
  {
   "cell_type": "code",
   "execution_count": 4,
   "id": "9ecc4fd1-f851-4a74-b6dc-f9adb75845b5",
   "metadata": {},
   "outputs": [
    {
     "data": {
      "text/plain": [
       "'0b100'"
      ]
     },
     "execution_count": 4,
     "metadata": {},
     "output_type": "execute_result"
    }
   ],
   "source": [
    "bin(b)"
   ]
  },
  {
   "cell_type": "code",
   "execution_count": 5,
   "id": "33fa2e9d-9f5e-4648-a591-3df1ee775772",
   "metadata": {},
   "outputs": [
    {
     "data": {
      "text/plain": [
       "'0b1010'"
      ]
     },
     "execution_count": 5,
     "metadata": {},
     "output_type": "execute_result"
    }
   ],
   "source": [
    "bin(a)"
   ]
  },
  {
   "cell_type": "code",
   "execution_count": 6,
   "id": "1465e988-41f0-41a1-abb9-4240bd7f6c47",
   "metadata": {},
   "outputs": [
    {
     "data": {
      "text/plain": [
       "0"
      ]
     },
     "execution_count": 6,
     "metadata": {},
     "output_type": "execute_result"
    }
   ],
   "source": [
    "a & b"
   ]
  },
  {
   "cell_type": "code",
   "execution_count": 7,
   "id": "0581a5e9-07fd-4eb1-8599-af9410b175d3",
   "metadata": {},
   "outputs": [
    {
     "data": {
      "text/plain": [
       "14"
      ]
     },
     "execution_count": 7,
     "metadata": {},
     "output_type": "execute_result"
    }
   ],
   "source": [
    "a | b"
   ]
  },
  {
   "cell_type": "code",
   "execution_count": 8,
   "id": "b3fc6eac-c6a8-4d6a-9d6c-4b392929bf60",
   "metadata": {},
   "outputs": [
    {
     "data": {
      "text/plain": [
       "14"
      ]
     },
     "execution_count": 8,
     "metadata": {},
     "output_type": "execute_result"
    }
   ],
   "source": [
    "a ^ b"
   ]
  },
  {
   "cell_type": "code",
   "execution_count": 11,
   "id": "bed9be45-8e98-4a5a-879c-ed1db2d8a2fc",
   "metadata": {},
   "outputs": [
    {
     "data": {
      "text/plain": [
       "-11"
      ]
     },
     "execution_count": 11,
     "metadata": {},
     "output_type": "execute_result"
    }
   ],
   "source": [
    "~a\n",
    "# sign bit changes from positive sign to negative sign\n",
    "# positive sign is 0\n",
    "# negative sign is 1\n",
    "# sign  number\n",
    "# 0     1010\n",
    "# 1     0101  # -5, computer will not store negative values\n",
    "              # computer will take 2's compliment of -5\n",
    "\n",
    "# 1010  #   1's compliment\n",
    "#    1  # + 1\n",
    "# 1011  # -11\n",
    "\n",
    "# Short cut of ~10 is -11, where next number from present number and adding '-'"
   ]
  },
  {
   "cell_type": "code",
   "execution_count": 12,
   "id": "4b84fc63-447f-4c19-b284-e6fd7a5a8990",
   "metadata": {},
   "outputs": [],
   "source": [
    "x=[1,2,3,4,5]"
   ]
  },
  {
   "cell_type": "code",
   "execution_count": 13,
   "id": "b8b0eb28-9011-42f6-b548-ce4116151338",
   "metadata": {},
   "outputs": [
    {
     "data": {
      "text/plain": [
       "True"
      ]
     },
     "execution_count": 13,
     "metadata": {},
     "output_type": "execute_result"
    }
   ],
   "source": [
    "2 in x"
   ]
  },
  {
   "cell_type": "code",
   "execution_count": 14,
   "id": "f7e2adcd-d5be-4a13-a003-faaed2b1e0ba",
   "metadata": {},
   "outputs": [
    {
     "data": {
      "text/plain": [
       "20"
      ]
     },
     "execution_count": 14,
     "metadata": {},
     "output_type": "execute_result"
    }
   ],
   "source": [
    "a << 1"
   ]
  },
  {
   "cell_type": "code",
   "execution_count": 15,
   "id": "9d5fba70-0cbf-45c8-b122-1127de9915d1",
   "metadata": {},
   "outputs": [
    {
     "data": {
      "text/plain": [
       "5"
      ]
     },
     "execution_count": 15,
     "metadata": {},
     "output_type": "execute_result"
    }
   ],
   "source": [
    "a >> 1"
   ]
  },
  {
   "cell_type": "code",
   "execution_count": 16,
   "id": "b9898597-0d69-4f1c-9687-ba0c3272358f",
   "metadata": {},
   "outputs": [],
   "source": [
    "# control flows"
   ]
  },
  {
   "cell_type": "code",
   "execution_count": 19,
   "id": "9c0d6193-7a13-4ae9-b7be-a8185d969e31",
   "metadata": {},
   "outputs": [
    {
     "name": "stdout",
     "output_type": "stream",
     "text": [
      "you can drive\n"
     ]
    }
   ],
   "source": [
    "a=18\n",
    "if a>=18:\n",
    "    print(\"you can drive\")\n",
    "else:\n",
    "    print(\"can't drive\")"
   ]
  },
  {
   "cell_type": "code",
   "execution_count": 21,
   "id": "eae8cb0d-c228-4187-b53d-aac8b4f0a5aa",
   "metadata": {},
   "outputs": [
    {
     "name": "stdout",
     "output_type": "stream",
     "text": [
      "enter the time 24\n"
     ]
    },
    {
     "name": "stdout",
     "output_type": "stream",
     "text": [
      "invalid\n"
     ]
    }
   ],
   "source": [
    "time=int(input(\"enter the time\"))\n",
    "if time <0:\n",
    "    print(\"invalid\")\n",
    "elif 0<= time <=5:\n",
    "    print(\"night\")\n",
    "elif 6<= time <=11:\n",
    "    print(\"morning\")\n",
    "elif 12<= time <=17:\n",
    "    print(\"afternoon\")\n",
    "elif 18<= time <=23:\n",
    "    print(\"evening\")\n",
    "else:\n",
    "    print(\"invalid\")"
   ]
  },
  {
   "cell_type": "code",
   "execution_count": 23,
   "id": "0030fbec-07db-479f-92a1-105004caac60",
   "metadata": {},
   "outputs": [
    {
     "name": "stdout",
     "output_type": "stream",
     "text": [
      "enter first number 1\n",
      "enter second number 2\n",
      "enter op:+,-,*,/ =\n"
     ]
    },
    {
     "name": "stdout",
     "output_type": "stream",
     "text": [
      "invalid\n"
     ]
    }
   ],
   "source": [
    "first=int(input(\"enter first number\"))\n",
    "second=int(input(\"enter second number\"))\n",
    "op=input(\"enter op:+,-,*,/\")\n",
    "if op=='+':\n",
    "    print(first+second)\n",
    "elif op=='-':\n",
    "    print(first-second)\n",
    "elif op=='*':\n",
    "    print(first-second)\n",
    "elif op=='/':\n",
    "    print(first-second)\n",
    "else:\n",
    "    print(\"invalid\")"
   ]
  },
  {
   "cell_type": "code",
   "execution_count": 24,
   "id": "430c99c2-fe2b-421f-a227-5f5e38273f85",
   "metadata": {},
   "outputs": [
    {
     "data": {
      "text/plain": [
       "range(0, 5)"
      ]
     },
     "execution_count": 24,
     "metadata": {},
     "output_type": "execute_result"
    }
   ],
   "source": [
    "range(5)"
   ]
  },
  {
   "cell_type": "code",
   "execution_count": 26,
   "id": "f6c009b2-5bb3-4d6d-8f72-0416c8364400",
   "metadata": {},
   "outputs": [
    {
     "data": {
      "text/plain": [
       "[0, 1, 2, 3, 4]"
      ]
     },
     "execution_count": 26,
     "metadata": {},
     "output_type": "execute_result"
    }
   ],
   "source": [
    "list(range(5)) #range(start,stop,step)"
   ]
  },
  {
   "cell_type": "code",
   "execution_count": 27,
   "id": "0e7c721d-bb8f-4503-ad53-b6eb166270e1",
   "metadata": {},
   "outputs": [
    {
     "data": {
      "text/plain": [
       "[0, 1, 2, 3]"
      ]
     },
     "execution_count": 27,
     "metadata": {},
     "output_type": "execute_result"
    }
   ],
   "source": [
    "list(range(0,4))"
   ]
  },
  {
   "cell_type": "code",
   "execution_count": 31,
   "id": "b39163cc-ee61-4430-90f2-bd3fede18b8f",
   "metadata": {},
   "outputs": [
    {
     "data": {
      "text/plain": [
       "[2, 4, 6, 8, 10]"
      ]
     },
     "execution_count": 31,
     "metadata": {},
     "output_type": "execute_result"
    }
   ],
   "source": [
    "list(range(2,12,2)) #upper bound -1 is for stop"
   ]
  },
  {
   "cell_type": "code",
   "execution_count": 32,
   "id": "85685069-43c4-45b8-a480-5c48408f3015",
   "metadata": {},
   "outputs": [
    {
     "name": "stdout",
     "output_type": "stream",
     "text": [
      "0\n",
      "1\n",
      "2\n",
      "3\n",
      "4\n"
     ]
    }
   ],
   "source": [
    "for i in range(5):\n",
    "    print(i)"
   ]
  },
  {
   "cell_type": "code",
   "execution_count": 33,
   "id": "e94201ce-0fa1-49b8-a575-6e17c47a43d7",
   "metadata": {},
   "outputs": [
    {
     "name": "stdout",
     "output_type": "stream",
     "text": [
      "1\n",
      "2\n",
      "3\n"
     ]
    }
   ],
   "source": [
    "for i in [1,2,3]:\n",
    "    print(i)"
   ]
  },
  {
   "cell_type": "code",
   "execution_count": 37,
   "id": "b7d78de3-cff6-4101-9a98-c52898489fb0",
   "metadata": {},
   "outputs": [
    {
     "name": "stdout",
     "output_type": "stream",
     "text": [
      "p w s k i l l s completed\n"
     ]
    }
   ],
   "source": [
    "for i in \"pwskills\":\n",
    "    print(i,end=\" \")\n",
    "else:\n",
    "    print(\"completed\")"
   ]
  },
  {
   "cell_type": "code",
   "execution_count": 35,
   "id": "e5247335-0cb2-4e9a-9f39-98a4fe31f7ba",
   "metadata": {},
   "outputs": [
    {
     "ename": "TypeError",
     "evalue": "'int' object is not iterable",
     "output_type": "error",
     "traceback": [
      "\u001b[0;31m---------------------------------------------------------------------------\u001b[0m",
      "\u001b[0;31mTypeError\u001b[0m                                 Traceback (most recent call last)",
      "Cell \u001b[0;32mIn[35], line 1\u001b[0m\n\u001b[0;32m----> 1\u001b[0m \u001b[38;5;28;01mfor\u001b[39;00m i \u001b[38;5;129;01min\u001b[39;00m \u001b[38;5;241m123\u001b[39m:\n\u001b[1;32m      2\u001b[0m     \u001b[38;5;28mprint\u001b[39m(i)\n",
      "\u001b[0;31mTypeError\u001b[0m: 'int' object is not iterable"
     ]
    }
   ],
   "source": [
    "for i in 123:\n",
    "    print(i)"
   ]
  },
  {
   "cell_type": "code",
   "execution_count": 56,
   "id": "cdef2d89-29c8-4a94-9ccd-f81794bd88af",
   "metadata": {},
   "outputs": [
    {
     "name": "stdout",
     "output_type": "stream",
     "text": [
      "1 2 3 4 5 \n",
      "2 4 6 8 10 \n",
      "3 6 9 12 15 \n",
      "4 8 12 16 20 \n",
      "5 10 15 20 25 \n"
     ]
    }
   ],
   "source": [
    "# if you know how many time will iterate go are there\n",
    "# then use while loop\n",
    "for i in range(1,6):\n",
    "    for j in range(1,6):\n",
    "        print(i*j,end=\" \")\n",
    "    print()"
   ]
  },
  {
   "cell_type": "code",
   "execution_count": 53,
   "id": "c6ad9564-084f-41d2-9182-268820cb667a",
   "metadata": {},
   "outputs": [
    {
     "name": "stdout",
     "output_type": "stream",
     "text": [
      "1\n",
      "2\n",
      "3\n",
      "4\n",
      "5\n"
     ]
    }
   ],
   "source": [
    "count=1\n",
    "\n",
    "# if you do not know how many time will iterate go are there\n",
    "# then use while loop\n",
    "while count<=5:\n",
    "    print(count)\n",
    "    count+=1"
   ]
  },
  {
   "cell_type": "code",
   "execution_count": 78,
   "id": "33c3453a-f42c-40ae-bc6c-a532d44b979b",
   "metadata": {},
   "outputs": [
    {
     "name": "stdout",
     "output_type": "stream",
     "text": [
      "    * \n",
      "   * * \n",
      "  * * * \n",
      " * * * * \n",
      "* * * * * \n"
     ]
    }
   ],
   "source": [
    "#python3 code to implement above approach\n",
    "height = 5\n",
    "for row in range(1, height+ 1):\n",
    "\tprint(\" \" * (height - row) +\"* \" * row)\n",
    "#this code is contributed by Shivesh kumar dwivedi\n"
   ]
  },
  {
   "cell_type": "code",
   "execution_count": 11,
   "id": "0160a4b0-37fc-497b-9d47-33079eca412f",
   "metadata": {},
   "outputs": [
    {
     "name": "stdout",
     "output_type": "stream",
     "text": [
      "* * * * * \n",
      "* * * * * \n",
      "* * * * * \n",
      "* * * * * \n",
      "* * * * * \n"
     ]
    }
   ],
   "source": [
    "for i in range(5):\n",
    "    for j in range(5):\n",
    "        print(\"*\",end=\" \")\n",
    "    print()"
   ]
  },
  {
   "cell_type": "code",
   "execution_count": 12,
   "id": "be74936c-67b6-4cbd-b186-b2c9d16b3318",
   "metadata": {},
   "outputs": [
    {
     "name": "stdout",
     "output_type": "stream",
     "text": [
      "* \n",
      "* * \n",
      "* * * \n",
      "* * * * \n",
      "* * * * * \n"
     ]
    }
   ],
   "source": [
    "for i in range(5):\n",
    "    for j in range(0,i+1):\n",
    "        print(\"*\",end=\" \")\n",
    "    print()"
   ]
  },
  {
   "cell_type": "code",
   "execution_count": 13,
   "id": "997c9924-36dc-4b33-95c6-6a38e7d1e6c2",
   "metadata": {},
   "outputs": [
    {
     "name": "stdout",
     "output_type": "stream",
     "text": [
      "* * * * * \n",
      "* * * * \n",
      "* * * \n",
      "* * \n",
      "* \n"
     ]
    }
   ],
   "source": [
    "n=5\n",
    "for i in range(5):\n",
    "    for j in range(i,n):\n",
    "        print(\"*\",end=\" \")\n",
    "    print()"
   ]
  },
  {
   "cell_type": "code",
   "execution_count": 18,
   "id": "06feef47-0ea9-48df-859d-52eb1e6125d5",
   "metadata": {},
   "outputs": [
    {
     "name": "stdout",
     "output_type": "stream",
     "text": [
      "          * \n",
      "        * * \n",
      "      * * * \n",
      "    * * * * \n",
      "  * * * * * \n"
     ]
    }
   ],
   "source": [
    "n=5\n",
    "for i in range(5):\n",
    "    for j in range(i,n):\n",
    "        print(\" \",end=\" \")\n",
    "    for j in range(i+1):\n",
    "        print(\"*\",end=\" \")\n",
    "    print()"
   ]
  },
  {
   "cell_type": "code",
   "execution_count": 25,
   "id": "42bf5dc0-9e34-4f74-b885-cc4afaf2b833",
   "metadata": {},
   "outputs": [
    {
     "name": "stdout",
     "output_type": "stream",
     "text": [
      "  * * * * * \n",
      "    * * * * \n",
      "      * * * \n",
      "        * * \n",
      "          * \n"
     ]
    }
   ],
   "source": [
    "n=5\n",
    "for i in range(5):\n",
    "    for j in range(i+1):\n",
    "        print(\" \",end=\" \")\n",
    "    for j in range(i,n):\n",
    "        print(\"*\",end=\" \")\n",
    "    print()"
   ]
  },
  {
   "cell_type": "code",
   "execution_count": 28,
   "id": "3dccadf6-4079-46a4-81bf-6911c6f37bfe",
   "metadata": {},
   "outputs": [
    {
     "name": "stdout",
     "output_type": "stream",
     "text": [
      "          * \n",
      "        * * * \n",
      "      * * * * * \n",
      "    * * * * * * * \n",
      "  * * * * * * * * * \n"
     ]
    }
   ],
   "source": [
    "n=5\n",
    "for i in range(5):\n",
    "    for j in range(i,n):\n",
    "        print(\" \",end=\" \")\n",
    "    for j in range(0,i):\n",
    "        print(\"*\",end=\" \")\n",
    "    for j in range(i+1):\n",
    "        print(\"*\",end=\" \")\n",
    "    print()"
   ]
  },
  {
   "cell_type": "code",
   "execution_count": 32,
   "id": "a00e27cf-bf1a-4d78-bf14-f128798afa6c",
   "metadata": {},
   "outputs": [
    {
     "name": "stdout",
     "output_type": "stream",
     "text": [
      "  * * * * * * * * * \n",
      "    * * * * * * * \n",
      "      * * * * * \n",
      "        * * * \n",
      "          * \n"
     ]
    }
   ],
   "source": [
    "n=5\n",
    "for i in range(5):\n",
    "    for j in range(i+1):\n",
    "        print(\" \",end=\" \")\n",
    "    for j in range(i,n-1):\n",
    "        print(\"*\",end=\" \")\n",
    "    for j in range(i,n):\n",
    "        print(\"*\",end=\" \")\n",
    "    print()"
   ]
  },
  {
   "cell_type": "code",
   "execution_count": 2,
   "id": "e3e61e73-f3e3-4bc4-b592-e149d06e9395",
   "metadata": {},
   "outputs": [
    {
     "name": "stdout",
     "output_type": "stream",
     "text": [
      "          * \n",
      "        * * * \n",
      "      * * * * * \n",
      "    * * * * * * * \n",
      "  * * * * * * * * * \n",
      "    * * * * * * * \n",
      "      * * * * * \n",
      "        * * * \n",
      "          * \n"
     ]
    }
   ],
   "source": [
    "n=5\n",
    "for i in range(4):\n",
    "    for j in range(i,n):\n",
    "        print(\" \",end=\" \")\n",
    "    for j in range(0,i):\n",
    "        print(\"*\",end=\" \")\n",
    "    for j in range(i+1):\n",
    "        print(\"*\",end=\" \")\n",
    "    print()\n",
    "\n",
    "for i in range(5):\n",
    "    for j in range(i+1):\n",
    "        print(\" \",end=\" \")\n",
    "    for j in range(i,n-1):\n",
    "        print(\"*\",end=\" \")\n",
    "    for j in range(i,n):\n",
    "        print(\"*\",end=\" \")\n",
    "    print()"
   ]
  },
  {
   "cell_type": "code",
   "execution_count": 29,
   "id": "ca4e0647-830e-4c62-84b4-15611bcbd8d2",
   "metadata": {},
   "outputs": [],
   "source": [
    "# https://www.youtube.com/watch?v=fX64q6sYom0"
   ]
  },
  {
   "cell_type": "code",
   "execution_count": null,
   "id": "7f03655f-1083-4026-9b51-3cc8548dbcee",
   "metadata": {},
   "outputs": [],
   "source": []
  },
  {
   "cell_type": "code",
   "execution_count": null,
   "id": "9fefe839-e567-4413-b9ce-dd0042402999",
   "metadata": {},
   "outputs": [],
   "source": []
  },
  {
   "cell_type": "code",
   "execution_count": null,
   "id": "56bd69f6-a9f8-4f58-9fbc-7f387e85ab0d",
   "metadata": {},
   "outputs": [],
   "source": []
  },
  {
   "cell_type": "code",
   "execution_count": null,
   "id": "92442971-d7bd-4f42-bef6-53bf84e7af8b",
   "metadata": {},
   "outputs": [],
   "source": []
  }
 ],
 "metadata": {
  "kernelspec": {
   "display_name": "Python 3 (ipykernel)",
   "language": "python",
   "name": "python3"
  },
  "language_info": {
   "codemirror_mode": {
    "name": "ipython",
    "version": 3
   },
   "file_extension": ".py",
   "mimetype": "text/x-python",
   "name": "python",
   "nbconvert_exporter": "python",
   "pygments_lexer": "ipython3",
   "version": "3.11.2"
  }
 },
 "nbformat": 4,
 "nbformat_minor": 5
}
